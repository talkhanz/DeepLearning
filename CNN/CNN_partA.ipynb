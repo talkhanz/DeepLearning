{
  "nbformat": 4,
  "nbformat_minor": 2,
  "metadata": {
    "coursera": {
      "course_slug": "convolutional-neural-networks",
      "graded_item_id": "qO8ng",
      "launcher_item_id": "7XDi8"
    },
    "kernelspec": {
      "display_name": "Python 3",
      "language": "python",
      "name": "python3"
    },
    "language_info": {
      "codemirror_mode": {
        "name": "ipython",
        "version": 3
      },
      "file_extension": ".py",
      "mimetype": "text/x-python",
      "name": "python",
      "nbconvert_exporter": "python",
      "pygments_lexer": "ipython3",
      "version": "3.7.2"
    },
    "colab": {
      "name": "DL_21100313_PA3_PartA.ipynb",
      "provenance": []
    }
  },
  "cells": [
    {
      "cell_type": "markdown",
      "source": [
        "# Assignment 3 - Part A\n"
      ],
      "metadata": {
        "id": "PaM-boXkIWO_"
      }
    },
    {
      "cell_type": "markdown",
      "source": [
        "## Convolutional Neural Networks using NumPy"
      ],
      "metadata": {
        "id": "5Nop2bC7IWPF"
      }
    },
    {
      "cell_type": "code",
      "execution_count": null,
      "source": [
        "import numpy as np\n",
        "import h5py\n",
        "import matplotlib.pyplot as plt\n",
        "\n",
        "%matplotlib inline\n",
        "plt.rcParams['figure.figsize'] = (5.0, 4.0) # set default size of plots\n",
        "plt.rcParams['image.interpolation'] = 'nearest'\n",
        "plt.rcParams['image.cmap'] = 'gray'\n",
        "\n",
        "%load_ext autoreload\n",
        "%autoreload 2\n",
        "\n",
        "np.random.seed(1)"
      ],
      "outputs": [],
      "metadata": {
        "id": "H0MeHz6MIWPG"
      }
    },
    {
      "cell_type": "markdown",
      "source": [
        "### 2 - Outline\n",
        "\n",
        "\n",
        "In Part A, you will be implementing the building blocks of a convolutional neural network. You will be implementing the following functions:\n",
        "\n",
        "- Convolution functions:\n",
        "    - Zero Padding\n",
        "    - Convolve Window\n",
        "    - Convolution Forwward Pass\n",
        "    - Convolution Backward Pass\n",
        "\n",
        "**Note** that for every forward function, there is its corresponding backward equivalent. Hence, at every step of your forward module you will store some parameters in a cache. These parameters are used to compute gradients during backpropagation."
      ],
      "metadata": {
        "heading_collapsed": true,
        "id": "jfW_OztcIWPG"
      }
    },
    {
      "cell_type": "markdown",
      "source": [
        "### 3 - Convolutional Neural Networks\n",
        "Like Assignment 1, in this part you will be implementing forward and backward pass in NumPy. You will build every step of the convolution layer. You will first implement two helper functions: one for zero padding and the other for computing the convolution function itself. "
      ],
      "metadata": {
        "id": "KZyzYSa4IWPH"
      }
    },
    {
      "cell_type": "markdown",
      "source": [
        "#### 3.1 - Zero-Padding\n",
        "\n",
        "Zero-padding adds zeros around the border of an image:\n",
        "\n",
        "The main benefits of padding are the following:\n",
        "\n",
        "- It allows you to use a CONV layer without necessarily shrinking the height and width of the volumes. This is important for building deeper networks, since otherwise the height/width would shrink as you go to deeper layers. An important special case is the \"same\" convolution, in which the height/width is exactly preserved after one layer. \n",
        "\n",
        "- It helps us keep more of the information at the border of an image. Without padding, very few values at the next layer would be affected by pixels as the edges of an image.\n",
        "\n",
        "\n",
        "Implement the <code>zero_pad</code> function which will pad **ALL images of a BATCH of a dataset X with zeros**. Use <code>np.pad</code> to do this (Look up the documentation to figure out the arguments for padding)"
      ],
      "metadata": {
        "id": "UkaAgnYZIWPI"
      }
    },
    {
      "cell_type": "code",
      "execution_count": null,
      "source": [
        "help(np.pad)"
      ],
      "outputs": [
        {
          "output_type": "stream",
          "name": "stdout",
          "text": [
            "Help on function pad in module numpy:\n",
            "\n",
            "pad(array, pad_width, mode='constant', **kwargs)\n",
            "    Pad an array.\n",
            "    \n",
            "    Parameters\n",
            "    ----------\n",
            "    array : array_like of rank N\n",
            "        The array to pad.\n",
            "    pad_width : {sequence, array_like, int}\n",
            "        Number of values padded to the edges of each axis.\n",
            "        ((before_1, after_1), ... (before_N, after_N)) unique pad widths\n",
            "        for each axis.\n",
            "        ((before, after),) yields same before and after pad for each axis.\n",
            "        (pad,) or int is a shortcut for before = after = pad width for all\n",
            "        axes.\n",
            "    mode : str or function, optional\n",
            "        One of the following string values or a user supplied function.\n",
            "    \n",
            "        'constant' (default)\n",
            "            Pads with a constant value.\n",
            "        'edge'\n",
            "            Pads with the edge values of array.\n",
            "        'linear_ramp'\n",
            "            Pads with the linear ramp between end_value and the\n",
            "            array edge value.\n",
            "        'maximum'\n",
            "            Pads with the maximum value of all or part of the\n",
            "            vector along each axis.\n",
            "        'mean'\n",
            "            Pads with the mean value of all or part of the\n",
            "            vector along each axis.\n",
            "        'median'\n",
            "            Pads with the median value of all or part of the\n",
            "            vector along each axis.\n",
            "        'minimum'\n",
            "            Pads with the minimum value of all or part of the\n",
            "            vector along each axis.\n",
            "        'reflect'\n",
            "            Pads with the reflection of the vector mirrored on\n",
            "            the first and last values of the vector along each\n",
            "            axis.\n",
            "        'symmetric'\n",
            "            Pads with the reflection of the vector mirrored\n",
            "            along the edge of the array.\n",
            "        'wrap'\n",
            "            Pads with the wrap of the vector along the axis.\n",
            "            The first values are used to pad the end and the\n",
            "            end values are used to pad the beginning.\n",
            "        'empty'\n",
            "            Pads with undefined values.\n",
            "    \n",
            "            .. versionadded:: 1.17\n",
            "    \n",
            "        <function>\n",
            "            Padding function, see Notes.\n",
            "    stat_length : sequence or int, optional\n",
            "        Used in 'maximum', 'mean', 'median', and 'minimum'.  Number of\n",
            "        values at edge of each axis used to calculate the statistic value.\n",
            "    \n",
            "        ((before_1, after_1), ... (before_N, after_N)) unique statistic\n",
            "        lengths for each axis.\n",
            "    \n",
            "        ((before, after),) yields same before and after statistic lengths\n",
            "        for each axis.\n",
            "    \n",
            "        (stat_length,) or int is a shortcut for before = after = statistic\n",
            "        length for all axes.\n",
            "    \n",
            "        Default is ``None``, to use the entire axis.\n",
            "    constant_values : sequence or scalar, optional\n",
            "        Used in 'constant'.  The values to set the padded values for each\n",
            "        axis.\n",
            "    \n",
            "        ``((before_1, after_1), ... (before_N, after_N))`` unique pad constants\n",
            "        for each axis.\n",
            "    \n",
            "        ``((before, after),)`` yields same before and after constants for each\n",
            "        axis.\n",
            "    \n",
            "        ``(constant,)`` or ``constant`` is a shortcut for ``before = after = constant`` for\n",
            "        all axes.\n",
            "    \n",
            "        Default is 0.\n",
            "    end_values : sequence or scalar, optional\n",
            "        Used in 'linear_ramp'.  The values used for the ending value of the\n",
            "        linear_ramp and that will form the edge of the padded array.\n",
            "    \n",
            "        ``((before_1, after_1), ... (before_N, after_N))`` unique end values\n",
            "        for each axis.\n",
            "    \n",
            "        ``((before, after),)`` yields same before and after end values for each\n",
            "        axis.\n",
            "    \n",
            "        ``(constant,)`` or ``constant`` is a shortcut for ``before = after = constant`` for\n",
            "        all axes.\n",
            "    \n",
            "        Default is 0.\n",
            "    reflect_type : {'even', 'odd'}, optional\n",
            "        Used in 'reflect', and 'symmetric'.  The 'even' style is the\n",
            "        default with an unaltered reflection around the edge value.  For\n",
            "        the 'odd' style, the extended part of the array is created by\n",
            "        subtracting the reflected values from two times the edge value.\n",
            "    \n",
            "    Returns\n",
            "    -------\n",
            "    pad : ndarray\n",
            "        Padded array of rank equal to `array` with shape increased\n",
            "        according to `pad_width`.\n",
            "    \n",
            "    Notes\n",
            "    -----\n",
            "    .. versionadded:: 1.7.0\n",
            "    \n",
            "    For an array with rank greater than 1, some of the padding of later\n",
            "    axes is calculated from padding of previous axes.  This is easiest to\n",
            "    think about with a rank 2 array where the corners of the padded array\n",
            "    are calculated by using padded values from the first axis.\n",
            "    \n",
            "    The padding function, if used, should modify a rank 1 array in-place. It\n",
            "    has the following signature::\n",
            "    \n",
            "        padding_func(vector, iaxis_pad_width, iaxis, kwargs)\n",
            "    \n",
            "    where\n",
            "    \n",
            "        vector : ndarray\n",
            "            A rank 1 array already padded with zeros.  Padded values are\n",
            "            vector[:iaxis_pad_width[0]] and vector[-iaxis_pad_width[1]:].\n",
            "        iaxis_pad_width : tuple\n",
            "            A 2-tuple of ints, iaxis_pad_width[0] represents the number of\n",
            "            values padded at the beginning of vector where\n",
            "            iaxis_pad_width[1] represents the number of values padded at\n",
            "            the end of vector.\n",
            "        iaxis : int\n",
            "            The axis currently being calculated.\n",
            "        kwargs : dict\n",
            "            Any keyword arguments the function requires.\n",
            "    \n",
            "    Examples\n",
            "    --------\n",
            "    >>> a = [1, 2, 3, 4, 5]\n",
            "    >>> np.pad(a, (2, 3), 'constant', constant_values=(4, 6))\n",
            "    array([4, 4, 1, ..., 6, 6, 6])\n",
            "    \n",
            "    >>> np.pad(a, (2, 3), 'edge')\n",
            "    array([1, 1, 1, ..., 5, 5, 5])\n",
            "    \n",
            "    >>> np.pad(a, (2, 3), 'linear_ramp', end_values=(5, -4))\n",
            "    array([ 5,  3,  1,  2,  3,  4,  5,  2, -1, -4])\n",
            "    \n",
            "    >>> np.pad(a, (2,), 'maximum')\n",
            "    array([5, 5, 1, 2, 3, 4, 5, 5, 5])\n",
            "    \n",
            "    >>> np.pad(a, (2,), 'mean')\n",
            "    array([3, 3, 1, 2, 3, 4, 5, 3, 3])\n",
            "    \n",
            "    >>> np.pad(a, (2,), 'median')\n",
            "    array([3, 3, 1, 2, 3, 4, 5, 3, 3])\n",
            "    \n",
            "    >>> a = [[1, 2], [3, 4]]\n",
            "    >>> np.pad(a, ((3, 2), (2, 3)), 'minimum')\n",
            "    array([[1, 1, 1, 2, 1, 1, 1],\n",
            "           [1, 1, 1, 2, 1, 1, 1],\n",
            "           [1, 1, 1, 2, 1, 1, 1],\n",
            "           [1, 1, 1, 2, 1, 1, 1],\n",
            "           [3, 3, 3, 4, 3, 3, 3],\n",
            "           [1, 1, 1, 2, 1, 1, 1],\n",
            "           [1, 1, 1, 2, 1, 1, 1]])\n",
            "    \n",
            "    >>> a = [1, 2, 3, 4, 5]\n",
            "    >>> np.pad(a, (2, 3), 'reflect')\n",
            "    array([3, 2, 1, 2, 3, 4, 5, 4, 3, 2])\n",
            "    \n",
            "    >>> np.pad(a, (2, 3), 'reflect', reflect_type='odd')\n",
            "    array([-1,  0,  1,  2,  3,  4,  5,  6,  7,  8])\n",
            "    \n",
            "    >>> np.pad(a, (2, 3), 'symmetric')\n",
            "    array([2, 1, 1, 2, 3, 4, 5, 5, 4, 3])\n",
            "    \n",
            "    >>> np.pad(a, (2, 3), 'symmetric', reflect_type='odd')\n",
            "    array([0, 1, 1, 2, 3, 4, 5, 5, 6, 7])\n",
            "    \n",
            "    >>> np.pad(a, (2, 3), 'wrap')\n",
            "    array([4, 5, 1, 2, 3, 4, 5, 1, 2, 3])\n",
            "    \n",
            "    >>> def pad_with(vector, pad_width, iaxis, kwargs):\n",
            "    ...     pad_value = kwargs.get('padder', 10)\n",
            "    ...     vector[:pad_width[0]] = pad_value\n",
            "    ...     vector[-pad_width[1]:] = pad_value\n",
            "    >>> a = np.arange(6)\n",
            "    >>> a = a.reshape((2, 3))\n",
            "    >>> np.pad(a, 2, pad_with)\n",
            "    array([[10, 10, 10, 10, 10, 10, 10],\n",
            "           [10, 10, 10, 10, 10, 10, 10],\n",
            "           [10, 10,  0,  1,  2, 10, 10],\n",
            "           [10, 10,  3,  4,  5, 10, 10],\n",
            "           [10, 10, 10, 10, 10, 10, 10],\n",
            "           [10, 10, 10, 10, 10, 10, 10]])\n",
            "    >>> np.pad(a, 2, pad_with, padder=100)\n",
            "    array([[100, 100, 100, 100, 100, 100, 100],\n",
            "           [100, 100, 100, 100, 100, 100, 100],\n",
            "           [100, 100,   0,   1,   2, 100, 100],\n",
            "           [100, 100,   3,   4,   5, 100, 100],\n",
            "           [100, 100, 100, 100, 100, 100, 100],\n",
            "           [100, 100, 100, 100, 100, 100, 100]])\n",
            "\n"
          ]
        }
      ],
      "metadata": {
        "id": "WIUHfXhjIWPI",
        "colab": {
          "base_uri": "https://localhost:8080/"
        },
        "outputId": "275e041f-2043-4fb8-951b-c4b47c9ba7f6"
      }
    },
    {
      "cell_type": "code",
      "execution_count": null,
      "source": [
        "def zero_pad(X, pad):\n",
        "    \"\"\"\n",
        "    Arguments:\n",
        "    X -- python numpy array of shape (m, n_H, n_W, n_C) representing a batch of m images\n",
        "    pad -- integer, amount of padding around each image on vertical and horizontal dimensions\n",
        "    \"\"\"\n",
        "    X_pad = np.pad(X,((0,0),(pad,pad),(pad,pad),(0,0)),'constant',constant_values = (0,0))\n",
        "  \n",
        "    return X_pad"
      ],
      "outputs": [],
      "metadata": {
        "id": "IjrZf_iqIWPJ"
      }
    },
    {
      "cell_type": "code",
      "execution_count": null,
      "source": [
        "np.random.seed(1)\n",
        "x = np.random.randn(4, 3, 3, 2)\n",
        "x_pad = zero_pad(x, 2)\n",
        "\n",
        "print(\"Shape of x_pad: \", x_pad.shape)\n",
        "\n",
        "fig, axarr = plt.subplots(1, 2)\n",
        "axarr[0].set_title('x')\n",
        "axarr[0].imshow(x[0,:,:,0])\n",
        "axarr[1].set_title('x_pad')\n",
        "axarr[1].imshow(x_pad[0,:,:,0])"
      ],
      "outputs": [
        {
          "output_type": "stream",
          "name": "stdout",
          "text": [
            "Shape of x_pad:  (4, 7, 7, 2)\n"
          ]
        },
        {
          "output_type": "execute_result",
          "data": {
            "text/plain": [
              "<matplotlib.image.AxesImage at 0x7f1bc5436550>"
            ]
          },
          "metadata": {
            "tags": []
          },
          "execution_count": 3
        },
        {
          "output_type": "display_data",
          "data": {
            "text/plain": [
              "<Figure size 360x288 with 2 Axes>"
            ],
            "image/png": "[encoded data removed]"
          },
          "metadata": {
            "tags": [],
            "needs_background": "light"
          }
        }
      ],
      "metadata": {
        "id": "NaWXmaPAIWPJ",
        "colab": {
          "base_uri": "https://localhost:8080/",
          "height": 227
        },
        "outputId": "a220afb7-e51f-4673-9bc3-36be59ae0563"
      }
    },
    {
      "cell_type": "markdown",
      "source": [
        "**Expected Output**:\n",
        "<table>\n",
        "    <tr>\n",
        "        <td>\n",
        "            <strong>x_pad.shape</strong>\n",
        "        </td>\n",
        "        <td>\n",
        "            (4,7,7,2)\n",
        "        </td>\n",
        "    </tr>\n",
        "\n",
        "</table>"
      ],
      "metadata": {
        "id": "4BATY1T7IWPJ"
      }
    },
    {
      "cell_type": "markdown",
      "source": [
        "#### 3.2 - Single step of convolution \n",
        "\n",
        "In this part, implement a single step of convolution, in which you apply the filter to a **single position of the input**. This will be used to build a convolutional unit, which: \n",
        "\n",
        "- Takes an input volume \n",
        "- Applies a filter at every position of the input\n",
        "- Outputs another volume (usually of different size)"
      ],
      "metadata": {
        "id": "5S0_xi7QIWPJ"
      }
    },
    {
      "cell_type": "code",
      "execution_count": null,
      "source": [
        "def conv_single_step(a_slice_prev, W, b):\n",
        "    \"\"\"\n",
        "    Arguments:\n",
        "    a_slice_prev -- slice of input data of shape (f, f, n_C_prev)\n",
        "    W -- Weight parameters contained in a window - matrix of shape (f, f, n_C_prev)\n",
        "    b -- Bias parameters contained in a window - matrix of shape (1, 1, 1)\n",
        "    \"\"\"\n",
        "    R = np.multiply(a_slice_prev,W)\n",
        "    Z = np.sum(R) + b\n",
        "    return Z"
      ],
      "outputs": [],
      "metadata": {
        "id": "tPNY7PCbIWPK"
      }
    },
    {
      "cell_type": "code",
      "execution_count": null,
      "source": [
        "np.random.seed(1)\n",
        "a_slice_prev = np.random.randn(4, 4, 3)\n",
        "W = np.random.randn(4, 4, 3)\n",
        "b = np.random.randn(1, 1, 1)\n",
        "\n",
        "Z = conv_single_step(a_slice_prev, W, b)\n",
        "print(\"Z =\", Z)"
      ],
      "outputs": [
        {
          "output_type": "stream",
          "name": "stdout",
          "text": [
            "Z = [[[-6.99908945]]]\n"
          ]
        }
      ],
      "metadata": {
        "id": "3qsHNpQkIWPK",
        "colab": {
          "base_uri": "https://localhost:8080/"
        },
        "outputId": "6ab9ae76-3475-4ddd-a726-3ba877fb2428"
      }
    },
    {
      "cell_type": "markdown",
      "source": [
        "**Expected Output**:\n",
        "<table>\n",
        "    <tr>\n",
        "        <td>\n",
        "            <strong>Z</strong>\n",
        "        </td>\n",
        "        <td>\n",
        "            -6.99908945068\n",
        "        </td>\n",
        "    </tr>\n",
        "\n",
        "</table>"
      ],
      "metadata": {
        "id": "ZWfFkw65IWPK"
      }
    },
    {
      "cell_type": "markdown",
      "source": [
        "#### 3.3 - Convolutional Neural Networks - Forward pass\n",
        "\n",
        "In the forward pass, you will take many filters and convolve them on the input. Each 'convolution' gives you a 2D matrix output. You will then stack these outputs to get a 3D volume: \n",
        "\n",
        "Implement the function below to convolve the filters W on an input activation A_prev. This function takes as input A_prev, the activations output by the previous layer (for a batch of m inputs), F filters/weights denoted by W, and a bias vector denoted by b, where each filter has its own (single) bias. Finally you also have access to the hyperparameters dictionary which contains the stride and the padding. \n",
        "\n",
        "For this assignment, we won't worry about vectorization, and will just implement everything with for-loops."
      ],
      "metadata": {
        "collapsed": true,
        "id": "jQQx6H5rIWPK"
      }
    },
    {
      "cell_type": "code",
      "execution_count": null,
      "source": [
        "def conv_forward(A_prev, W, b, hparameters):\n",
        "    \"\"\"\n",
        "    Arguments:\n",
        "    A_prev -- output activations of the previous layer, numpy array of shape (m, n_H_prev, n_W_prev, n_C_prev)\n",
        "    W -- Weights, numpy array of shape (f, f, n_C_prev, n_C)\n",
        "    b -- Biases, numpy array of shape (1, 1, 1, n_C)\n",
        "    hparameters -- python dictionary containing \"stride\" and \"pad\"\n",
        "    \"\"\"\n",
        "    # Retrieve information from \"hparameters\"\n",
        "    stride = hparameters['stride']\n",
        "    pad = hparameters['pad']\n",
        "    \n",
        "    # Retrieve dimensions from A_prev's shape\n",
        "    (m, n_H_prev, n_W_prev, n_C_prev) = A_prev.shape\n",
        "    \n",
        "    # Retrieve dimensions from W's shape\n",
        "    (f, f, n_C_prev, n_C) = W.shape\n",
        "    \n",
        "    ########## START CODE HERE ##########\n",
        "    # Compute the dimensions of the CONV output volume (Hint: use int() to floor the output)\n",
        "    n_H = int((n_H_prev - f + 2*pad)/ stride + 1)\n",
        "    n_W = int((n_W_prev - f + 2*pad)/ stride + 1)\n",
        "    \n",
        "    # Initialize the output volume Z with zeros\n",
        "    Z = np.zeros((m,n_H,n_W,n_C))\n",
        "    \n",
        "    # Create A_prev_pad by padding A_prev\n",
        "    A_prev_pad = zero_pad(A_prev,pad)\n",
        "    \n",
        "    # Iterate over EACH training example and compute its Convolved output (z) and store it appropriately in Z.\n",
        "    # Hint: Within the nested for loop you need to:\n",
        "    #              1) Select current training examples appropriate padded activation\n",
        "    #              2) Identify corner points of the current \"slice\" \n",
        "    #              3) Use these corners to extract a 3D slice from the padded input \n",
        "    #              4) Convolve this 3D slice with the appropriate filter and bias to get the output.\n",
        "    for i in range(m):\n",
        "      a_prev_pad = A_prev_pad[i,:,:,] # get current training example\n",
        "      for j in range(n_H): # looping downwards\n",
        "        for k in range(n_W): # looping sideways\n",
        "          for l in range(n_C): #looping in depth\n",
        "            slice_corner_top_left = j * stride\n",
        "            slice_corner_top_right  = j * stride + f\n",
        "            slice_corner_bottom_left = k*stride\n",
        "            slice_corner_bottom_right = k*stride + f\n",
        "            a_slice_prev = a_prev_pad[slice_corner_top_left:slice_corner_top_right,slice_corner_bottom_left:slice_corner_bottom_right:,]\n",
        "            z = conv_single_step(a_slice_prev,W[:,:,:,l],b[:,:,:,l]) # getting the weights and bias for current channel\n",
        "            Z[i,j,k,l] = z\n",
        "            \n",
        "    ########## END CODE HERE ##########\n",
        "    \n",
        "    # Save information in \"cache\" for the backprop\n",
        "    cache = (A_prev, W, b, hparameters)\n",
        "    \n",
        "    return Z, cache"
      ],
      "outputs": [],
      "metadata": {
        "id": "4aWSj0ZIIWPL"
      }
    },
    {
      "cell_type": "code",
      "execution_count": null,
      "source": [
        "np.random.seed(1)\n",
        "A_prev = np.random.randn(10,4,4,3)\n",
        "W = np.random.randn(2,2,3,8)\n",
        "b = np.random.randn(1,1,1,8)\n",
        "hparameters = {\"pad\" : 2,\n",
        "               \"stride\": 2}\n",
        "\n",
        "Z, cache_conv = conv_forward(A_prev, W, b, hparameters)\n",
        "print(\"Z's mean =\", np.mean(Z))\n",
        "print(\"Z[3,2,1] =\", Z[3,2,1])\n",
        "print(\"cache_conv[0][1][2][3] =\", cache_conv[0][1][2][3])"
      ],
      "outputs": [
        {
          "output_type": "stream",
          "name": "stdout",
          "text": [
            "Z's mean = 0.048995203528855794\n",
            "Z[3,2,1] = [-0.61490741 -6.7439236  -2.55153897  1.75698377  3.56208902  0.53036437\n",
            "  5.18531798  8.75898442]\n",
            "cache_conv[0][1][2][3] = [-0.20075807  0.18656139  0.41005165]\n"
          ]
        }
      ],
      "metadata": {
        "id": "ysxseQMnIWPL",
        "colab": {
          "base_uri": "https://localhost:8080/"
        },
        "outputId": "c769b7d2-b1c6-41e0-801a-eeb69d721761"
      }
    },
    {
      "cell_type": "markdown",
      "source": [
        "<strong>Expected Output<strong>:\n",
        "\n",
        "<table>\n",
        "    <tr>\n",
        "        <td>\n",
        "            <strong>Z's mean<strong>\n",
        "        </td>\n",
        "        <td>\n",
        "            0.0489952035289\n",
        "        </td>\n",
        "    </tr>\n",
        "    <tr>\n",
        "        <td>\n",
        "            <strong>Z[3,2,1]<strong>\n",
        "        </td>\n",
        "        <td>\n",
        "            [-0.61490741 -6.7439236  -2.55153897  1.75698377  3.56208902  0.53036437\n",
        "  5.18531798  8.75898442]\n",
        "        </td>\n",
        "    </tr>\n",
        "    <tr>\n",
        "        <td>\n",
        "            <strong>cache_conv[0][1][2][3]<strong>\n",
        "        </td>\n",
        "        <td>\n",
        "            [-0.20075807  0.18656139  0.41005165]\n",
        "        </td>\n",
        "    </tr>\n",
        "\n",
        "</table>\n"
      ],
      "metadata": {
        "id": "Cq8drBTcIWPM"
      }
    },
    {
      "cell_type": "markdown",
      "source": [
        "**Question**: How would you change the code to apply MaxPooling to the outputs? (Your answer must contain a code snippet and an explanation of its integration with <code>conv_forward</code>)    \n",
        "Answer: *We simply take the maximum value from a_slice_prev and store it in Z.*"
      ],
      "metadata": {
        "id": "cRkoBNyRIWPM"
      }
    },
    {
      "cell_type": "code",
      "execution_count": null,
      "source": [
        "def max_pooling(a_slice_prev):\r\n",
        "  return np.max(a_slice_prev)\r\n",
        "def conv_forward_with_max_pooling(A_prev, W, b, hparameters):\r\n",
        "    \"\"\"\r\n",
        "    Arguments:\r\n",
        "    A_prev -- output activations of the previous layer, numpy array of shape (m, n_H_prev, n_W_prev, n_C_prev)\r\n",
        "    W -- Weights, numpy array of shape (f, f, n_C_prev, n_C)\r\n",
        "    b -- Biases, numpy array of shape (1, 1, 1, n_C)\r\n",
        "    hparameters -- python dictionary containing \"stride\" and \"pad\"\r\n",
        "    \"\"\"\r\n",
        "    # Retrieve information from \"hparameters\"\r\n",
        "    stride = hparameters['stride']\r\n",
        "    pad = hparameters['pad']\r\n",
        "    \r\n",
        "    # Retrieve dimensions from A_prev's shape\r\n",
        "    (m, n_H_prev, n_W_prev, n_C_prev) = A_prev.shape\r\n",
        "    \r\n",
        "    # Retrieve dimensions from W's shape\r\n",
        "    (f, f, n_C_prev, n_C) = W.shape\r\n",
        "    \r\n",
        "    ########## START CODE HERE ##########\r\n",
        "    # Compute the dimensions of the CONV output volume (Hint: use int() to floor the output)\r\n",
        "    n_H = int((n_H_prev - f + 2*pad)/ stride + 1)\r\n",
        "    n_W = int((n_W_prev - f + 2*pad)/ stride + 1)\r\n",
        "    \r\n",
        "    # Initialize the output volume Z with zeros\r\n",
        "    Z = np.zeros((m,n_H,n_W,n_C))\r\n",
        "    \r\n",
        "    # Create A_prev_pad by padding A_prev\r\n",
        "    A_prev_pad = zero_pad(A_prev,pad)\r\n",
        "    \r\n",
        "    # Iterate over EACH training example and compute its Convolved output (z) and store it appropriately in Z.\r\n",
        "    # Hint: Within the nested for loop you need to:\r\n",
        "    #              1) Select current training examples appropriate padded activation\r\n",
        "    #              2) Identify corner points of the current \"slice\" \r\n",
        "    #              3) Use these corners to extract a 3D slice from the padded input \r\n",
        "    #              4) Convolve this 3D slice with the appropriate filter and bias to get the output.\r\n",
        "    for i in range(m):\r\n",
        "      a_prev_pad = A_prev_pad[i,:,:,] # get current training example\r\n",
        "      for j in range(n_H): # looping downwards\r\n",
        "        for k in range(n_W): # looping sideways\r\n",
        "          for l in range(n_C): #looping in depth\r\n",
        "            slice_corner_top_left = j * stride\r\n",
        "            slice_corner_top_right  = j * stride + f\r\n",
        "            slice_corner_bottom_left = k*stride\r\n",
        "            slice_corner_bottom_right = k*stride + f\r\n",
        "            a_slice_prev = a_prev_pad[slice_corner_top_left:slice_corner_top_right,slice_corner_bottom_left:slice_corner_bottom_right:,]\r\n",
        "            z = max_pooling(a_slice_prev) # this is where max_pooling is integrated\r\n",
        "            Z[i,j,k,l] = z\r\n",
        "            \r\n",
        "    ########## END CODE HERE ##########\r\n",
        "    \r\n",
        "    # Save information in \"cache\" for the backprop\r\n",
        "    cache = (A_prev, W, b, hparameters)\r\n",
        "    \r\n",
        "    return Z, cache"
      ],
      "outputs": [],
      "metadata": {
        "id": "yN2rJbu29MY0"
      }
    },
    {
      "cell_type": "markdown",
      "source": [
        "### 5 - Backpropagation in convolutional neural networks\n",
        "\n",
        "Brace yourself, you're about to implement backward pass for Convolutional layers using NumPy. Although it is tricky, it will help solidify your concepts a lot before you move on to libraries like TensorFlow which compute the backward pass automatically. You don't have to worry that much since we're providing you with the backpropogation equations (again)\n",
        "\n",
        "### 5.1 - Convolutional layer backward pass    \n",
        "<br>\n",
        "\n",
        "#### 5.1.1 - Computing dA:\n",
        "This is the formula for computing $dA$ with respect to the cost for a certain filter $W_c$ and a given training example:\n",
        "\n",
        "$$ dA += \\sum _{h=0} ^{n_H} \\sum_{w=0} ^{n_W} W_c \\times dZ_{hw} \\tag{1}$$\n",
        "\n",
        "Where $W_c$ is a filter and $dZ_{hw}$ is a scalar corresponding to the gradient of the cost with respect to the output of the conv layer Z at the hth row and wth column. Note that at each time, we multiply the the same filter $W_c$ by a different dZ when updating dA. We do so mainly because when computing the forward propagation, each filter is dotted and summed by a different a_slice. Therefore when computing the backprop for dA, we are just adding the gradients of all the a_slices. \n",
        "\n",
        "#### 5.1.2 - Computing dW:\n",
        "This is the formula for computing $dW_c$ ($dW_c$ is the derivative of one filter) with respect to the loss:\n",
        "\n",
        "$$ dW_c  += \\sum _{h=0} ^{n_H} \\sum_{w=0} ^ {n_W} a_{slice} \\times dZ_{hw}  \\tag{2}$$\n",
        "\n",
        "Where $a_{slice}$ corresponds to the slice which was used to generate the acitivation $Z_{ij}$. Hence, this ends up giving us the gradient for $W$ with respect to that slice. Since it is the same $W$, we will just add up all such gradients to get $dW$. \n",
        "\n",
        "#### 5.1.3 - Computing db:\n",
        "\n",
        "This is the formula for computing $db$ with respect to the cost for a certain filter $W_c$:\n",
        "\n",
        "$$ db = \\sum_h \\sum_w dZ_{hw} \\tag{3}$$\n",
        "\n",
        "As you have previously seen in basic neural networks, db is computed by summing $dZ$. In this case, you are just summing over all the gradients of the conv output (Z) with respect to the cost. \n",
        "\n",
        "**Exercise**: Implement the `conv_backward` function below. You should sum over all the training examples, filters, heights, and widths. You should then compute the derivatives using formulas 1, 2 and 3 above."
      ],
      "metadata": {
        "id": "iwQi6AW9IWPM"
      }
    },
    {
      "cell_type": "code",
      "execution_count": null,
      "source": [
        "def conv_backward(dZ, cache):\n",
        "    \"\"\"\n",
        "    Implement the backward propagation for a convolution function\n",
        "    \n",
        "    Arguments:\n",
        "    dZ -- gradient of the cost with respect to the output of the conv layer (Z), numpy array of shape (m, n_H, n_W, n_C)\n",
        "    cache -- cache of values needed for the conv_backward(), output of conv_forward()\n",
        "    \n",
        "    Returns:\n",
        "    dA_prev -- gradient of the cost with respect to the input of the conv layer (A_prev),\n",
        "               numpy array of shape (m, n_H_prev, n_W_prev, n_C_prev)\n",
        "    dW -- gradient of the cost with respect to the weights of the conv layer (W)\n",
        "          numpy array of shape (f, f, n_C_prev, n_C)\n",
        "    db -- gradient of the cost with respect to the biases of the conv layer (b)\n",
        "          numpy array of shape (1, 1, 1, n_C)\n",
        "    \"\"\"\n",
        "    \n",
        "    # Retrieve information from \"cache\"\n",
        "    (A_prev, W, b, hparameters) = cache\n",
        "    \n",
        "    # Retrieve dimensions from A_prev's shape\n",
        "    (m, n_H_prev, n_W_prev, n_C_prev) = A_prev.shape\n",
        "    \n",
        "    # Retrieve dimensions from W's shape\n",
        "    (f, f, n_C_prev, n_C) = W.shape\n",
        "    \n",
        "    # Retrieve information from \"hparameters\"\n",
        "    stride = hparameters['stride']\n",
        "    pad = hparameters['pad']\n",
        "    \n",
        "    # Retrieve dimensions from dZ's shape\n",
        "    (m, n_H, n_W, n_C) = dZ.shape\n",
        "    \n",
        "    ### START CODE HERE ###\n",
        "    # Initialize dA_prev, dW, db (with the correct shapes) to zeros\n",
        "    dA_prev = np.zeros((m, n_H_prev, n_W_prev, n_C_prev))\n",
        "    dW = np.zeros((f, f, n_C_prev, n_C) )\n",
        "    db = np.zeros((1, 1, 1, n_C))\n",
        "\n",
        "    # Pad A_prev and dA_prev\n",
        "    A_prev_pad = zero_pad(A_prev,pad)\n",
        "    dA_prev_pad = zero_pad(dA_prev,pad)\n",
        "    \n",
        "    # Iterate over EACH training example and compute its Convolved output (z) and store it appropriately in Z.\n",
        "    # Hint: Within the nested for loop you need to:\n",
        "    #              1) Select appropriate slice from A_prev_pad and dA_prev_pad to update it\n",
        "    #              2) Identify corner points of the current \"slice\" \n",
        "    #              3) Use these corners to extract a 3D slice from the padded activation of the previous layer \n",
        "    #              4) Update gradients for the current window and the filter's parameters using the formulas given above\n",
        "    # IMPORTANT: Before moving on to the next training example, be sure to set the current training example's dA_prev to the UNPADDED da_prev_pad\n",
        "    # (Hint: Use the pad variable to index da_prev_pad)\n",
        "    for i in range(m):\n",
        "      a_prev_pad = A_prev_pad[i,:,:,] # get current training example\n",
        "      da_prev_pad =  dA_prev_pad[i,:,:,] \n",
        "      for j in range(n_H): # looping downwards\n",
        "        for k in range(n_W): # looping sideways\n",
        "          for l in range(n_C): #looping in depth\n",
        "            slice_corner_top_left = j * stride\n",
        "            slice_corner_top_right  = j * stride + f\n",
        "            slice_corner_bottom_left = k*stride\n",
        "            slice_corner_bottom_right = k*stride + f\n",
        "            a_slice_prev = a_prev_pad[slice_corner_top_left:slice_corner_top_right,slice_corner_bottom_left:slice_corner_bottom_right:,:]\n",
        "            Wc = W[:,:,:,l]\n",
        "            dZ_hw = dZ[i,j,k,l]\n",
        "            da_prev_pad[slice_corner_top_left:slice_corner_top_right,slice_corner_bottom_left:slice_corner_bottom_right:,:] += Wc * dZ_hw\n",
        "            dW[:,:,:,l] += a_slice_prev *dZ_hw \n",
        "            db[:,:,:,l] += dZ_hw \n",
        "      dA_prev[i,:,:,:] = da_prev_pad[pad:-pad,pad:-pad,:]\n",
        "\n",
        "    ### END CODE HERE ###\n",
        "    \n",
        "    return dA_prev, dW, db"
      ],
      "outputs": [],
      "metadata": {
        "id": "TwP5jrvTIWPN"
      }
    },
    {
      "cell_type": "code",
      "execution_count": null,
      "source": [
        "np.random.seed(1)\n",
        "dA, dW, db = conv_backward(Z, cache_conv)\n",
        "print(\"dA_mean =\", np.mean(dA))\n",
        "print(\"dW_mean =\", np.mean(dW))\n",
        "print(\"db_mean =\", np.mean(db))"
      ],
      "outputs": [
        {
          "output_type": "stream",
          "name": "stdout",
          "text": [
            "dA_mean = 1.4524377775388075\n",
            "dW_mean = 1.7269914583139097\n",
            "db_mean = 7.839232564616838\n"
          ]
        }
      ],
      "metadata": {
        "scrolled": true,
        "id": "kn7blIRbIWPO",
        "colab": {
          "base_uri": "https://localhost:8080/"
        },
        "outputId": "cfb72f70-d28d-44bb-8279-21810df424bb"
      }
    },
    {
      "cell_type": "markdown",
      "source": [
        "<strong> Expected Output: <strong>\n",
        "<table>\n",
        "    <tr>\n",
        "        <td>\n",
        "            <strong>dA_mean<strong>\n",
        "        </td>\n",
        "        <td>\n",
        "            1.45243777754\n",
        "        </td>\n",
        "    </tr>\n",
        "    <tr>\n",
        "        <td>\n",
        "            <strong>dW_mean<strong>\n",
        "        </td>\n",
        "        <td>\n",
        "            1.72699145831\n",
        "        </td>\n",
        "    </tr>\n",
        "    <tr>\n",
        "        <td>\n",
        "            <strong>db_mean<strong>\n",
        "        </td>\n",
        "        <td>\n",
        "            7.83923256462\n",
        "        </td>\n",
        "    </tr>\n",
        "\n",
        "</table>\n"
      ],
      "metadata": {
        "id": "_yx4oLgbIWPO"
      }
    }
  ]
}