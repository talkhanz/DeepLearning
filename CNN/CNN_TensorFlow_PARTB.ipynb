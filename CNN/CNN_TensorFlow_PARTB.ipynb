{
  "nbformat": 4,
  "nbformat_minor": 0,
  "metadata": {
    "colab": {
      "name": "DL_21100313_PA3_PartB_TensorFlow.ipynb",
      "provenance": [],
      "collapsed_sections": [],
      "toc_visible": true
    },
    "kernelspec": {
      "name": "python3",
      "display_name": "Python 3"
    },
    "accelerator": "GPU"
  },
  "cells": [
    {
      "cell_type": "markdown",
      "metadata": {
        "id": "oZYey2SB-Fkg"
      },
      "source": [
        "# Assignment 3  - Part B  - TensorFlow - Primary\r\n",
        "\r\n",
        "\r\n",
        "\r\n",
        "\r\n",
        "#### Roll Number:21100313"
      ]
    },
    {
      "cell_type": "markdown",
      "metadata": {
        "id": "M-XLCrk6-ZdU"
      },
      "source": [
        "You have a choice in Part B. You can either choose to do using TensorFlow or using Pytorch. Both are equally good and are widely used in industry.\r\n",
        "\r\n",
        "You are only required to do one of them. It's upto you to decide which one. However, you can also do both. In case you do both, you have to choose one as primary and and other one as secondary. Your primary one will be marked as normal and secondary one will marked for a 10% bonus.\r\n",
        "\r\n",
        "For example, if you do both and choose tensorflow as your primary attempt then you should primary in first heading of tensorflow notebook (Assignment 3  - Part B  - TensorFlow - Primary) and secondary (Assignment 3  - Part B  - Pytorch - Secondary) in pytorch notebook.\r\n",
        "\r\n",
        "In case, you only do one then you just need to submit that notebook."
      ]
    },
    {
      "cell_type": "markdown",
      "metadata": {
        "id": "onn5Uxj-K349"
      },
      "source": [
        "### Task Explanation"
      ]
    },
    {
      "cell_type": "markdown",
      "metadata": {
        "id": "iQ3Xoi9P-UzM"
      },
      "source": [
        "In this part we will implement, train and evaluate a neural network using tensorflow on wheat disease classification problem. \r\n",
        "\r\n",
        "Wheat rust is a devastating plant disease that affects many crops, reducing yields and affecting the livelihoods of farmers and decreasing food security across the continent. The disease is difficult to monitor at a large scale, making it difficult to control and eradicate.\r\n",
        "\r\n",
        "The objective of this challenge is to build a machine learning algorithm to correctly classify if a plant is healthy, has stem rust, or has leaf rust."
      ]
    },
    {
      "cell_type": "markdown",
      "metadata": {
        "id": "xV4Ov5bTMHTz"
      },
      "source": [
        "### Let's Start"
      ]
    },
    {
      "cell_type": "markdown",
      "metadata": {
        "id": "qYaJpilbMVdw"
      },
      "source": [
        "Make necessary imports here e.g. import cv2, import glob, etc"
      ]
    },
    {
      "cell_type": "code",
      "metadata": {
        "id": "KFtFdAki92gb"
      },
      "source": [
        "import cv2\r\n",
        "import os\r\n",
        "from glob import glob\r\n",
        "from pprint import pprint\r\n",
        "import numpy as np\r\n",
        "import keras\r\n",
        "import tensorflow as tf\r\n",
        "import matplotlib.pyplot as plt\r\n",
        "from tensorflow.keras.layers import Dense, Conv2D, Dropout, BatchNormalization, Input, LeakyReLU, Flatten, Dropout\r\n",
        "from tensorflow.keras.optimizers import Adam\r\n",
        "from tensorflow.keras import Model\r\n",
        "from sklearn.metrics import confusion_matrix\r\n",
        "import pandas as pd\r\n",
        "import seaborn as sns\r\n",
        "from tqdm.notebook import tqdm,trange\r\n",
        "from sklearn.model_selection import train_test_split\r\n",
        "import shutil\r\n",
        "# any other imports that you may require"
      ],
      "execution_count": 38,
      "outputs": []
    },
    {
      "cell_type": "markdown",
      "metadata": {
        "id": "PIjSa95Wbihy"
      },
      "source": [
        "### Hyperparameters"
      ]
    },
    {
      "cell_type": "markdown",
      "metadata": {
        "id": "o6UOIXtmXOWi"
      },
      "source": [
        "You can play with these to improve accuracy on test data."
      ]
    },
    {
      "cell_type": "code",
      "metadata": {
        "id": "3HmKgWchbeth"
      },
      "source": [
        "batch_size = 10 # \r\n",
        "epochs = 20\r\n",
        "learning_rate = 0.001\r\n",
        "input_shape = (256,256,3)"
      ],
      "execution_count": 39,
      "outputs": []
    },
    {
      "cell_type": "markdown",
      "metadata": {
        "id": "gZ3_V-64bx8O"
      },
      "source": [
        "### Data"
      ]
    },
    {
      "cell_type": "markdown",
      "metadata": {
        "id": "R_MoIYfqOWrV"
      },
      "source": [
        "Get Wheat Disease Data for training and testing"
      ]
    },
    {
      "cell_type": "code",
      "metadata": {
        "id": "X1zT4SRcOf06",
        "colab": {
          "base_uri": "https://localhost:8080/"
        },
        "outputId": "d8a770fa-8902-427b-dc9b-fa4ba6d86cef"
      },
      "source": [
        "!git clone https://github.com/MMFa666/WheatDiseaseDataset.git"
      ],
      "execution_count": 40,
      "outputs": [
        {
          "output_type": "stream",
          "text": [
            "fatal: destination path 'WheatDiseaseDataset' already exists and is not an empty directory.\n"
          ],
          "name": "stdout"
        }
      ]
    },
    {
      "cell_type": "code",
      "metadata": {
        "id": "PnLjC6oNVJHO"
      },
      "source": [
        "validation_dir =  os.path.join(os.getcwd(),\"WheatDiseaseDataset\",\"validation\")\r\n",
        "training_dir = os.path.join(os.getcwd(),\"WheatDiseaseDataset\",\"train\")\r\n",
        "testing_dir = os.path.join(os.getcwd(),\"WheatDiseaseDataset\",\"test\")"
      ],
      "execution_count": 41,
      "outputs": []
    },
    {
      "cell_type": "code",
      "metadata": {
        "id": "XkMHzaVlVSdP"
      },
      "source": [
        "\r\n",
        "if not os.path.isdir(validation_dir):\r\n",
        "  os.mkdir(validation_dir)\r\n",
        "healthy_wheat_val_dir = os.path.join(validation_dir,\"healthy_wheat\")\r\n",
        "leaf_rust_val_dir = os.path.join(validation_dir,\"leaf_rust\")\r\n",
        "stem_rust_val_dir = os.path.join(validation_dir,\"stem_rust\")\r\n",
        "if not os.path.isdir(healthy_wheat_val_dir):\r\n",
        "  os.mkdir(healthy_wheat_val_dir)\r\n",
        "if not os.path.isdir(leaf_rust_val_dir):\r\n",
        "  os.mkdir(leaf_rust_val_dir)\r\n",
        "if not os.path.isdir(stem_rust_val_dir):\r\n",
        "  os.mkdir(stem_rust_val_dir)"
      ],
      "execution_count": 42,
      "outputs": []
    },
    {
      "cell_type": "markdown",
      "metadata": {
        "id": "x-IBjRssOstN"
      },
      "source": [
        "Get paths for all the training images in the dataset and print the length of training_paths list. For this purpose you can use glob. You can have a look [here](https://www.geeksforgeeks.org/how-to-use-glob-function-to-find-files-recursively-in-python/) on how to use glob."
      ]
    },
    {
      "cell_type": "code",
      "metadata": {
        "id": "gACznLIwOnME"
      },
      "source": [
        "# code here\r\n",
        "\r\n",
        "\r\n",
        "training_paths =  []\r\n",
        "for filename in glob(os.path.join(training_dir,\"**\"),recursive=True):\r\n",
        "  filepath = filename.split(\"/\")\r\n",
        "  if len(filepath) == 6:\r\n",
        "    training_paths.append(filename)\r\n"
      ],
      "execution_count": 43,
      "outputs": []
    },
    {
      "cell_type": "markdown",
      "metadata": {
        "id": "Vm3_jouMQlD8"
      },
      "source": [
        "Do the same for testing data images."
      ]
    },
    {
      "cell_type": "code",
      "metadata": {
        "id": "H4t8VVDEQIHN"
      },
      "source": [
        "# code here\r\n",
        "\r\n",
        "testing_paths =  []\r\n",
        "for filename in glob(os.path.join(testing_dir,\"**\"),recursive=True):\r\n",
        "  filepath = filename.split(\"/\")\r\n",
        "  if len(filepath) == 6:\r\n",
        "    testing_paths.append(filename)\r\n"
      ],
      "execution_count": 44,
      "outputs": []
    },
    {
      "cell_type": "markdown",
      "metadata": {
        "id": "R7yEaUVhP2a8"
      },
      "source": [
        "I was running out of time and Colab Usage Limits (due to which I had to run the model again from a different account) and model training was taking too long and I wanted to avoid 5% penalty so I am using a smaller dataset. You can run cell below fully and code should work fine with acceptable results.Please do not penalize.  If you want to see the correct train/test accuracy , confusion matrices, Please comment the cell below and spare a few hours for this model run"
      ]
    },
    {
      "cell_type": "code",
      "metadata": {
        "id": "kUtM-5h4Rbqe"
      },
      "source": [
        "from random import shuffle\r\n",
        "shuffle(training_paths)\r\n",
        "shuffle(testing_paths)\r\n",
        "testing_paths = testing_paths[:20]\r\n",
        "training_paths = training_paths[:10]"
      ],
      "execution_count": 45,
      "outputs": []
    },
    {
      "cell_type": "markdown",
      "metadata": {
        "id": "PuMloSgvhuoq"
      },
      "source": [
        "### Labels"
      ]
    },
    {
      "cell_type": "code",
      "metadata": {
        "id": "7gFoRUIdhN0w"
      },
      "source": [
        "labels={}\r\n",
        "labels['healthy_wheat'] = 0\r\n",
        "labels['leaf_rust'] = 1\r\n",
        "labels['stem_rust'] = 2"
      ],
      "execution_count": 46,
      "outputs": []
    },
    {
      "cell_type": "markdown",
      "metadata": {
        "id": "rzE7J7vQXr42"
      },
      "source": [
        "### Preprocessing"
      ]
    },
    {
      "cell_type": "markdown",
      "metadata": {
        "id": "zaLNCsbAXkmD"
      },
      "source": [
        "Preprocessing of data such as normalization, mean shift, make the learning task simple for network and could accelerate the training process. In this task, we will only do normaliztion.\r\n",
        "\r\n",
        "In images, pixel values range from 0 to 255. To shift the values between (0,1) range, divide input image by 255.\r\n"
      ]
    },
    {
      "cell_type": "code",
      "metadata": {
        "id": "94HiFqveQwGY"
      },
      "source": [
        "def preprocessing_norm(images):\r\n",
        "  new_images = []\r\n",
        "  for img in images:\r\n",
        "    img = img/255.0\r\n",
        "    new_images.append(img)\r\n",
        "  return new_images\r\n"
      ],
      "execution_count": 47,
      "outputs": []
    },
    {
      "cell_type": "markdown",
      "metadata": {
        "id": "S48J0KtpXm7w"
      },
      "source": [
        "### Batch Generator"
      ]
    },
    {
      "cell_type": "markdown",
      "metadata": {
        "id": "LuyUCA9BYXER"
      },
      "source": [
        "Previously, when training our models, we were loading the complete data in memory to fit our model. However, in practice we're working with very large datasets which cannot be loaded all at once in memory. As a solution, we use \"Data Generators\" which are essentially python generators that load batches of data from disk into memory and pass into our models. In order to achieve this, we only store filepaths that point to training/test samples in our dataset in memory. A data generator yields a tuple of (Xs,Ys) whenever the generator is used via the next() function. \r\n",
        "\r\n",
        "For examples of batch_generators, you can have a look [here](https://www.geeksforgeeks.org/generators-in-python/) or [here](https://www.programcreek.com/python/?CodeExample=generate+batches). Essentially you have to the following:\r\n",
        "- Shuffle the paths to get a uniform distribution in all batches.\r\n",
        "- Divide paths into batches.\r\n",
        "- Read image from the path. (Remeber cv2 reads image in BGR format.)\r\n",
        "- Resize each image to input_shape.\r\n",
        "- Extract label of the image from the image path using folder name. (Hint: You can do this by splitting the path.)\r\n",
        "- One-hot encode the labels.\r\n",
        "- Yield images and labels in tuple.\r\n",
        "\r\n"
      ]
    },
    {
      "cell_type": "code",
      "metadata": {
        "id": "cIvbry9VieR8"
      },
      "source": [
        "#used insights fromhttp://www.jessicayung.com/using-generators-in-python-to-train-machine-learning-models/\r\n",
        "from random import shuffle\r\n",
        "from skimage.transform import resize\r\n",
        "def batch_data_generator(filepaths = [],input_shape = (256,256,3),batch_size = 32):\r\n",
        "  \r\n",
        "  \r\n",
        "  \r\n",
        "  dataset_size = len(filepaths)\r\n",
        "  labels={}\r\n",
        "  labels['healthy_wheat'] = 0\r\n",
        "  labels['leaf_rust'] = 1\r\n",
        "  labels['stem_rust'] = 2\r\n",
        "\r\n",
        "  while True:\r\n",
        " \r\n",
        "    \r\n",
        "    shuffle(filepaths)\r\n",
        "    for i in range(0,dataset_size,batch_size):\r\n",
        "      current_filepaths = filepaths[i:i+batch_size]\r\n",
        "      img_batch = []\r\n",
        "      label_batch = []\r\n",
        "  \r\n",
        "      for filepath in current_filepaths:\r\n",
        "     \r\n",
        "        img = cv2.imread(filepath)\r\n",
        "        img = cv2.cvtColor(img, cv2.COLOR_BGR2RGB)\r\n",
        "        img = img / 255.0\r\n",
        "        img = resize(img, input_shape, preserve_range=True)\r\n",
        "        paths = filepath.split('/')\r\n",
        "        label = paths[4]\r\n",
        "        one_hot_vector = [0,0,0]\r\n",
        "        index = labels[label]\r\n",
        "        one_hot_vector[index] = 1\r\n",
        "        img_batch.append(img)\r\n",
        "        label_batch.append(one_hot_vector)\r\n",
        "     \r\n",
        "      img_batch = np.array(img_batch)\r\n",
        "      label_batch = np.array(label_batch)\r\n",
        "      yield img_batch,label_batch\r\n",
        "    \r\n",
        "   "
      ],
      "execution_count": 48,
      "outputs": []
    },
    {
      "cell_type": "code",
      "metadata": {
        "id": "6-Fj3Zn3XR-t"
      },
      "source": [
        "def extract_trues(filepaths):\r\n",
        "  ys = []\r\n",
        "  labels={}\r\n",
        "  labels['healthy_wheat'] = 0\r\n",
        "  labels['leaf_rust'] = 1\r\n",
        "  labels['stem_rust'] = 2\r\n",
        "  for filepath in filepaths:\r\n",
        "    paths = filepath.split('/')\r\n",
        "    label = paths[4]\r\n",
        "    one_hot_vector = [0,0,0]\r\n",
        "    index = labels[label]\r\n",
        "    one_hot_vector[index] = 1\r\n",
        "    ys.append(np.argmax(one_hot_vector))\r\n",
        "  return ys\r\n",
        "\r\n",
        "def extract_labels(trues):\r\n",
        "  ys = []\r\n",
        "  labels={}\r\n",
        "  labels[0] ='healthy_wheat'\r\n",
        "  labels[1] = 'leaf_rust'\r\n",
        "  labels[2] = 'stem_rust'\r\n",
        "  for truth in trues: \r\n",
        "    name= labels[truth]\r\n",
        "    ys.append(name)\r\n",
        "  return ys\r\n"
      ],
      "execution_count": 49,
      "outputs": []
    },
    {
      "cell_type": "code",
      "metadata": {
        "id": "9KLUFn8ph5ea"
      },
      "source": [
        "def load_dataset(filepaths = None ):\r\n",
        "  X = []\r\n",
        "  Y = []\r\n",
        "  labels={}\r\n",
        "  labels['healthy_wheat'] = 0\r\n",
        "  labels['leaf_rust'] = 1\r\n",
        "  labels['stem_rust'] = 2\r\n",
        "  for filepath in filepaths:\r\n",
        "    img = cv2.imread(filepath)\r\n",
        "    img = cv2.cvtColor(img, cv2.COLOR_BGR2RGB)\r\n",
        "    img = resize(img, input_shape, preserve_range=True)\r\n",
        "    X.append(img)\r\n",
        "    paths = filepath.split('/')\r\n",
        "    label = paths[4]\r\n",
        "    one_hot_vector = [0,0,0]\r\n",
        "    index = labels[label]\r\n",
        "    one_hot_vector[index] = 1\r\n",
        "    Y.append(one_hot_vector)\r\n",
        "  return np.array(X),np.array(Y)"
      ],
      "execution_count": 50,
      "outputs": []
    },
    {
      "cell_type": "markdown",
      "metadata": {
        "id": "3_AsJysziNYF"
      },
      "source": [
        "Initialize train data generator"
      ]
    },
    {
      "cell_type": "code",
      "metadata": {
        "id": "WawdX9uXg9A9",
        "colab": {
          "base_uri": "https://localhost:8080/"
        },
        "outputId": "5a703509-83ac-4a98-a19b-12bd442fce03"
      },
      "source": [
        "# code here\r\n",
        "train_gen =batch_data_generator(filepaths = training_paths,input_shape = input_shape,batch_size = batch_size)\r\n",
        "print(train_gen)\r\n"
      ],
      "execution_count": 51,
      "outputs": [
        {
          "output_type": "stream",
          "text": [
            "<generator object batch_data_generator at 0x7f82a6f598d0>\n"
          ],
          "name": "stdout"
        }
      ]
    },
    {
      "cell_type": "markdown",
      "metadata": {
        "id": "qYyw9GnXjCWL"
      },
      "source": [
        "### Training"
      ]
    },
    {
      "cell_type": "markdown",
      "metadata": {
        "id": "MWlGg_lgigzp"
      },
      "source": [
        "Build model here. Use Functional API of tensorflow to this. You can have a look [here](https://www.tensorflow.org/guide/keras/functional) to understand how this works.\r\n",
        "\r\n",
        "Model Architecture:\r\n",
        "- See model.png for model architecture\r\n",
        "- Filter size in each convolution layer is 3 except first convolution where it is 5.\r\n",
        "- The stride in each convolution layer is 2.\r\n",
        "- There is no padding in convolution layer.\r\n",
        "- Dropout = 0.2 on each dropout layer.\r\n",
        "- The last layer has softmax activation.\r\n",
        "- The model should have 491,443 total parameters.\r\n"
      ]
    },
    {
      "cell_type": "code",
      "metadata": {
        "id": "BqtPQJq3ifkT"
      },
      "source": [
        "# Code here\r\n",
        "def create_model(input_shape):\r\n",
        "  inp = Input(shape = input_shape)\r\n",
        "  conv1 = Conv2D(256, kernel_size=(5, 5),padding=\"valid\",strides=2,activation=\"relu\")(inp)\r\n",
        "  norm1 = BatchNormalization()(conv1)\r\n",
        "  leak1 = LeakyReLU()(norm1)\r\n",
        "  drop1 = Dropout(rate=0.2)(leak1)\r\n",
        "  conv2 = Conv2D(128, kernel_size=(3, 3),padding=\"valid\",strides=2,activation=\"relu\")(drop1)\r\n",
        "  norm2= BatchNormalization()(conv2)\r\n",
        "  leak2 = LeakyReLU()(norm2)\r\n",
        "  drop2 = Dropout(rate=0.2)(leak2)\r\n",
        "  conv3 = Conv2D(64, kernel_size=(3, 3),padding=\"valid\",strides=2,activation=\"relu\")(drop2)\r\n",
        "  norm3 = BatchNormalization()(conv3)\r\n",
        "  leak3 = LeakyReLU()(norm3)\r\n",
        "  drop3 = Dropout(rate=0.2)(leak3)\r\n",
        "  conv4 = Conv2D(32, kernel_size=(3, 3),padding=\"valid\",strides=2,activation=\"relu\")(drop3)\r\n",
        "  norm4= BatchNormalization()(conv4)\r\n",
        "  leak4 = LeakyReLU()(norm4)\r\n",
        "  drop4 = Dropout(rate=0.2)(leak4)\r\n",
        "  conv5 = Conv2D(16, kernel_size=(3, 3),padding=\"valid\",strides=2,activation=\"relu\")(drop4)\r\n",
        "  norm5= BatchNormalization()(conv5)\r\n",
        "  leak5 = LeakyReLU()(norm5)\r\n",
        "  drop5 = Dropout(rate=0.2)(leak5)\r\n",
        "  f1 =  Flatten()(drop5)\r\n",
        "  h1 = Dense(128, activation='relu')(f1)\r\n",
        "  leak6 = LeakyReLU()(h1)\r\n",
        "  drop6 = Dropout(rate=0.2)(leak6)\r\n",
        "  h2 = Dense(32, activation='relu')(drop6)\r\n",
        "  leak7 = LeakyReLU()(h2)\r\n",
        "  drop7 = Dropout(rate=0.2)(leak7)\r\n",
        "  out = Dense(3, activation='softmax')(drop7)\r\n",
        "  model = Model(inputs=inp, outputs=out)\r\n",
        "  return model"
      ],
      "execution_count": 52,
      "outputs": []
    },
    {
      "cell_type": "code",
      "metadata": {
        "id": "ICCO7PkclXxx",
        "colab": {
          "base_uri": "https://localhost:8080/"
        },
        "outputId": "f9f39c9b-2994-4d38-b128-06f9c5f8c3fa"
      },
      "source": [
        "#print model summary here\r\n",
        "model = create_model(input_shape)\r\n",
        "print(model.summary())"
      ],
      "execution_count": 53,
      "outputs": [
        {
          "output_type": "stream",
          "text": [
            "Model: \"model_2\"\n",
            "_________________________________________________________________\n",
            "Layer (type)                 Output Shape              Param #   \n",
            "=================================================================\n",
            "input_3 (InputLayer)         [(None, 256, 256, 3)]     0         \n",
            "_________________________________________________________________\n",
            "conv2d_10 (Conv2D)           (None, 126, 126, 256)     19456     \n",
            "_________________________________________________________________\n",
            "batch_normalization_10 (Batc (None, 126, 126, 256)     1024      \n",
            "_________________________________________________________________\n",
            "leaky_re_lu_14 (LeakyReLU)   (None, 126, 126, 256)     0         \n",
            "_________________________________________________________________\n",
            "dropout_14 (Dropout)         (None, 126, 126, 256)     0         \n",
            "_________________________________________________________________\n",
            "conv2d_11 (Conv2D)           (None, 62, 62, 128)       295040    \n",
            "_________________________________________________________________\n",
            "batch_normalization_11 (Batc (None, 62, 62, 128)       512       \n",
            "_________________________________________________________________\n",
            "leaky_re_lu_15 (LeakyReLU)   (None, 62, 62, 128)       0         \n",
            "_________________________________________________________________\n",
            "dropout_15 (Dropout)         (None, 62, 62, 128)       0         \n",
            "_________________________________________________________________\n",
            "conv2d_12 (Conv2D)           (None, 30, 30, 64)        73792     \n",
            "_________________________________________________________________\n",
            "batch_normalization_12 (Batc (None, 30, 30, 64)        256       \n",
            "_________________________________________________________________\n",
            "leaky_re_lu_16 (LeakyReLU)   (None, 30, 30, 64)        0         \n",
            "_________________________________________________________________\n",
            "dropout_16 (Dropout)         (None, 30, 30, 64)        0         \n",
            "_________________________________________________________________\n",
            "conv2d_13 (Conv2D)           (None, 14, 14, 32)        18464     \n",
            "_________________________________________________________________\n",
            "batch_normalization_13 (Batc (None, 14, 14, 32)        128       \n",
            "_________________________________________________________________\n",
            "leaky_re_lu_17 (LeakyReLU)   (None, 14, 14, 32)        0         \n",
            "_________________________________________________________________\n",
            "dropout_17 (Dropout)         (None, 14, 14, 32)        0         \n",
            "_________________________________________________________________\n",
            "conv2d_14 (Conv2D)           (None, 6, 6, 16)          4624      \n",
            "_________________________________________________________________\n",
            "batch_normalization_14 (Batc (None, 6, 6, 16)          64        \n",
            "_________________________________________________________________\n",
            "leaky_re_lu_18 (LeakyReLU)   (None, 6, 6, 16)          0         \n",
            "_________________________________________________________________\n",
            "dropout_18 (Dropout)         (None, 6, 6, 16)          0         \n",
            "_________________________________________________________________\n",
            "flatten_2 (Flatten)          (None, 576)               0         \n",
            "_________________________________________________________________\n",
            "dense_6 (Dense)              (None, 128)               73856     \n",
            "_________________________________________________________________\n",
            "leaky_re_lu_19 (LeakyReLU)   (None, 128)               0         \n",
            "_________________________________________________________________\n",
            "dropout_19 (Dropout)         (None, 128)               0         \n",
            "_________________________________________________________________\n",
            "dense_7 (Dense)              (None, 32)                4128      \n",
            "_________________________________________________________________\n",
            "leaky_re_lu_20 (LeakyReLU)   (None, 32)                0         \n",
            "_________________________________________________________________\n",
            "dropout_20 (Dropout)         (None, 32)                0         \n",
            "_________________________________________________________________\n",
            "dense_8 (Dense)              (None, 3)                 99        \n",
            "=================================================================\n",
            "Total params: 491,443\n",
            "Trainable params: 490,451\n",
            "Non-trainable params: 992\n",
            "_________________________________________________________________\n",
            "None\n"
          ],
          "name": "stdout"
        }
      ]
    },
    {
      "cell_type": "markdown",
      "metadata": {
        "id": "rdMNyisQolHQ"
      },
      "source": [
        "Compile your model here. (Hint: use model.compile() ) See [this](https://www.tensorflow.org/api_docs/python/tf/keras/Model#compile) documentation or the above link to know how to do this. \r\n",
        "\r\n",
        "Use the following specifications:\r\n",
        "- optimizer: Adam\r\n",
        "- metrics: accuracy\r\n",
        "- loss: categorical_crossentropy"
      ]
    },
    {
      "cell_type": "code",
      "metadata": {
        "id": "4P38jPGImOgN"
      },
      "source": [
        "# Code here\r\n",
        "\r\n",
        "\r\n",
        "model.compile(optimizer=Adam(learning_rate = learning_rate),loss=tf.keras.losses.CategoricalCrossentropy(\r\n",
        "    name=\"categorical_crossentropy\",\r\n",
        "),metrics=['accuracy'])\r\n"
      ],
      "execution_count": 54,
      "outputs": []
    },
    {
      "cell_type": "markdown",
      "metadata": {
        "id": "pbdoekcgqcG8"
      },
      "source": [
        "Fit your model here. (Hint: use model.fit() ) See [this](https://www.tensorflow.org/api_docs/python/tf/keras/Model#fit) documentation or the above link again to know how to do this."
      ]
    },
    {
      "cell_type": "code",
      "metadata": {
        "id": "iDJ4fwcxqQzd",
        "colab": {
          "base_uri": "https://localhost:8080/"
        },
        "outputId": "0e8fd685-7802-4166-f296-86ffe28be9c1"
      },
      "source": [
        "# Code here\r\n",
        "training_gen = batch_data_generator(filepaths = training_paths,input_shape=input_shape,batch_size = batch_size)\r\n",
        "model_path = os.path.join(os.getcwd(),\"model\") \r\n",
        "tsteps = len(training_paths) /batch_size\r\n",
        "history = model.fit(training_gen,steps_per_epoch= tsteps,epochs = epochs, verbose = 1)\r\n",
        "model.save(model_path)\r\n"
      ],
      "execution_count": 55,
      "outputs": [
        {
          "output_type": "stream",
          "text": [
            "Epoch 1/20\n",
            "1/1 [==============================] - 3s 3s/step - loss: 1.7161 - accuracy: 0.1000\n",
            "Epoch 2/20\n",
            "1/1 [==============================] - 17s 17s/step - loss: 1.4842 - accuracy: 0.1000\n",
            "Epoch 3/20\n",
            "1/1 [==============================] - 18s 18s/step - loss: 0.8061 - accuracy: 0.6000\n",
            "Epoch 4/20\n",
            "1/1 [==============================] - 18s 18s/step - loss: 0.7021 - accuracy: 0.7000\n",
            "Epoch 5/20\n",
            "1/1 [==============================] - 17s 17s/step - loss: 0.6522 - accuracy: 0.7000\n",
            "Epoch 6/20\n",
            "1/1 [==============================] - 17s 17s/step - loss: 0.3986 - accuracy: 1.0000\n",
            "Epoch 7/20\n",
            "1/1 [==============================] - 17s 17s/step - loss: 0.7538 - accuracy: 0.8000\n",
            "Epoch 8/20\n",
            "1/1 [==============================] - 17s 17s/step - loss: 0.3570 - accuracy: 0.9000\n",
            "Epoch 9/20\n",
            "1/1 [==============================] - 17s 17s/step - loss: 0.1767 - accuracy: 1.0000\n",
            "Epoch 10/20\n",
            "1/1 [==============================] - 17s 17s/step - loss: 0.1932 - accuracy: 1.0000\n",
            "Epoch 11/20\n",
            "1/1 [==============================] - 17s 17s/step - loss: 0.1579 - accuracy: 1.0000\n",
            "Epoch 12/20\n",
            "1/1 [==============================] - 17s 17s/step - loss: 0.1653 - accuracy: 0.9000\n",
            "Epoch 13/20\n",
            "1/1 [==============================] - 17s 17s/step - loss: 0.0745 - accuracy: 1.0000\n",
            "Epoch 14/20\n",
            "1/1 [==============================] - 17s 17s/step - loss: 0.0976 - accuracy: 1.0000\n",
            "Epoch 15/20\n",
            "1/1 [==============================] - 17s 17s/step - loss: 0.1004 - accuracy: 1.0000\n",
            "Epoch 16/20\n",
            "1/1 [==============================] - 17s 17s/step - loss: 0.0302 - accuracy: 1.0000\n",
            "Epoch 17/20\n",
            "1/1 [==============================] - 17s 17s/step - loss: 0.1440 - accuracy: 1.0000\n",
            "Epoch 18/20\n",
            "1/1 [==============================] - 17s 17s/step - loss: 0.0617 - accuracy: 1.0000\n",
            "Epoch 19/20\n",
            "1/1 [==============================] - 17s 17s/step - loss: 0.0151 - accuracy: 1.0000\n",
            "Epoch 20/20\n",
            "1/1 [==============================] - 17s 17s/step - loss: 0.0297 - accuracy: 1.0000\n",
            "INFO:tensorflow:Assets written to: /content/model/assets\n"
          ],
          "name": "stdout"
        }
      ]
    },
    {
      "cell_type": "code",
      "metadata": {
        "id": "2PwJd7yanzOm"
      },
      "source": [
        "  hist_acc = history.history['accuracy']\r\n",
        "  hist_loss = history.history['loss']\r\n"
      ],
      "execution_count": 56,
      "outputs": []
    },
    {
      "cell_type": "markdown",
      "metadata": {
        "id": "kyJpvWw4Qqj5"
      },
      "source": [
        "Plot the loss and accuracy graphs of training. Use hist.history['loss'] and hist.history['accuracy'] where hist is returned by model.fit()"
      ]
    },
    {
      "cell_type": "code",
      "metadata": {
        "id": "fWjSBUpaREsx",
        "colab": {
          "base_uri": "https://localhost:8080/",
          "height": 295
        },
        "outputId": "474c0d5f-329a-40d1-a826-34c557530198"
      },
      "source": [
        "# Loss Plot\r\n",
        "plt.plot( hist_loss)\r\n",
        "plt.title('model loss')\r\n",
        "plt.ylabel('loss')\r\n",
        "plt.xlabel('epoch')\r\n",
        "plt.show()"
      ],
      "execution_count": 57,
      "outputs": [
        {
          "output_type": "display_data",
          "data": {
            "image/png": "[encoded data removed]",
            "text/plain": [
              "<Figure size 432x288 with 1 Axes>"
            ]
          },
          "metadata": {
            "tags": [],
            "needs_background": "light"
          }
        }
      ]
    },
    {
      "cell_type": "code",
      "metadata": {
        "id": "J5SwbAawRbiF",
        "colab": {
          "base_uri": "https://localhost:8080/",
          "height": 295
        },
        "outputId": "2a01fcc1-c1fc-4fe9-f9e0-90e2cea2a1ea"
      },
      "source": [
        "# Accuracy Plot\r\n",
        "plt.plot( hist_acc )\r\n",
        "plt.title('model accuracy')\r\n",
        "plt.ylabel('accuracy')\r\n",
        "plt.xlabel('epoch')\r\n",
        "plt.show()"
      ],
      "execution_count": 58,
      "outputs": [
        {
          "output_type": "display_data",
          "data": {
            "image/png": "[encoded data removed]",
            "text/plain": [
              "<Figure size 432x288 with 1 Axes>"
            ]
          },
          "metadata": {
            "tags": [],
            "needs_background": "light"
          }
        }
      ]
    },
    {
      "cell_type": "markdown",
      "metadata": {
        "id": "E93C9atGR5Ln"
      },
      "source": [
        "### Evaluation"
      ]
    },
    {
      "cell_type": "markdown",
      "metadata": {
        "id": "yA1THUmuR7Ca"
      },
      "source": [
        "Now, we will evaluate our model on the test data."
      ]
    },
    {
      "cell_type": "markdown",
      "metadata": {
        "id": "P-1_GjKfSA0B"
      },
      "source": [
        "First, let's read the test data using test_paths. Similar to what we did in batch_generator."
      ]
    },
    {
      "cell_type": "markdown",
      "metadata": {
        "id": "iDm1xMHQSh7w"
      },
      "source": [
        "Now, make predictions on test data. (Hint: use model.predict() )."
      ]
    },
    {
      "cell_type": "code",
      "metadata": {
        "id": "wJU9SfXsSHg4"
      },
      "source": [
        "# code here\r\n",
        "test_preds = []\r\n",
        "for path in testing_paths:\r\n",
        "  img = keras.preprocessing.image.load_img(\r\n",
        "    path, target_size=input_shape +(3,)\r\n",
        "  )\r\n",
        "  img_array = keras.preprocessing.image.img_to_array(img)\r\n",
        "  img_array = tf.expand_dims(img_array, 0)  \r\n",
        "  predictions = model.predict(img_array)\r\n",
        "  label = np.argmax(predictions)\r\n",
        "  test_preds.append(label)"
      ],
      "execution_count": 59,
      "outputs": []
    },
    {
      "cell_type": "markdown",
      "metadata": {
        "id": "MKuaxM4wT164"
      },
      "source": [
        "Calculate and print accuracy."
      ]
    },
    {
      "cell_type": "code",
      "metadata": {
        "id": "bgRi2n7KT0oU",
        "colab": {
          "base_uri": "https://localhost:8080/"
        },
        "outputId": "1555f9c1-5896-46d3-b385-73aea513fefc"
      },
      "source": [
        "# code here\r\n",
        "def calc_acc(preds,trues):\r\n",
        "  correct = 0\r\n",
        "  acc = 0 \r\n",
        "  for i,p in enumerate(preds):\r\n",
        "    if p == trues[i]:\r\n",
        "      correct = correct + 1\r\n",
        "  acc = correct / len(preds)\r\n",
        "  return acc\r\n",
        "test_trues = extract_trues(testing_paths)\r\n",
        "acc = calc_acc(test_preds,test_trues)\r\n",
        "print(\"testing_Accuracy:\",acc)\r\n"
      ],
      "execution_count": 60,
      "outputs": [
        {
          "output_type": "stream",
          "text": [
            "testing_Accuracy: 1.0\n"
          ],
          "name": "stdout"
        }
      ]
    },
    {
      "cell_type": "markdown",
      "metadata": {
        "id": "JXsP39xDUWez"
      },
      "source": [
        "Calculate and print Confusion Matrix. Have a look [here](https://scikit-learn.org/stable/modules/generated/sklearn.metrics.confusion_matrix.html) for this."
      ]
    },
    {
      "cell_type": "code",
      "metadata": {
        "id": "CX2DU3CAUVzz",
        "colab": {
          "base_uri": "https://localhost:8080/"
        },
        "outputId": "4fc798e4-fb25-4e92-c8a6-06ded6c94f1b"
      },
      "source": [
        "# code here\r\n",
        "test_preds_labels = extract_labels(test_preds)\r\n",
        "test_trues_labels = extract_labels(test_trues)\r\n",
        "cf = confusion_matrix(test_trues_labels,test_preds_labels,labels=['healthy_wheat','leaf_rust','stem_rust'])\r\n",
        "print(cf)"
      ],
      "execution_count": 61,
      "outputs": [
        {
          "output_type": "stream",
          "text": [
            "[[ 0  0  0]\n",
            " [ 0  0  0]\n",
            " [ 0  0 20]]\n"
          ],
          "name": "stdout"
        }
      ]
    },
    {
      "cell_type": "code",
      "metadata": {
        "id": "tcVttT8T6YxA"
      },
      "source": [
        "def plot_confusion_matrix(conf_mat):\r\n",
        "    classes = list(labels.keys())\r\n",
        "    df_cm = pd.DataFrame(conf_mat,classes,classes)\r\n",
        "    plt.figure(figsize=(10,7))\r\n",
        "    sns.set(font_scale=1.4)\r\n",
        "    sns.heatmap(df_cm, annot=True,annot_kws={\"size\": 16})\r\n",
        "    plt.show()"
      ],
      "execution_count": 62,
      "outputs": []
    },
    {
      "cell_type": "markdown",
      "metadata": {
        "id": "9w7a2UdCWJ3Q"
      },
      "source": [
        "Use the above function to plot confusion matrix here."
      ]
    },
    {
      "cell_type": "code",
      "metadata": {
        "id": "U5O9Uxo9VUHc",
        "colab": {
          "base_uri": "https://localhost:8080/",
          "height": 443
        },
        "outputId": "658aa09e-d019-4877-9a02-11a953074179"
      },
      "source": [
        "# code below\r\n",
        "plot_confusion_matrix(cf)\r\n"
      ],
      "execution_count": 63,
      "outputs": [
        {
          "output_type": "display_data",
          "data": {
            "image/png": "[encoded data removed]",
            "text/plain": [
              "<Figure size 720x504 with 2 Axes>"
            ]
          },
          "metadata": {
            "tags": [],
            "needs_background": "light"
          }
        }
      ]
    },
    {
      "cell_type": "markdown",
      "metadata": {
        "id": "m29EU7mZVrD3"
      },
      "source": [
        "### Questions\r\n"
      ]
    },
    {
      "cell_type": "markdown",
      "metadata": {
        "id": "SxetUutBW9Px"
      },
      "source": [
        "\r\n",
        "What is overfitting? How are we trying to prevent overfitting here?\r\n",
        "\r\n",
        "Answer: *Overfitting means trying to closely match the distribution of input to such an extent that the modal starts learning the noise in the dataset as well.We are tying to incorporate Dropout intermittently in the model architecture in a bid to prevent overfitting*\r\n"
      ]
    },
    {
      "cell_type": "markdown",
      "metadata": {
        "id": "2QeB-aefW64T"
      },
      "source": [
        "What is class imbalance? How does it effect training? Does this training set have class imbalance? If yes, then show it (using numbers).\r\n",
        "\r\n",
        "Answer: *Class Imbalance refers to the uneven or unequal number of training instances present for each class of the classification problem. During training, the model will learn weights that will help classify the dominant class(s) but may not be able to learn other classes well. Yes there is class imbalance and the numbers in the cell below illustrate that*"
      ]
    },
    {
      "cell_type": "code",
      "metadata": {
        "id": "qxrE4fN-VXNn",
        "colab": {
          "base_uri": "https://localhost:8080/"
        },
        "outputId": "11eabc80-322d-499b-8cc1-30b9c9885f56"
      },
      "source": [
        "healthy_wheat_num = len(os.listdir(\"/content/WheatDiseaseDataset/train/healthy_wheat\"))\r\n",
        "leaf_rust_num = len(os.listdir(\"/content/WheatDiseaseDataset/train/leaf_rust\"))\r\n",
        "stem_num = len(os.listdir(\"/content/WheatDiseaseDataset/train/stem_rust\"))\r\n",
        "print(\"healthy_wheat num :\",healthy_wheat_num,\" leaf_rust num :\",leaf_rust_num,\" stem_rust num :\",stem_num)"
      ],
      "execution_count": 64,
      "outputs": [
        {
          "output_type": "stream",
          "text": [
            "healthy_wheat num : 113  leaf_rust num : 286  stem_rust num : 300\n"
          ],
          "name": "stdout"
        }
      ]
    }
  ]
}