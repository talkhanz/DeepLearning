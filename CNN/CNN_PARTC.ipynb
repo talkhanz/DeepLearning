{
  "nbformat": 4,
  "nbformat_minor": 0,
  "metadata": {
    "colab": {
      "name": "DL_21100313_PA3_PARTC.ipynb",
      "provenance": [],
      "collapsed_sections": [],
      "toc_visible": true
    },
    "kernelspec": {
      "name": "python3",
      "display_name": "Python 3"
    },
    "accelerator": "GPU"
  },
  "cells": [
    {
      "cell_type": "markdown",
      "metadata": {
        "id": "LsYBVxYeLzD0"
      },
      "source": [
        "### Dataset\r\n",
        "\r\n"
      ]
    },
    {
      "cell_type": "markdown",
      "metadata": {
        "id": "5o3bGPcRI9Dx"
      },
      "source": [
        "RollNum:21100313\r\n",
        "Kaggle UserName: TK11"
      ]
    },
    {
      "cell_type": "markdown",
      "metadata": {
        "id": "YCnj0tV8LzD0"
      },
      "source": [
        "The dataset is divided into training set and testing set. The training set is labeled and contains 80 images for each class (Total 240 images). You have been given unlabeled test set and your task is to predict the class of each test image. The test set contain 853 images.<br>\r\n",
        "Some guidelines:<br>\r\n",
        "- You are free to extend or augment the training set.<br>\r\n",
        "- If you want, you can use a subset of training set as your validation set.<br>\r\n",
        "- You must not use the provided test set in any way except for final predictions.<br>"
      ]
    },
    {
      "cell_type": "code",
      "metadata": {
        "colab": {
          "base_uri": "https://localhost:8080/"
        },
        "id": "HFy8QgUoLzD1",
        "outputId": "4cf62a4d-14c3-4909-ffec-226048fede9b"
      },
      "source": [
        "!git clone https://github.com/MMFa666/VehicleDataset.git"
      ],
      "execution_count": 1,
      "outputs": [
        {
          "output_type": "stream",
          "text": [
            "Cloning into 'VehicleDataset'...\n",
            "remote: Enumerating objects: 1106, done.\u001b[K\n",
            "remote: Counting objects: 100% (1106/1106), done.\u001b[K\n",
            "remote: Compressing objects: 100% (1100/1100), done.\u001b[K\n",
            "remote: Total 1106 (delta 4), reused 1103 (delta 4), pack-reused 0\u001b[K\n",
            "Receiving objects: 100% (1106/1106), 34.18 MiB | 44.19 MiB/s, done.\n",
            "Resolving deltas: 100% (4/4), done.\n"
          ],
          "name": "stdout"
        }
      ]
    },
    {
      "cell_type": "markdown",
      "metadata": {
        "id": "TqvJHT6SLzD3"
      },
      "source": [
        "### Models\r\n"
      ]
    },
    {
      "cell_type": "markdown",
      "metadata": {
        "id": "7uvxda3hLzD4"
      },
      "source": [
        "You can use anyone of the following models for this task. See the [documentation](https://www.tensorflow.org/api_docs/python/tf/keras/applications#functions) for more details.\r\n",
        "- VGG\r\n",
        "- ResNet\r\n",
        "- MobileNet\r\n",
        "- EfficientNet"
      ]
    },
    {
      "cell_type": "markdown",
      "metadata": {
        "id": "u986aO4ILzD4"
      },
      "source": [
        "### LeaderBoard\r\n",
        "\r\n",
        "The goal here is to get the maximum performance on test set. For this purpose, we have created a competition on Kaggle where a leaderboard is maintained. You will upload your predictions for test set there and a score will be generated for you. You will be ranked based on your score. You can submit upto 20 times a day with maximum 300 submissions in total.\r\n",
        "\r\n",
        "This part will be evaluated based on your approach and your performance in LeaderBoard. Furthermore, the top student will receive a 5%, 2nd will receive 3% and 3rd will receive 1% bonus.\r\n",
        "\r\n",
        "You are allowed to the following to win:\r\n",
        "- Extend your chosen model as you like.\r\n",
        "- Extend the training set.\r\n",
        "- Augment the training set.\r\n",
        "- Play with hyperparameters.\r\n",
        "- Preprocess the data as you like.\r\n",
        "\r\n",
        "Competition link [here](https://www.kaggle.com/c/lums-cs437-hw3/)"
      ]
    },
    {
      "cell_type": "markdown",
      "metadata": {
        "id": "ZnAwDNaBLzD5"
      },
      "source": [
        "### Tutuorial Example\r\n",
        "\r\n",
        "You are recommended to follow this [tutorial](https://www.tensorflow.org/tutorials/images/transfer_learning) for this task. All the hints and information required are available here and this task can be easily completed by following it. In this tutorial, they use MobileNet but as mentioned above you are free to use any of the abovementioned models."
      ]
    },
    {
      "cell_type": "markdown",
      "metadata": {
        "id": "55DoRIEJLzD6"
      },
      "source": [
        "### Let The Games Begin!!!"
      ]
    },
    {
      "cell_type": "code",
      "metadata": {
        "id": "0z9JMgb4LzD6"
      },
      "source": [
        "# make necessary imports here\r\n",
        "import matplotlib.pyplot as plt\r\n",
        "import numpy as np\r\n",
        "from pprint import pprint\r\n",
        "import os\r\n",
        "import keras\r\n",
        "import shutil\r\n",
        "from glob import glob\r\n",
        "from pprint import pprint\r\n",
        "import tensorflow as tf\r\n",
        "import cv2\r\n",
        "from tqdm.notebook import trange,tqdm\r\n",
        "from tensorflow.keras.layers import Dense, Conv2D, Dropout, BatchNormalization, Input, LeakyReLU, Flatten, Dropout\r\n",
        "from tensorflow.keras.preprocessing import image_dataset_from_directory\r\n",
        "from sklearn.model_selection import train_test_split\r\n",
        "from skimage.transform import resize"
      ],
      "execution_count": 2,
      "outputs": []
    },
    {
      "cell_type": "code",
      "metadata": {
        "id": "1FN9wRjRtlFp"
      },
      "source": [
        "def extract_label(filepath = None, datatype = None):\r\n",
        "  fs = filepath.split(\"/\")\r\n",
        "  if datatype == \"train\":\r\n",
        "    label = fs[4]\r\n",
        "  if datatype == \"test\":\r\n",
        "    label = fs[3]\r\n",
        "  return label\r\n",
        "\r\n",
        "def load_dataset(filepaths = None , datatype = None):\r\n",
        "  X = []\r\n",
        "  Y = []\r\n",
        "  labels={}\r\n",
        "  labels['qingqi']=[1,0,0]\r\n",
        "  labels['rickshaw']=[0,1,0]\r\n",
        "  labels['tanga']=[0,0,1]\r\n",
        "  for filepath in filepaths:\r\n",
        "    img = cv2.imread(filepath)\r\n",
        "    img = cv2.cvtColor(img, cv2.COLOR_BGR2RGB)\r\n",
        "    img = resize(img, input_shape, preserve_range=True)\r\n",
        "    X.append(img)\r\n",
        "    label  = extract_label(filepath = filepath, datatype = datatype)\r\n",
        "    y = labels[label]\r\n",
        "    Y.append(y)\r\n",
        "  return X,Y"
      ],
      "execution_count": 3,
      "outputs": []
    },
    {
      "cell_type": "code",
      "metadata": {
        "id": "il7nQpTuLzD8"
      },
      "source": [
        "# define hyperparameters\r\n",
        "batch_size = 32\r\n",
        "epochs = 400\r\n",
        "learning_rate = 0.00001\r\n",
        "input_shape = (200,200)"
      ],
      "execution_count": 4,
      "outputs": []
    },
    {
      "cell_type": "code",
      "metadata": {
        "id": "REo242ulwo3B"
      },
      "source": [
        "training_dir = os.path.join(os.getcwd(),\"VehicleDataset\",\"train\")\r\n",
        "testing_dir = os.path.join(os.getcwd(),\"VehicleDataset\",\"test\")\r\n",
        "validation_dir =  os.path.join(os.getcwd(),\"VehicleDataset\",\"validation\")"
      ],
      "execution_count": 5,
      "outputs": []
    },
    {
      "cell_type": "code",
      "metadata": {
        "id": "45_my8j-6vvT"
      },
      "source": [
        "\r\n",
        "if not os.path.isdir(validation_dir):\r\n",
        "  os.mkdir(validation_dir)\r\n",
        "qingqi_val_dir = os.path.join(validation_dir,\"qingqi\")\r\n",
        "rickshaw_val_dir = os.path.join(validation_dir,\"rickshaw\")\r\n",
        "tanga_val_dir = os.path.join(validation_dir,\"tanga\")\r\n",
        "if not os.path.isdir(qingqi_val_dir):\r\n",
        "  os.mkdir(qingqi_val_dir)\r\n",
        "if not os.path.isdir(rickshaw_val_dir):\r\n",
        "  os.mkdir(rickshaw_val_dir)\r\n",
        "if not os.path.isdir(tanga_val_dir):\r\n",
        "  os.mkdir(tanga_val_dir)"
      ],
      "execution_count": 6,
      "outputs": []
    },
    {
      "cell_type": "code",
      "metadata": {
        "id": "JqX3BxX1LzD9"
      },
      "source": [
        "# read and preprocess the training data and extract the labels. (If your training data is large then you can also use batch generator like done in PartB.)\r\n",
        "# print the shape x and y data\r\n",
        "# split into validation set if you desire\r\n",
        "training_paths =  []\r\n",
        "for filename in glob(os.path.join(training_dir,\"**\"),recursive=True):\r\n",
        "  filepath = filename.split(\"/\")\r\n",
        "  if len(filepath) == 6:\r\n",
        "    training_paths.append(filename)\r\n"
      ],
      "execution_count": 7,
      "outputs": []
    },
    {
      "cell_type": "code",
      "metadata": {
        "id": "YGPBUeOSs_Gi"
      },
      "source": [
        "testing_paths =  []\r\n",
        "for filename in glob(os.path.join(testing_dir,\"**\"),recursive=True):\r\n",
        "  filepath = filename.split(\"/\")\r\n",
        "  if len(filepath) == 5 and filepath[-1] != '':\r\n",
        "    testing_paths.append(filename)\r\n"
      ],
      "execution_count": 8,
      "outputs": []
    },
    {
      "cell_type": "code",
      "metadata": {
        "colab": {
          "base_uri": "https://localhost:8080/"
        },
        "id": "X6N3mxIE7whb",
        "outputId": "76f707de-8a45-4593-b277-a91bc03e7bab"
      },
      "source": [
        "train_paths,val_paths = train_test_split(training_paths,test_size = 0.1)\r\n",
        "for val_path in val_paths:\r\n",
        "  splits= val_path.split(\"/\")\r\n",
        "  filename = splits[-1]\r\n",
        "  label = splits[4]\r\n",
        "  new_filepath = os.path.join(validation_dir,label,filename)\r\n",
        "  if not os.path.isfile(new_filepath):\r\n",
        "    shutil.move(val_path,new_filepath)\r\n",
        "  print(\"moving file from\",val_path,\" to \",filepath)"
      ],
      "execution_count": 9,
      "outputs": [
        {
          "output_type": "stream",
          "text": [
            "moving file from /content/VehicleDataset/train/qingqi/f99843280.jpg  to  ['', 'content', 'VehicleDataset', 'test', 'f58077242.jpg']\n",
            "moving file from /content/VehicleDataset/train/tanga/f36609940.jpg  to  ['', 'content', 'VehicleDataset', 'test', 'f58077242.jpg']\n",
            "moving file from /content/VehicleDataset/train/tanga/f33783265.jpg  to  ['', 'content', 'VehicleDataset', 'test', 'f58077242.jpg']\n",
            "moving file from /content/VehicleDataset/train/rickshaw/f47236198.jpg  to  ['', 'content', 'VehicleDataset', 'test', 'f58077242.jpg']\n",
            "moving file from /content/VehicleDataset/train/qingqi/f92467888.jpg  to  ['', 'content', 'VehicleDataset', 'test', 'f58077242.jpg']\n",
            "moving file from /content/VehicleDataset/train/rickshaw/f44247255.jpg  to  ['', 'content', 'VehicleDataset', 'test', 'f58077242.jpg']\n",
            "moving file from /content/VehicleDataset/train/rickshaw/f22561633.jpg  to  ['', 'content', 'VehicleDataset', 'test', 'f58077242.jpg']\n",
            "moving file from /content/VehicleDataset/train/qingqi/f51879937.jpg  to  ['', 'content', 'VehicleDataset', 'test', 'f58077242.jpg']\n",
            "moving file from /content/VehicleDataset/train/tanga/f30533007.jpg  to  ['', 'content', 'VehicleDataset', 'test', 'f58077242.jpg']\n",
            "moving file from /content/VehicleDataset/train/qingqi/f24957437.jpg  to  ['', 'content', 'VehicleDataset', 'test', 'f58077242.jpg']\n",
            "moving file from /content/VehicleDataset/train/rickshaw/f66050221.jpg  to  ['', 'content', 'VehicleDataset', 'test', 'f58077242.jpg']\n",
            "moving file from /content/VehicleDataset/train/rickshaw/f15660733.jpg  to  ['', 'content', 'VehicleDataset', 'test', 'f58077242.jpg']\n",
            "moving file from /content/VehicleDataset/train/qingqi/f60816131.jpg  to  ['', 'content', 'VehicleDataset', 'test', 'f58077242.jpg']\n",
            "moving file from /content/VehicleDataset/train/tanga/f25837826.jpg  to  ['', 'content', 'VehicleDataset', 'test', 'f58077242.jpg']\n",
            "moving file from /content/VehicleDataset/train/rickshaw/f37339902.jpg  to  ['', 'content', 'VehicleDataset', 'test', 'f58077242.jpg']\n",
            "moving file from /content/VehicleDataset/train/tanga/f55237371.jpg  to  ['', 'content', 'VehicleDataset', 'test', 'f58077242.jpg']\n",
            "moving file from /content/VehicleDataset/train/rickshaw/f75135697.jpg  to  ['', 'content', 'VehicleDataset', 'test', 'f58077242.jpg']\n",
            "moving file from /content/VehicleDataset/train/tanga/f62714799.jpg  to  ['', 'content', 'VehicleDataset', 'test', 'f58077242.jpg']\n",
            "moving file from /content/VehicleDataset/train/qingqi/f51482523.jpg  to  ['', 'content', 'VehicleDataset', 'test', 'f58077242.jpg']\n",
            "moving file from /content/VehicleDataset/train/rickshaw/f35337067.jpg  to  ['', 'content', 'VehicleDataset', 'test', 'f58077242.jpg']\n",
            "moving file from /content/VehicleDataset/train/qingqi/f13136777.jpg  to  ['', 'content', 'VehicleDataset', 'test', 'f58077242.jpg']\n",
            "moving file from /content/VehicleDataset/train/tanga/f57786933.jpg  to  ['', 'content', 'VehicleDataset', 'test', 'f58077242.jpg']\n",
            "moving file from /content/VehicleDataset/train/rickshaw/f40718220.jpg  to  ['', 'content', 'VehicleDataset', 'test', 'f58077242.jpg']\n",
            "moving file from /content/VehicleDataset/train/rickshaw/f62393978.jpg  to  ['', 'content', 'VehicleDataset', 'test', 'f58077242.jpg']\n"
          ],
          "name": "stdout"
        }
      ]
    },
    {
      "cell_type": "code",
      "metadata": {
        "colab": {
          "base_uri": "https://localhost:8080/"
        },
        "id": "_zyN4XYE5i9-",
        "outputId": "ae565fb3-1bc7-4327-8452-8ffa60b4253f"
      },
      "source": [
        "train_dataset = image_dataset_from_directory(training_dir,\r\n",
        "                                            shuffle=True,\r\n",
        "                                            batch_size=batch_size,\r\n",
        "                                            image_size=input_shape,\r\n",
        "                                             label_mode = 'categorical')"
      ],
      "execution_count": 10,
      "outputs": [
        {
          "output_type": "stream",
          "text": [
            "Found 216 files belonging to 3 classes.\n"
          ],
          "name": "stdout"
        }
      ]
    },
    {
      "cell_type": "code",
      "metadata": {
        "colab": {
          "base_uri": "https://localhost:8080/"
        },
        "id": "zLc56pgO9lv8",
        "outputId": "bed5b50e-b4d0-4a7e-a11c-cdbcba832ca6"
      },
      "source": [
        "validation_dataset = image_dataset_from_directory(validation_dir,\r\n",
        "                                             shuffle=True,\r\n",
        "                                             batch_size=batch_size,\r\n",
        "                                             image_size=input_shape,\r\n",
        "                                             label_mode = 'categorical')"
      ],
      "execution_count": 11,
      "outputs": [
        {
          "output_type": "stream",
          "text": [
            "Found 24 files belonging to 3 classes.\n"
          ],
          "name": "stdout"
        }
      ]
    },
    {
      "cell_type": "markdown",
      "metadata": {
        "id": "S-V-hOicLzEC"
      },
      "source": [
        "### Feature Extraction"
      ]
    },
    {
      "cell_type": "markdown",
      "metadata": {
        "id": "V1w6b8mXLzEC"
      },
      "source": [
        "In this step, you will freeze the convolutional base created from the previous step and to use as a feature extractor. Additionally, you add a classifier on top of it and train the top-level classifier."
      ]
    },
    {
      "cell_type": "code",
      "metadata": {
        "id": "2CXhvtAgCiEy"
      },
      "source": [
        "preprocess_input = tf.keras.applications.efficientnet.preprocess_input\r\n"
      ],
      "execution_count": 12,
      "outputs": []
    },
    {
      "cell_type": "code",
      "metadata": {
        "colab": {
          "base_uri": "https://localhost:8080/"
        },
        "id": "V9r3uzJ3LzED",
        "outputId": "39895cab-d477-4164-a165-11ad0a89e5e5"
      },
      "source": [
        "# intialize the base model here and print the model summary\r\n",
        "base_model = tf.keras.applications.EfficientNetB7(input_shape=input_shape +(3,),\r\n",
        "                                               include_top=False,\r\n",
        "                                               weights='imagenet')"
      ],
      "execution_count": 13,
      "outputs": [
        {
          "output_type": "stream",
          "text": [
            "Downloading data from https://storage.googleapis.com/keras-applications/efficientnetb7_notop.h5\n",
            "258080768/258076736 [==============================] - 2s 0us/step\n"
          ],
          "name": "stdout"
        }
      ]
    },
    {
      "cell_type": "code",
      "metadata": {
        "id": "-XVs2fpjLzED"
      },
      "source": [
        "# Freeze the base Model\r\n",
        "base_model.trainable = False"
      ],
      "execution_count": 14,
      "outputs": []
    },
    {
      "cell_type": "markdown",
      "metadata": {
        "id": "RniqGcG1LzEE"
      },
      "source": [
        "It is important to freeze the convolutional base before you compile and train the model. Freezing (by setting layer.trainable = False) prevents the weights in a given layer from being updated during training. "
      ]
    },
    {
      "cell_type": "code",
      "metadata": {
        "id": "rZ-gLJw0BOU7"
      },
      "source": [
        "data_augmentation = tf.keras.Sequential([\r\n",
        "  tf.keras.layers.experimental.preprocessing.RandomFlip('horizontal'),\r\n",
        "  tf.keras.layers.experimental.preprocessing.RandomRotation(0.2),\r\n",
        "])"
      ],
      "execution_count": 15,
      "outputs": []
    },
    {
      "cell_type": "code",
      "metadata": {
        "id": "FB8Vmt1pC0TI"
      },
      "source": [
        "inputs = tf.keras.Input(shape=input_shape + (3,))\r\n",
        "x = data_augmentation(inputs)\r\n",
        "x = preprocess_input(x)\r\n",
        "x = base_model(x, training=False)\r\n",
        "x = tf.keras.layers.GlobalAveragePooling2D()(x)\r\n",
        "x = tf.keras.layers.Dropout(0.2)(x)\r\n",
        "outputs = tf.keras.layers.Dense(3,activation =\"softmax\")(x)\r\n",
        "model = tf.keras.Model(inputs, outputs)"
      ],
      "execution_count": 16,
      "outputs": []
    },
    {
      "cell_type": "code",
      "metadata": {
        "colab": {
          "base_uri": "https://localhost:8080/"
        },
        "id": "26cwauPsLzEF",
        "outputId": "b1a99b8f-3a4b-4b7b-9561-782a86fd86d1"
      },
      "source": [
        "# compile the model and print the summary\r\n",
        "\r\n",
        "model.compile(optimizer=tf.keras.optimizers.Adam(lr=learning_rate),\r\n",
        "              loss=tf.keras.losses.CategoricalCrossentropy(),\r\n",
        "              metrics=['accuracy'])\r\n",
        "print(model.summary())"
      ],
      "execution_count": 17,
      "outputs": [
        {
          "output_type": "stream",
          "text": [
            "Model: \"model\"\n",
            "_________________________________________________________________\n",
            "Layer (type)                 Output Shape              Param #   \n",
            "=================================================================\n",
            "input_2 (InputLayer)         [(None, 200, 200, 3)]     0         \n",
            "_________________________________________________________________\n",
            "sequential (Sequential)      (None, 200, 200, 3)       0         \n",
            "_________________________________________________________________\n",
            "efficientnetb7 (Functional)  (None, 7, 7, 2560)        64097687  \n",
            "_________________________________________________________________\n",
            "global_average_pooling2d (Gl (None, 2560)              0         \n",
            "_________________________________________________________________\n",
            "dropout (Dropout)            (None, 2560)              0         \n",
            "_________________________________________________________________\n",
            "dense (Dense)                (None, 3)                 7683      \n",
            "=================================================================\n",
            "Total params: 64,105,370\n",
            "Trainable params: 7,683\n",
            "Non-trainable params: 64,097,687\n",
            "_________________________________________________________________\n",
            "None\n"
          ],
          "name": "stdout"
        }
      ]
    },
    {
      "cell_type": "code",
      "metadata": {
        "colab": {
          "base_uri": "https://localhost:8080/"
        },
        "id": "QdSck7HrLzEG",
        "outputId": "d9eb4671-0140-42bd-b7dd-9b4be8207b7c"
      },
      "source": [
        "# fit the model\r\n",
        "model_path = os.path.join(os.getcwd(),\"model\")\r\n",
        "history = model.fit(train_dataset,epochs=epochs)\r\n",
        "model.save(model_path)"
      ],
      "execution_count": 18,
      "outputs": [
        {
          "output_type": "stream",
          "text": [
            "Epoch 1/400\n",
            "7/7 [==============================] - 51s 495ms/step - loss: 1.1634 - accuracy: 0.2979\n",
            "Epoch 2/400\n",
            "7/7 [==============================] - 2s 305ms/step - loss: 1.1564 - accuracy: 0.3044\n",
            "Epoch 3/400\n",
            "7/7 [==============================] - 2s 308ms/step - loss: 1.1707 - accuracy: 0.2768\n",
            "Epoch 4/400\n",
            "7/7 [==============================] - 2s 307ms/step - loss: 1.1629 - accuracy: 0.2963\n",
            "Epoch 5/400\n",
            "7/7 [==============================] - 2s 307ms/step - loss: 1.1489 - accuracy: 0.3021\n",
            "Epoch 6/400\n",
            "7/7 [==============================] - 2s 309ms/step - loss: 1.1488 - accuracy: 0.3194\n",
            "Epoch 7/400\n",
            "7/7 [==============================] - 2s 310ms/step - loss: 1.1520 - accuracy: 0.3479\n",
            "Epoch 8/400\n",
            "7/7 [==============================] - 2s 311ms/step - loss: 1.1724 - accuracy: 0.2646\n",
            "Epoch 9/400\n",
            "7/7 [==============================] - 3s 314ms/step - loss: 1.1294 - accuracy: 0.3357\n",
            "Epoch 10/400\n",
            "7/7 [==============================] - 3s 315ms/step - loss: 1.1733 - accuracy: 0.2885\n",
            "Epoch 11/400\n",
            "7/7 [==============================] - 3s 316ms/step - loss: 1.1304 - accuracy: 0.3313\n",
            "Epoch 12/400\n",
            "7/7 [==============================] - 3s 317ms/step - loss: 1.1553 - accuracy: 0.3162\n",
            "Epoch 13/400\n",
            "7/7 [==============================] - 3s 317ms/step - loss: 1.0965 - accuracy: 0.3864\n",
            "Epoch 14/400\n",
            "7/7 [==============================] - 3s 319ms/step - loss: 1.1091 - accuracy: 0.2807\n",
            "Epoch 15/400\n",
            "7/7 [==============================] - 3s 321ms/step - loss: 1.1192 - accuracy: 0.3394\n",
            "Epoch 16/400\n",
            "7/7 [==============================] - 3s 322ms/step - loss: 1.1041 - accuracy: 0.3609\n",
            "Epoch 17/400\n",
            "7/7 [==============================] - 3s 323ms/step - loss: 1.1275 - accuracy: 0.3400\n",
            "Epoch 18/400\n",
            "7/7 [==============================] - 3s 325ms/step - loss: 1.0949 - accuracy: 0.3793\n",
            "Epoch 19/400\n",
            "7/7 [==============================] - 3s 326ms/step - loss: 1.1034 - accuracy: 0.3869\n",
            "Epoch 20/400\n",
            "7/7 [==============================] - 3s 326ms/step - loss: 1.1370 - accuracy: 0.3286\n",
            "Epoch 21/400\n",
            "7/7 [==============================] - 3s 321ms/step - loss: 1.0879 - accuracy: 0.3993\n",
            "Epoch 22/400\n",
            "7/7 [==============================] - 3s 320ms/step - loss: 1.1218 - accuracy: 0.3215\n",
            "Epoch 23/400\n",
            "7/7 [==============================] - 3s 318ms/step - loss: 1.1354 - accuracy: 0.2971\n",
            "Epoch 24/400\n",
            "7/7 [==============================] - 3s 318ms/step - loss: 1.1164 - accuracy: 0.3200\n",
            "Epoch 25/400\n",
            "7/7 [==============================] - 3s 315ms/step - loss: 1.0589 - accuracy: 0.4152\n",
            "Epoch 26/400\n",
            "7/7 [==============================] - 2s 314ms/step - loss: 1.0755 - accuracy: 0.4490\n",
            "Epoch 27/400\n",
            "7/7 [==============================] - 2s 314ms/step - loss: 1.0860 - accuracy: 0.3688\n",
            "Epoch 28/400\n",
            "7/7 [==============================] - 3s 315ms/step - loss: 1.0607 - accuracy: 0.4275\n",
            "Epoch 29/400\n",
            "7/7 [==============================] - 2s 313ms/step - loss: 1.0744 - accuracy: 0.4124\n",
            "Epoch 30/400\n",
            "7/7 [==============================] - 2s 313ms/step - loss: 1.0609 - accuracy: 0.4446\n",
            "Epoch 31/400\n",
            "7/7 [==============================] - 2s 312ms/step - loss: 1.0618 - accuracy: 0.4512\n",
            "Epoch 32/400\n",
            "7/7 [==============================] - 2s 311ms/step - loss: 1.0283 - accuracy: 0.4799\n",
            "Epoch 33/400\n",
            "7/7 [==============================] - 3s 310ms/step - loss: 1.0521 - accuracy: 0.4494\n",
            "Epoch 34/400\n",
            "7/7 [==============================] - 3s 313ms/step - loss: 1.0477 - accuracy: 0.4596\n",
            "Epoch 35/400\n",
            "7/7 [==============================] - 2s 311ms/step - loss: 1.0542 - accuracy: 0.4669\n",
            "Epoch 36/400\n",
            "7/7 [==============================] - 2s 310ms/step - loss: 1.0413 - accuracy: 0.4563\n",
            "Epoch 37/400\n",
            "7/7 [==============================] - 2s 313ms/step - loss: 1.0463 - accuracy: 0.4417\n",
            "Epoch 38/400\n",
            "7/7 [==============================] - 2s 315ms/step - loss: 1.0277 - accuracy: 0.4707\n",
            "Epoch 39/400\n",
            "7/7 [==============================] - 2s 313ms/step - loss: 1.0098 - accuracy: 0.5198\n",
            "Epoch 40/400\n",
            "7/7 [==============================] - 2s 315ms/step - loss: 1.0478 - accuracy: 0.4194\n",
            "Epoch 41/400\n",
            "7/7 [==============================] - 2s 312ms/step - loss: 1.0266 - accuracy: 0.5352\n",
            "Epoch 42/400\n",
            "7/7 [==============================] - 3s 316ms/step - loss: 1.0336 - accuracy: 0.4030\n",
            "Epoch 43/400\n",
            "7/7 [==============================] - 3s 318ms/step - loss: 1.0281 - accuracy: 0.4257\n",
            "Epoch 44/400\n",
            "7/7 [==============================] - 3s 320ms/step - loss: 1.0178 - accuracy: 0.4662\n",
            "Epoch 45/400\n",
            "7/7 [==============================] - 3s 319ms/step - loss: 1.0137 - accuracy: 0.5217\n",
            "Epoch 46/400\n",
            "7/7 [==============================] - 3s 321ms/step - loss: 1.0516 - accuracy: 0.4530\n",
            "Epoch 47/400\n",
            "7/7 [==============================] - 3s 320ms/step - loss: 1.0258 - accuracy: 0.4809\n",
            "Epoch 48/400\n",
            "7/7 [==============================] - 3s 320ms/step - loss: 0.9831 - accuracy: 0.5575\n",
            "Epoch 49/400\n",
            "7/7 [==============================] - 3s 321ms/step - loss: 1.0168 - accuracy: 0.5633\n",
            "Epoch 50/400\n",
            "7/7 [==============================] - 3s 318ms/step - loss: 1.0037 - accuracy: 0.5488\n",
            "Epoch 51/400\n",
            "7/7 [==============================] - 3s 318ms/step - loss: 0.9938 - accuracy: 0.5256\n",
            "Epoch 52/400\n",
            "7/7 [==============================] - 3s 317ms/step - loss: 1.0222 - accuracy: 0.5338\n",
            "Epoch 53/400\n",
            "7/7 [==============================] - 3s 316ms/step - loss: 0.9999 - accuracy: 0.5410\n",
            "Epoch 54/400\n",
            "7/7 [==============================] - 3s 316ms/step - loss: 0.9995 - accuracy: 0.5634\n",
            "Epoch 55/400\n",
            "7/7 [==============================] - 3s 316ms/step - loss: 1.0127 - accuracy: 0.4950\n",
            "Epoch 56/400\n",
            "7/7 [==============================] - 3s 315ms/step - loss: 0.9826 - accuracy: 0.5377\n",
            "Epoch 57/400\n",
            "7/7 [==============================] - 3s 316ms/step - loss: 0.9938 - accuracy: 0.5001\n",
            "Epoch 58/400\n",
            "7/7 [==============================] - 3s 314ms/step - loss: 0.9765 - accuracy: 0.5823\n",
            "Epoch 59/400\n",
            "7/7 [==============================] - 3s 313ms/step - loss: 0.9639 - accuracy: 0.5736\n",
            "Epoch 60/400\n",
            "7/7 [==============================] - 2s 314ms/step - loss: 0.9768 - accuracy: 0.5239\n",
            "Epoch 61/400\n",
            "7/7 [==============================] - 3s 315ms/step - loss: 0.9781 - accuracy: 0.5626\n",
            "Epoch 62/400\n",
            "7/7 [==============================] - 2s 312ms/step - loss: 0.9460 - accuracy: 0.6010\n",
            "Epoch 63/400\n",
            "7/7 [==============================] - 3s 317ms/step - loss: 0.9783 - accuracy: 0.5408\n",
            "Epoch 64/400\n",
            "7/7 [==============================] - 2s 315ms/step - loss: 0.9562 - accuracy: 0.6169\n",
            "Epoch 65/400\n",
            "7/7 [==============================] - 2s 314ms/step - loss: 0.9901 - accuracy: 0.5842\n",
            "Epoch 66/400\n",
            "7/7 [==============================] - 3s 316ms/step - loss: 0.9555 - accuracy: 0.6265\n",
            "Epoch 67/400\n",
            "7/7 [==============================] - 2s 315ms/step - loss: 0.9852 - accuracy: 0.5435\n",
            "Epoch 68/400\n",
            "7/7 [==============================] - 3s 316ms/step - loss: 0.9392 - accuracy: 0.6490\n",
            "Epoch 69/400\n",
            "7/7 [==============================] - 2s 315ms/step - loss: 0.9418 - accuracy: 0.6149\n",
            "Epoch 70/400\n",
            "7/7 [==============================] - 3s 315ms/step - loss: 0.9431 - accuracy: 0.6199\n",
            "Epoch 71/400\n",
            "7/7 [==============================] - 3s 317ms/step - loss: 0.9481 - accuracy: 0.6510\n",
            "Epoch 72/400\n",
            "7/7 [==============================] - 3s 317ms/step - loss: 0.9414 - accuracy: 0.6122\n",
            "Epoch 73/400\n",
            "7/7 [==============================] - 3s 317ms/step - loss: 0.9527 - accuracy: 0.5974\n",
            "Epoch 74/400\n",
            "7/7 [==============================] - 3s 316ms/step - loss: 0.9086 - accuracy: 0.6714\n",
            "Epoch 75/400\n",
            "7/7 [==============================] - 3s 317ms/step - loss: 0.9593 - accuracy: 0.5176\n",
            "Epoch 76/400\n",
            "7/7 [==============================] - 3s 317ms/step - loss: 0.9214 - accuracy: 0.6311\n",
            "Epoch 77/400\n",
            "7/7 [==============================] - 3s 317ms/step - loss: 0.9375 - accuracy: 0.6206\n",
            "Epoch 78/400\n",
            "7/7 [==============================] - 3s 316ms/step - loss: 0.9175 - accuracy: 0.6331\n",
            "Epoch 79/400\n",
            "7/7 [==============================] - 3s 317ms/step - loss: 0.9379 - accuracy: 0.5950\n",
            "Epoch 80/400\n",
            "7/7 [==============================] - 2s 313ms/step - loss: 0.9028 - accuracy: 0.6931\n",
            "Epoch 81/400\n",
            "7/7 [==============================] - 3s 316ms/step - loss: 0.9145 - accuracy: 0.6482\n",
            "Epoch 82/400\n",
            "7/7 [==============================] - 3s 315ms/step - loss: 0.9192 - accuracy: 0.6955\n",
            "Epoch 83/400\n",
            "7/7 [==============================] - 3s 317ms/step - loss: 0.9006 - accuracy: 0.6568\n",
            "Epoch 84/400\n",
            "7/7 [==============================] - 3s 316ms/step - loss: 0.8965 - accuracy: 0.6917\n",
            "Epoch 85/400\n",
            "7/7 [==============================] - 3s 317ms/step - loss: 0.8990 - accuracy: 0.6943\n",
            "Epoch 86/400\n",
            "7/7 [==============================] - 3s 315ms/step - loss: 0.8971 - accuracy: 0.6370\n",
            "Epoch 87/400\n",
            "7/7 [==============================] - 2s 316ms/step - loss: 0.8953 - accuracy: 0.6263\n",
            "Epoch 88/400\n",
            "7/7 [==============================] - 3s 315ms/step - loss: 0.9119 - accuracy: 0.6295\n",
            "Epoch 89/400\n",
            "7/7 [==============================] - 2s 315ms/step - loss: 0.8848 - accuracy: 0.6825\n",
            "Epoch 90/400\n",
            "7/7 [==============================] - 3s 316ms/step - loss: 0.9342 - accuracy: 0.6204\n",
            "Epoch 91/400\n",
            "7/7 [==============================] - 2s 315ms/step - loss: 0.8892 - accuracy: 0.7113\n",
            "Epoch 92/400\n",
            "7/7 [==============================] - 3s 315ms/step - loss: 0.8700 - accuracy: 0.7289\n",
            "Epoch 93/400\n",
            "7/7 [==============================] - 3s 315ms/step - loss: 0.8879 - accuracy: 0.6744\n",
            "Epoch 94/400\n",
            "7/7 [==============================] - 2s 314ms/step - loss: 0.8689 - accuracy: 0.6784\n",
            "Epoch 95/400\n",
            "7/7 [==============================] - 3s 318ms/step - loss: 0.8808 - accuracy: 0.7168\n",
            "Epoch 96/400\n",
            "7/7 [==============================] - 3s 317ms/step - loss: 0.8734 - accuracy: 0.7167\n",
            "Epoch 97/400\n",
            "7/7 [==============================] - 3s 319ms/step - loss: 0.8805 - accuracy: 0.7187\n",
            "Epoch 98/400\n",
            "7/7 [==============================] - 3s 317ms/step - loss: 0.9002 - accuracy: 0.6456\n",
            "Epoch 99/400\n",
            "7/7 [==============================] - 3s 317ms/step - loss: 0.8667 - accuracy: 0.7516\n",
            "Epoch 100/400\n",
            "7/7 [==============================] - 3s 316ms/step - loss: 0.8292 - accuracy: 0.7881\n",
            "Epoch 101/400\n",
            "7/7 [==============================] - 3s 317ms/step - loss: 0.8708 - accuracy: 0.6907\n",
            "Epoch 102/400\n",
            "7/7 [==============================] - 3s 318ms/step - loss: 0.8462 - accuracy: 0.7016\n",
            "Epoch 103/400\n",
            "7/7 [==============================] - 3s 317ms/step - loss: 0.8428 - accuracy: 0.7280\n",
            "Epoch 104/400\n",
            "7/7 [==============================] - 3s 318ms/step - loss: 0.9016 - accuracy: 0.6206\n",
            "Epoch 105/400\n",
            "7/7 [==============================] - 3s 318ms/step - loss: 0.8358 - accuracy: 0.7609\n",
            "Epoch 106/400\n",
            "7/7 [==============================] - 3s 315ms/step - loss: 0.8592 - accuracy: 0.7059\n",
            "Epoch 107/400\n",
            "7/7 [==============================] - 3s 316ms/step - loss: 0.8376 - accuracy: 0.7730\n",
            "Epoch 108/400\n",
            "7/7 [==============================] - 3s 317ms/step - loss: 0.8057 - accuracy: 0.8179\n",
            "Epoch 109/400\n",
            "7/7 [==============================] - 2s 316ms/step - loss: 0.8321 - accuracy: 0.7400\n",
            "Epoch 110/400\n",
            "7/7 [==============================] - 3s 316ms/step - loss: 0.8366 - accuracy: 0.7984\n",
            "Epoch 111/400\n",
            "7/7 [==============================] - 2s 315ms/step - loss: 0.8283 - accuracy: 0.7914\n",
            "Epoch 112/400\n",
            "7/7 [==============================] - 3s 315ms/step - loss: 0.8411 - accuracy: 0.7472\n",
            "Epoch 113/400\n",
            "7/7 [==============================] - 2s 315ms/step - loss: 0.8387 - accuracy: 0.7341\n",
            "Epoch 114/400\n",
            "7/7 [==============================] - 3s 316ms/step - loss: 0.8114 - accuracy: 0.7427\n",
            "Epoch 115/400\n",
            "7/7 [==============================] - 2s 315ms/step - loss: 0.8211 - accuracy: 0.7213\n",
            "Epoch 116/400\n",
            "7/7 [==============================] - 3s 317ms/step - loss: 0.8398 - accuracy: 0.7052\n",
            "Epoch 117/400\n",
            "7/7 [==============================] - 3s 317ms/step - loss: 0.8469 - accuracy: 0.7069\n",
            "Epoch 118/400\n",
            "7/7 [==============================] - 3s 316ms/step - loss: 0.8345 - accuracy: 0.7493\n",
            "Epoch 119/400\n",
            "7/7 [==============================] - 3s 316ms/step - loss: 0.8154 - accuracy: 0.7440\n",
            "Epoch 120/400\n",
            "7/7 [==============================] - 3s 317ms/step - loss: 0.7997 - accuracy: 0.7703\n",
            "Epoch 121/400\n",
            "7/7 [==============================] - 3s 316ms/step - loss: 0.8158 - accuracy: 0.7790\n",
            "Epoch 122/400\n",
            "7/7 [==============================] - 3s 316ms/step - loss: 0.8161 - accuracy: 0.7594\n",
            "Epoch 123/400\n",
            "7/7 [==============================] - 3s 316ms/step - loss: 0.8356 - accuracy: 0.7466\n",
            "Epoch 124/400\n",
            "7/7 [==============================] - 3s 316ms/step - loss: 0.8107 - accuracy: 0.8052\n",
            "Epoch 125/400\n",
            "7/7 [==============================] - 3s 317ms/step - loss: 0.8281 - accuracy: 0.7641\n",
            "Epoch 126/400\n",
            "7/7 [==============================] - 3s 315ms/step - loss: 0.7985 - accuracy: 0.7982\n",
            "Epoch 127/400\n",
            "7/7 [==============================] - 3s 316ms/step - loss: 0.8125 - accuracy: 0.7569\n",
            "Epoch 128/400\n",
            "7/7 [==============================] - 3s 318ms/step - loss: 0.8165 - accuracy: 0.7755\n",
            "Epoch 129/400\n",
            "7/7 [==============================] - 3s 316ms/step - loss: 0.7966 - accuracy: 0.7643\n",
            "Epoch 130/400\n",
            "7/7 [==============================] - 3s 316ms/step - loss: 0.7839 - accuracy: 0.7347\n",
            "Epoch 131/400\n",
            "7/7 [==============================] - 3s 316ms/step - loss: 0.8227 - accuracy: 0.7134\n",
            "Epoch 132/400\n",
            "7/7 [==============================] - 3s 316ms/step - loss: 0.7747 - accuracy: 0.7940\n",
            "Epoch 133/400\n",
            "7/7 [==============================] - 3s 316ms/step - loss: 0.7879 - accuracy: 0.8058\n",
            "Epoch 134/400\n",
            "7/7 [==============================] - 3s 316ms/step - loss: 0.8062 - accuracy: 0.7550\n",
            "Epoch 135/400\n",
            "7/7 [==============================] - 3s 315ms/step - loss: 0.8015 - accuracy: 0.7498\n",
            "Epoch 136/400\n",
            "7/7 [==============================] - 3s 316ms/step - loss: 0.7949 - accuracy: 0.8174\n",
            "Epoch 137/400\n",
            "7/7 [==============================] - 3s 316ms/step - loss: 0.7826 - accuracy: 0.7507\n",
            "Epoch 138/400\n",
            "7/7 [==============================] - 3s 316ms/step - loss: 0.7944 - accuracy: 0.7179\n",
            "Epoch 139/400\n",
            "7/7 [==============================] - 3s 316ms/step - loss: 0.7572 - accuracy: 0.8241\n",
            "Epoch 140/400\n",
            "7/7 [==============================] - 3s 317ms/step - loss: 0.7598 - accuracy: 0.7727\n",
            "Epoch 141/400\n",
            "7/7 [==============================] - 3s 319ms/step - loss: 0.7719 - accuracy: 0.7943\n",
            "Epoch 142/400\n",
            "7/7 [==============================] - 3s 317ms/step - loss: 0.7739 - accuracy: 0.7862\n",
            "Epoch 143/400\n",
            "7/7 [==============================] - 3s 317ms/step - loss: 0.7883 - accuracy: 0.7885\n",
            "Epoch 144/400\n",
            "7/7 [==============================] - 3s 317ms/step - loss: 0.7748 - accuracy: 0.7410\n",
            "Epoch 145/400\n",
            "7/7 [==============================] - 3s 316ms/step - loss: 0.7689 - accuracy: 0.8155\n",
            "Epoch 146/400\n",
            "7/7 [==============================] - 3s 318ms/step - loss: 0.7732 - accuracy: 0.7760\n",
            "Epoch 147/400\n",
            "7/7 [==============================] - 3s 318ms/step - loss: 0.7733 - accuracy: 0.7534\n",
            "Epoch 148/400\n",
            "7/7 [==============================] - 3s 316ms/step - loss: 0.7543 - accuracy: 0.7730\n",
            "Epoch 149/400\n",
            "7/7 [==============================] - 3s 315ms/step - loss: 0.7656 - accuracy: 0.8165\n",
            "Epoch 150/400\n",
            "7/7 [==============================] - 3s 317ms/step - loss: 0.7890 - accuracy: 0.7704\n",
            "Epoch 151/400\n",
            "7/7 [==============================] - 3s 317ms/step - loss: 0.7476 - accuracy: 0.7854\n",
            "Epoch 152/400\n",
            "7/7 [==============================] - 3s 316ms/step - loss: 0.7447 - accuracy: 0.7987\n",
            "Epoch 153/400\n",
            "7/7 [==============================] - 3s 316ms/step - loss: 0.7742 - accuracy: 0.7482\n",
            "Epoch 154/400\n",
            "7/7 [==============================] - 3s 317ms/step - loss: 0.7611 - accuracy: 0.7734\n",
            "Epoch 155/400\n",
            "7/7 [==============================] - 2s 315ms/step - loss: 0.7212 - accuracy: 0.8197\n",
            "Epoch 156/400\n",
            "7/7 [==============================] - 3s 317ms/step - loss: 0.7346 - accuracy: 0.8357\n",
            "Epoch 157/400\n",
            "7/7 [==============================] - 2s 314ms/step - loss: 0.7450 - accuracy: 0.8112\n",
            "Epoch 158/400\n",
            "7/7 [==============================] - 3s 316ms/step - loss: 0.7216 - accuracy: 0.8230\n",
            "Epoch 159/400\n",
            "7/7 [==============================] - 2s 316ms/step - loss: 0.7339 - accuracy: 0.8220\n",
            "Epoch 160/400\n",
            "7/7 [==============================] - 3s 317ms/step - loss: 0.7618 - accuracy: 0.7311\n",
            "Epoch 161/400\n",
            "7/7 [==============================] - 3s 316ms/step - loss: 0.7566 - accuracy: 0.7915\n",
            "Epoch 162/400\n",
            "7/7 [==============================] - 3s 317ms/step - loss: 0.7340 - accuracy: 0.7823\n",
            "Epoch 163/400\n",
            "7/7 [==============================] - 3s 316ms/step - loss: 0.7406 - accuracy: 0.7944\n",
            "Epoch 164/400\n",
            "7/7 [==============================] - 3s 316ms/step - loss: 0.7311 - accuracy: 0.7774\n",
            "Epoch 165/400\n",
            "7/7 [==============================] - 3s 316ms/step - loss: 0.7302 - accuracy: 0.8262\n",
            "Epoch 166/400\n",
            "7/7 [==============================] - 2s 315ms/step - loss: 0.7479 - accuracy: 0.7892\n",
            "Epoch 167/400\n",
            "7/7 [==============================] - 3s 316ms/step - loss: 0.7694 - accuracy: 0.7624\n",
            "Epoch 168/400\n",
            "7/7 [==============================] - 2s 315ms/step - loss: 0.7360 - accuracy: 0.8197\n",
            "Epoch 169/400\n",
            "7/7 [==============================] - 3s 316ms/step - loss: 0.7367 - accuracy: 0.7807\n",
            "Epoch 170/400\n",
            "7/7 [==============================] - 3s 316ms/step - loss: 0.7648 - accuracy: 0.7926\n",
            "Epoch 171/400\n",
            "7/7 [==============================] - 3s 316ms/step - loss: 0.7419 - accuracy: 0.7963\n",
            "Epoch 172/400\n",
            "7/7 [==============================] - 3s 316ms/step - loss: 0.7148 - accuracy: 0.8474\n",
            "Epoch 173/400\n",
            "7/7 [==============================] - 3s 316ms/step - loss: 0.7295 - accuracy: 0.7818\n",
            "Epoch 174/400\n",
            "7/7 [==============================] - 3s 317ms/step - loss: 0.7036 - accuracy: 0.8186\n",
            "Epoch 175/400\n",
            "7/7 [==============================] - 3s 317ms/step - loss: 0.7236 - accuracy: 0.8407\n",
            "Epoch 176/400\n",
            "7/7 [==============================] - 2s 316ms/step - loss: 0.7524 - accuracy: 0.7733\n",
            "Epoch 177/400\n",
            "7/7 [==============================] - 3s 317ms/step - loss: 0.7129 - accuracy: 0.8244\n",
            "Epoch 178/400\n",
            "7/7 [==============================] - 3s 316ms/step - loss: 0.7002 - accuracy: 0.8159\n",
            "Epoch 179/400\n",
            "7/7 [==============================] - 3s 316ms/step - loss: 0.7133 - accuracy: 0.8220\n",
            "Epoch 180/400\n",
            "7/7 [==============================] - 3s 317ms/step - loss: 0.7020 - accuracy: 0.8373\n",
            "Epoch 181/400\n",
            "7/7 [==============================] - 2s 316ms/step - loss: 0.7120 - accuracy: 0.8207\n",
            "Epoch 182/400\n",
            "7/7 [==============================] - 3s 319ms/step - loss: 0.7239 - accuracy: 0.7962\n",
            "Epoch 183/400\n",
            "7/7 [==============================] - 3s 317ms/step - loss: 0.7119 - accuracy: 0.8254\n",
            "Epoch 184/400\n",
            "7/7 [==============================] - 3s 316ms/step - loss: 0.6974 - accuracy: 0.8272\n",
            "Epoch 185/400\n",
            "7/7 [==============================] - 3s 317ms/step - loss: 0.6994 - accuracy: 0.8254\n",
            "Epoch 186/400\n",
            "7/7 [==============================] - 3s 316ms/step - loss: 0.7016 - accuracy: 0.7973\n",
            "Epoch 187/400\n",
            "7/7 [==============================] - 3s 316ms/step - loss: 0.6952 - accuracy: 0.8317\n",
            "Epoch 188/400\n",
            "7/7 [==============================] - 3s 314ms/step - loss: 0.7268 - accuracy: 0.7613\n",
            "Epoch 189/400\n",
            "7/7 [==============================] - 3s 318ms/step - loss: 0.6898 - accuracy: 0.8310\n",
            "Epoch 190/400\n",
            "7/7 [==============================] - 3s 316ms/step - loss: 0.6655 - accuracy: 0.8538\n",
            "Epoch 191/400\n",
            "7/7 [==============================] - 3s 316ms/step - loss: 0.7059 - accuracy: 0.8237\n",
            "Epoch 192/400\n",
            "7/7 [==============================] - 3s 316ms/step - loss: 0.6582 - accuracy: 0.8667\n",
            "Epoch 193/400\n",
            "7/7 [==============================] - 3s 318ms/step - loss: 0.6853 - accuracy: 0.8282\n",
            "Epoch 194/400\n",
            "7/7 [==============================] - 3s 316ms/step - loss: 0.6835 - accuracy: 0.8574\n",
            "Epoch 195/400\n",
            "7/7 [==============================] - 3s 318ms/step - loss: 0.6994 - accuracy: 0.8280\n",
            "Epoch 196/400\n",
            "7/7 [==============================] - 3s 317ms/step - loss: 0.6898 - accuracy: 0.8196\n",
            "Epoch 197/400\n",
            "7/7 [==============================] - 3s 319ms/step - loss: 0.6620 - accuracy: 0.8375\n",
            "Epoch 198/400\n",
            "7/7 [==============================] - 3s 316ms/step - loss: 0.6567 - accuracy: 0.8479\n",
            "Epoch 199/400\n",
            "7/7 [==============================] - 2s 315ms/step - loss: 0.6550 - accuracy: 0.8247\n",
            "Epoch 200/400\n",
            "7/7 [==============================] - 3s 317ms/step - loss: 0.6710 - accuracy: 0.8529\n",
            "Epoch 201/400\n",
            "7/7 [==============================] - 2s 314ms/step - loss: 0.6907 - accuracy: 0.8114\n",
            "Epoch 202/400\n",
            "7/7 [==============================] - 3s 317ms/step - loss: 0.6789 - accuracy: 0.8406\n",
            "Epoch 203/400\n",
            "7/7 [==============================] - 3s 318ms/step - loss: 0.6664 - accuracy: 0.8473\n",
            "Epoch 204/400\n",
            "7/7 [==============================] - 3s 318ms/step - loss: 0.6617 - accuracy: 0.8331\n",
            "Epoch 205/400\n",
            "7/7 [==============================] - 3s 317ms/step - loss: 0.6896 - accuracy: 0.8303\n",
            "Epoch 206/400\n",
            "7/7 [==============================] - 3s 317ms/step - loss: 0.6563 - accuracy: 0.8734\n",
            "Epoch 207/400\n",
            "7/7 [==============================] - 3s 316ms/step - loss: 0.6692 - accuracy: 0.8186\n",
            "Epoch 208/400\n",
            "7/7 [==============================] - 3s 316ms/step - loss: 0.6725 - accuracy: 0.8308\n",
            "Epoch 209/400\n",
            "7/7 [==============================] - 3s 316ms/step - loss: 0.6829 - accuracy: 0.8042\n",
            "Epoch 210/400\n",
            "7/7 [==============================] - 3s 315ms/step - loss: 0.6913 - accuracy: 0.8109\n",
            "Epoch 211/400\n",
            "7/7 [==============================] - 3s 315ms/step - loss: 0.6977 - accuracy: 0.7582\n",
            "Epoch 212/400\n",
            "7/7 [==============================] - 3s 316ms/step - loss: 0.6355 - accuracy: 0.8116\n",
            "Epoch 213/400\n",
            "7/7 [==============================] - 3s 314ms/step - loss: 0.6702 - accuracy: 0.8168\n",
            "Epoch 214/400\n",
            "7/7 [==============================] - 2s 314ms/step - loss: 0.6641 - accuracy: 0.8504\n",
            "Epoch 215/400\n",
            "7/7 [==============================] - 3s 316ms/step - loss: 0.6202 - accuracy: 0.8730\n",
            "Epoch 216/400\n",
            "7/7 [==============================] - 3s 315ms/step - loss: 0.6473 - accuracy: 0.8088\n",
            "Epoch 217/400\n",
            "7/7 [==============================] - 3s 316ms/step - loss: 0.6389 - accuracy: 0.8750\n",
            "Epoch 218/400\n",
            "7/7 [==============================] - 3s 317ms/step - loss: 0.6284 - accuracy: 0.8663\n",
            "Epoch 219/400\n",
            "7/7 [==============================] - 3s 317ms/step - loss: 0.6200 - accuracy: 0.8801\n",
            "Epoch 220/400\n",
            "7/7 [==============================] - 3s 317ms/step - loss: 0.6328 - accuracy: 0.8476\n",
            "Epoch 221/400\n",
            "7/7 [==============================] - 2s 315ms/step - loss: 0.6199 - accuracy: 0.8705\n",
            "Epoch 222/400\n",
            "7/7 [==============================] - 3s 316ms/step - loss: 0.6550 - accuracy: 0.8280\n",
            "Epoch 223/400\n",
            "7/7 [==============================] - 3s 316ms/step - loss: 0.6737 - accuracy: 0.8229\n",
            "Epoch 224/400\n",
            "7/7 [==============================] - 3s 316ms/step - loss: 0.6432 - accuracy: 0.8465\n",
            "Epoch 225/400\n",
            "7/7 [==============================] - 3s 317ms/step - loss: 0.6390 - accuracy: 0.8117\n",
            "Epoch 226/400\n",
            "7/7 [==============================] - 3s 316ms/step - loss: 0.6086 - accuracy: 0.9107\n",
            "Epoch 227/400\n",
            "7/7 [==============================] - 3s 316ms/step - loss: 0.6414 - accuracy: 0.8308\n",
            "Epoch 228/400\n",
            "7/7 [==============================] - 3s 316ms/step - loss: 0.6181 - accuracy: 0.8599\n",
            "Epoch 229/400\n",
            "7/7 [==============================] - 3s 318ms/step - loss: 0.6442 - accuracy: 0.8261\n",
            "Epoch 230/400\n",
            "7/7 [==============================] - 3s 316ms/step - loss: 0.6358 - accuracy: 0.8572\n",
            "Epoch 231/400\n",
            "7/7 [==============================] - 2s 317ms/step - loss: 0.6353 - accuracy: 0.8349\n",
            "Epoch 232/400\n",
            "7/7 [==============================] - 3s 318ms/step - loss: 0.6752 - accuracy: 0.8049\n",
            "Epoch 233/400\n",
            "7/7 [==============================] - 3s 317ms/step - loss: 0.6174 - accuracy: 0.8554\n",
            "Epoch 234/400\n",
            "7/7 [==============================] - 3s 315ms/step - loss: 0.6379 - accuracy: 0.8136\n",
            "Epoch 235/400\n",
            "7/7 [==============================] - 3s 317ms/step - loss: 0.6184 - accuracy: 0.8921\n",
            "Epoch 236/400\n",
            "7/7 [==============================] - 3s 317ms/step - loss: 0.6464 - accuracy: 0.8173\n",
            "Epoch 237/400\n",
            "7/7 [==============================] - 2s 316ms/step - loss: 0.6409 - accuracy: 0.8334\n",
            "Epoch 238/400\n",
            "7/7 [==============================] - 3s 316ms/step - loss: 0.6094 - accuracy: 0.8649\n",
            "Epoch 239/400\n",
            "7/7 [==============================] - 2s 315ms/step - loss: 0.6353 - accuracy: 0.8004\n",
            "Epoch 240/400\n",
            "7/7 [==============================] - 3s 316ms/step - loss: 0.6408 - accuracy: 0.8072\n",
            "Epoch 241/400\n",
            "7/7 [==============================] - 3s 317ms/step - loss: 0.5907 - accuracy: 0.9074\n",
            "Epoch 242/400\n",
            "7/7 [==============================] - 3s 317ms/step - loss: 0.6421 - accuracy: 0.8429\n",
            "Epoch 243/400\n",
            "7/7 [==============================] - 3s 317ms/step - loss: 0.6290 - accuracy: 0.8507\n",
            "Epoch 244/400\n",
            "7/7 [==============================] - 3s 316ms/step - loss: 0.6134 - accuracy: 0.8375\n",
            "Epoch 245/400\n",
            "7/7 [==============================] - 3s 316ms/step - loss: 0.6328 - accuracy: 0.8321\n",
            "Epoch 246/400\n",
            "7/7 [==============================] - 3s 317ms/step - loss: 0.6052 - accuracy: 0.8748\n",
            "Epoch 247/400\n",
            "7/7 [==============================] - 3s 318ms/step - loss: 0.6295 - accuracy: 0.8545\n",
            "Epoch 248/400\n",
            "7/7 [==============================] - 3s 318ms/step - loss: 0.6231 - accuracy: 0.8659\n",
            "Epoch 249/400\n",
            "7/7 [==============================] - 3s 316ms/step - loss: 0.5820 - accuracy: 0.8829\n",
            "Epoch 250/400\n",
            "7/7 [==============================] - 3s 315ms/step - loss: 0.6019 - accuracy: 0.8629\n",
            "Epoch 251/400\n",
            "7/7 [==============================] - 3s 316ms/step - loss: 0.6362 - accuracy: 0.8635\n",
            "Epoch 252/400\n",
            "7/7 [==============================] - 3s 318ms/step - loss: 0.6363 - accuracy: 0.7982\n",
            "Epoch 253/400\n",
            "7/7 [==============================] - 3s 317ms/step - loss: 0.6360 - accuracy: 0.8008\n",
            "Epoch 254/400\n",
            "7/7 [==============================] - 3s 317ms/step - loss: 0.6092 - accuracy: 0.8620\n",
            "Epoch 255/400\n",
            "7/7 [==============================] - 3s 316ms/step - loss: 0.6106 - accuracy: 0.8493\n",
            "Epoch 256/400\n",
            "7/7 [==============================] - 3s 316ms/step - loss: 0.6018 - accuracy: 0.8796\n",
            "Epoch 257/400\n",
            "7/7 [==============================] - 3s 317ms/step - loss: 0.6145 - accuracy: 0.8278\n",
            "Epoch 258/400\n",
            "7/7 [==============================] - 3s 317ms/step - loss: 0.5816 - accuracy: 0.8686\n",
            "Epoch 259/400\n",
            "7/7 [==============================] - 3s 317ms/step - loss: 0.6301 - accuracy: 0.8441\n",
            "Epoch 260/400\n",
            "7/7 [==============================] - 3s 318ms/step - loss: 0.5752 - accuracy: 0.9063\n",
            "Epoch 261/400\n",
            "7/7 [==============================] - 3s 316ms/step - loss: 0.6168 - accuracy: 0.8312\n",
            "Epoch 262/400\n",
            "7/7 [==============================] - 3s 318ms/step - loss: 0.6244 - accuracy: 0.8367\n",
            "Epoch 263/400\n",
            "7/7 [==============================] - 3s 317ms/step - loss: 0.5979 - accuracy: 0.8528\n",
            "Epoch 264/400\n",
            "7/7 [==============================] - 3s 317ms/step - loss: 0.5852 - accuracy: 0.8747\n",
            "Epoch 265/400\n",
            "7/7 [==============================] - 3s 318ms/step - loss: 0.5578 - accuracy: 0.8811\n",
            "Epoch 266/400\n",
            "7/7 [==============================] - 3s 318ms/step - loss: 0.6088 - accuracy: 0.8586\n",
            "Epoch 267/400\n",
            "7/7 [==============================] - 3s 317ms/step - loss: 0.5735 - accuracy: 0.8817\n",
            "Epoch 268/400\n",
            "7/7 [==============================] - 3s 317ms/step - loss: 0.5532 - accuracy: 0.8976\n",
            "Epoch 269/400\n",
            "7/7 [==============================] - 3s 314ms/step - loss: 0.6016 - accuracy: 0.8430\n",
            "Epoch 270/400\n",
            "7/7 [==============================] - 3s 316ms/step - loss: 0.5903 - accuracy: 0.8347\n",
            "Epoch 271/400\n",
            "7/7 [==============================] - 3s 317ms/step - loss: 0.5923 - accuracy: 0.8567\n",
            "Epoch 272/400\n",
            "7/7 [==============================] - 3s 318ms/step - loss: 0.5927 - accuracy: 0.8997\n",
            "Epoch 273/400\n",
            "7/7 [==============================] - 3s 317ms/step - loss: 0.6147 - accuracy: 0.8444\n",
            "Epoch 274/400\n",
            "7/7 [==============================] - 3s 318ms/step - loss: 0.5883 - accuracy: 0.8588\n",
            "Epoch 275/400\n",
            "7/7 [==============================] - 3s 317ms/step - loss: 0.5998 - accuracy: 0.8153\n",
            "Epoch 276/400\n",
            "7/7 [==============================] - 2s 315ms/step - loss: 0.5847 - accuracy: 0.8626\n",
            "Epoch 277/400\n",
            "7/7 [==============================] - 2s 316ms/step - loss: 0.5621 - accuracy: 0.8637\n",
            "Epoch 278/400\n",
            "7/7 [==============================] - 2s 316ms/step - loss: 0.5749 - accuracy: 0.8637\n",
            "Epoch 279/400\n",
            "7/7 [==============================] - 2s 314ms/step - loss: 0.5982 - accuracy: 0.8383\n",
            "Epoch 280/400\n",
            "7/7 [==============================] - 3s 317ms/step - loss: 0.5631 - accuracy: 0.8572\n",
            "Epoch 281/400\n",
            "7/7 [==============================] - 3s 317ms/step - loss: 0.5855 - accuracy: 0.8588\n",
            "Epoch 282/400\n",
            "7/7 [==============================] - 3s 317ms/step - loss: 0.5825 - accuracy: 0.8365\n",
            "Epoch 283/400\n",
            "7/7 [==============================] - 3s 317ms/step - loss: 0.5818 - accuracy: 0.8491\n",
            "Epoch 284/400\n",
            "7/7 [==============================] - 3s 317ms/step - loss: 0.6037 - accuracy: 0.8453\n",
            "Epoch 285/400\n",
            "7/7 [==============================] - 3s 316ms/step - loss: 0.5682 - accuracy: 0.8707\n",
            "Epoch 286/400\n",
            "7/7 [==============================] - 3s 315ms/step - loss: 0.5511 - accuracy: 0.8810\n",
            "Epoch 287/400\n",
            "7/7 [==============================] - 2s 316ms/step - loss: 0.6064 - accuracy: 0.8362\n",
            "Epoch 288/400\n",
            "7/7 [==============================] - 3s 317ms/step - loss: 0.5830 - accuracy: 0.8136\n",
            "Epoch 289/400\n",
            "7/7 [==============================] - 2s 315ms/step - loss: 0.5645 - accuracy: 0.8333\n",
            "Epoch 290/400\n",
            "7/7 [==============================] - 2s 315ms/step - loss: 0.5392 - accuracy: 0.8999\n",
            "Epoch 291/400\n",
            "7/7 [==============================] - 2s 315ms/step - loss: 0.5798 - accuracy: 0.8497\n",
            "Epoch 292/400\n",
            "7/7 [==============================] - 2s 315ms/step - loss: 0.5722 - accuracy: 0.8358\n",
            "Epoch 293/400\n",
            "7/7 [==============================] - 3s 316ms/step - loss: 0.5620 - accuracy: 0.8571\n",
            "Epoch 294/400\n",
            "7/7 [==============================] - 3s 313ms/step - loss: 0.5407 - accuracy: 0.8669\n",
            "Epoch 295/400\n",
            "7/7 [==============================] - 3s 315ms/step - loss: 0.5645 - accuracy: 0.8812\n",
            "Epoch 296/400\n",
            "7/7 [==============================] - 3s 316ms/step - loss: 0.5655 - accuracy: 0.8862\n",
            "Epoch 297/400\n",
            "7/7 [==============================] - 3s 318ms/step - loss: 0.5757 - accuracy: 0.8260\n",
            "Epoch 298/400\n",
            "7/7 [==============================] - 3s 316ms/step - loss: 0.5643 - accuracy: 0.8566\n",
            "Epoch 299/400\n",
            "7/7 [==============================] - 3s 318ms/step - loss: 0.5472 - accuracy: 0.8853\n",
            "Epoch 300/400\n",
            "7/7 [==============================] - 3s 316ms/step - loss: 0.5689 - accuracy: 0.8353\n",
            "Epoch 301/400\n",
            "7/7 [==============================] - 3s 319ms/step - loss: 0.5594 - accuracy: 0.8738\n",
            "Epoch 302/400\n",
            "7/7 [==============================] - 2s 316ms/step - loss: 0.5631 - accuracy: 0.8930\n",
            "Epoch 303/400\n",
            "7/7 [==============================] - 3s 320ms/step - loss: 0.5484 - accuracy: 0.8776\n",
            "Epoch 304/400\n",
            "7/7 [==============================] - 3s 317ms/step - loss: 0.5646 - accuracy: 0.8722\n",
            "Epoch 305/400\n",
            "7/7 [==============================] - 3s 319ms/step - loss: 0.5411 - accuracy: 0.8865\n",
            "Epoch 306/400\n",
            "7/7 [==============================] - 3s 318ms/step - loss: 0.5087 - accuracy: 0.8795\n",
            "Epoch 307/400\n",
            "7/7 [==============================] - 3s 318ms/step - loss: 0.5549 - accuracy: 0.8313\n",
            "Epoch 308/400\n",
            "7/7 [==============================] - 3s 317ms/step - loss: 0.5584 - accuracy: 0.8410\n",
            "Epoch 309/400\n",
            "7/7 [==============================] - 3s 317ms/step - loss: 0.6135 - accuracy: 0.8489\n",
            "Epoch 310/400\n",
            "7/7 [==============================] - 2s 316ms/step - loss: 0.5086 - accuracy: 0.9206\n",
            "Epoch 311/400\n",
            "7/7 [==============================] - 3s 319ms/step - loss: 0.5713 - accuracy: 0.8570\n",
            "Epoch 312/400\n",
            "7/7 [==============================] - 3s 318ms/step - loss: 0.5224 - accuracy: 0.9130\n",
            "Epoch 313/400\n",
            "7/7 [==============================] - 3s 317ms/step - loss: 0.5215 - accuracy: 0.9179\n",
            "Epoch 314/400\n",
            "7/7 [==============================] - 3s 317ms/step - loss: 0.5272 - accuracy: 0.9078\n",
            "Epoch 315/400\n",
            "7/7 [==============================] - 3s 318ms/step - loss: 0.5438 - accuracy: 0.8861\n",
            "Epoch 316/400\n",
            "7/7 [==============================] - 3s 316ms/step - loss: 0.5478 - accuracy: 0.8793\n",
            "Epoch 317/400\n",
            "7/7 [==============================] - 3s 317ms/step - loss: 0.5042 - accuracy: 0.9334\n",
            "Epoch 318/400\n",
            "7/7 [==============================] - 3s 317ms/step - loss: 0.5347 - accuracy: 0.8908\n",
            "Epoch 319/400\n",
            "7/7 [==============================] - 3s 317ms/step - loss: 0.5020 - accuracy: 0.8895\n",
            "Epoch 320/400\n",
            "7/7 [==============================] - 2s 315ms/step - loss: 0.5391 - accuracy: 0.8748\n",
            "Epoch 321/400\n",
            "7/7 [==============================] - 3s 317ms/step - loss: 0.5580 - accuracy: 0.8738\n",
            "Epoch 322/400\n",
            "7/7 [==============================] - 3s 317ms/step - loss: 0.5585 - accuracy: 0.8432\n",
            "Epoch 323/400\n",
            "7/7 [==============================] - 3s 315ms/step - loss: 0.5271 - accuracy: 0.8944\n",
            "Epoch 324/400\n",
            "7/7 [==============================] - 3s 318ms/step - loss: 0.5379 - accuracy: 0.8797\n",
            "Epoch 325/400\n",
            "7/7 [==============================] - 3s 318ms/step - loss: 0.5041 - accuracy: 0.8997\n",
            "Epoch 326/400\n",
            "7/7 [==============================] - 3s 318ms/step - loss: 0.5132 - accuracy: 0.8971\n",
            "Epoch 327/400\n",
            "7/7 [==============================] - 3s 316ms/step - loss: 0.5394 - accuracy: 0.8846\n",
            "Epoch 328/400\n",
            "7/7 [==============================] - 3s 318ms/step - loss: 0.5123 - accuracy: 0.8849\n",
            "Epoch 329/400\n",
            "7/7 [==============================] - 3s 318ms/step - loss: 0.5214 - accuracy: 0.8782\n",
            "Epoch 330/400\n",
            "7/7 [==============================] - 3s 318ms/step - loss: 0.5347 - accuracy: 0.8598\n",
            "Epoch 331/400\n",
            "7/7 [==============================] - 3s 318ms/step - loss: 0.5301 - accuracy: 0.8633\n",
            "Epoch 332/400\n",
            "7/7 [==============================] - 3s 318ms/step - loss: 0.4958 - accuracy: 0.8778\n",
            "Epoch 333/400\n",
            "7/7 [==============================] - 3s 319ms/step - loss: 0.5164 - accuracy: 0.9091\n",
            "Epoch 334/400\n",
            "7/7 [==============================] - 3s 316ms/step - loss: 0.5302 - accuracy: 0.8938\n",
            "Epoch 335/400\n",
            "7/7 [==============================] - 3s 318ms/step - loss: 0.5182 - accuracy: 0.8745\n",
            "Epoch 336/400\n",
            "7/7 [==============================] - 3s 318ms/step - loss: 0.5277 - accuracy: 0.9016\n",
            "Epoch 337/400\n",
            "7/7 [==============================] - 3s 317ms/step - loss: 0.5117 - accuracy: 0.9044\n",
            "Epoch 338/400\n",
            "7/7 [==============================] - 3s 318ms/step - loss: 0.5107 - accuracy: 0.8771\n",
            "Epoch 339/400\n",
            "7/7 [==============================] - 3s 321ms/step - loss: 0.5226 - accuracy: 0.8866\n",
            "Epoch 340/400\n",
            "7/7 [==============================] - 3s 317ms/step - loss: 0.5215 - accuracy: 0.8827\n",
            "Epoch 341/400\n",
            "7/7 [==============================] - 3s 318ms/step - loss: 0.5161 - accuracy: 0.8705\n",
            "Epoch 342/400\n",
            "7/7 [==============================] - 3s 319ms/step - loss: 0.5261 - accuracy: 0.8360\n",
            "Epoch 343/400\n",
            "7/7 [==============================] - 2s 316ms/step - loss: 0.5345 - accuracy: 0.8842\n",
            "Epoch 344/400\n",
            "7/7 [==============================] - 3s 316ms/step - loss: 0.5074 - accuracy: 0.8947\n",
            "Epoch 345/400\n",
            "7/7 [==============================] - 3s 318ms/step - loss: 0.5308 - accuracy: 0.8823\n",
            "Epoch 346/400\n",
            "7/7 [==============================] - 3s 317ms/step - loss: 0.4880 - accuracy: 0.8878\n",
            "Epoch 347/400\n",
            "7/7 [==============================] - 3s 316ms/step - loss: 0.4918 - accuracy: 0.9256\n",
            "Epoch 348/400\n",
            "7/7 [==============================] - 3s 317ms/step - loss: 0.5321 - accuracy: 0.8786\n",
            "Epoch 349/400\n",
            "7/7 [==============================] - 3s 316ms/step - loss: 0.5290 - accuracy: 0.8652\n",
            "Epoch 350/400\n",
            "7/7 [==============================] - 3s 316ms/step - loss: 0.4902 - accuracy: 0.9166\n",
            "Epoch 351/400\n",
            "7/7 [==============================] - 3s 317ms/step - loss: 0.5246 - accuracy: 0.9012\n",
            "Epoch 352/400\n",
            "7/7 [==============================] - 3s 317ms/step - loss: 0.4689 - accuracy: 0.9053\n",
            "Epoch 353/400\n",
            "7/7 [==============================] - 3s 317ms/step - loss: 0.5302 - accuracy: 0.8859\n",
            "Epoch 354/400\n",
            "7/7 [==============================] - 3s 316ms/step - loss: 0.4836 - accuracy: 0.8921\n",
            "Epoch 355/400\n",
            "7/7 [==============================] - 3s 317ms/step - loss: 0.5311 - accuracy: 0.8806\n",
            "Epoch 356/400\n",
            "7/7 [==============================] - 3s 318ms/step - loss: 0.4933 - accuracy: 0.8877\n",
            "Epoch 357/400\n",
            "7/7 [==============================] - 3s 318ms/step - loss: 0.5166 - accuracy: 0.8590\n",
            "Epoch 358/400\n",
            "7/7 [==============================] - 3s 319ms/step - loss: 0.5218 - accuracy: 0.8384\n",
            "Epoch 359/400\n",
            "7/7 [==============================] - 3s 319ms/step - loss: 0.5012 - accuracy: 0.8943\n",
            "Epoch 360/400\n",
            "7/7 [==============================] - 3s 318ms/step - loss: 0.5081 - accuracy: 0.8630\n",
            "Epoch 361/400\n",
            "7/7 [==============================] - 3s 317ms/step - loss: 0.5044 - accuracy: 0.9025\n",
            "Epoch 362/400\n",
            "7/7 [==============================] - 3s 316ms/step - loss: 0.4874 - accuracy: 0.9197\n",
            "Epoch 363/400\n",
            "7/7 [==============================] - 3s 318ms/step - loss: 0.4793 - accuracy: 0.8794\n",
            "Epoch 364/400\n",
            "7/7 [==============================] - 3s 318ms/step - loss: 0.4803 - accuracy: 0.9136\n",
            "Epoch 365/400\n",
            "7/7 [==============================] - 3s 318ms/step - loss: 0.4782 - accuracy: 0.9013\n",
            "Epoch 366/400\n",
            "7/7 [==============================] - 3s 317ms/step - loss: 0.5165 - accuracy: 0.8646\n",
            "Epoch 367/400\n",
            "7/7 [==============================] - 2s 314ms/step - loss: 0.5065 - accuracy: 0.8971\n",
            "Epoch 368/400\n",
            "7/7 [==============================] - 3s 320ms/step - loss: 0.4804 - accuracy: 0.9080\n",
            "Epoch 369/400\n",
            "7/7 [==============================] - 3s 316ms/step - loss: 0.5126 - accuracy: 0.8610\n",
            "Epoch 370/400\n",
            "7/7 [==============================] - 3s 319ms/step - loss: 0.4884 - accuracy: 0.8929\n",
            "Epoch 371/400\n",
            "7/7 [==============================] - 3s 317ms/step - loss: 0.4987 - accuracy: 0.9090\n",
            "Epoch 372/400\n",
            "7/7 [==============================] - 3s 319ms/step - loss: 0.5068 - accuracy: 0.8803\n",
            "Epoch 373/400\n",
            "7/7 [==============================] - 3s 318ms/step - loss: 0.5458 - accuracy: 0.8604\n",
            "Epoch 374/400\n",
            "7/7 [==============================] - 3s 318ms/step - loss: 0.4783 - accuracy: 0.9217\n",
            "Epoch 375/400\n",
            "7/7 [==============================] - 3s 318ms/step - loss: 0.4847 - accuracy: 0.9289\n",
            "Epoch 376/400\n",
            "7/7 [==============================] - 3s 317ms/step - loss: 0.4678 - accuracy: 0.8970\n",
            "Epoch 377/400\n",
            "7/7 [==============================] - 3s 319ms/step - loss: 0.4835 - accuracy: 0.8773\n",
            "Epoch 378/400\n",
            "7/7 [==============================] - 3s 317ms/step - loss: 0.4992 - accuracy: 0.8780\n",
            "Epoch 379/400\n",
            "7/7 [==============================] - 3s 318ms/step - loss: 0.4869 - accuracy: 0.9072\n",
            "Epoch 380/400\n",
            "7/7 [==============================] - 3s 319ms/step - loss: 0.4815 - accuracy: 0.8846\n",
            "Epoch 381/400\n",
            "7/7 [==============================] - 3s 317ms/step - loss: 0.4920 - accuracy: 0.9061\n",
            "Epoch 382/400\n",
            "7/7 [==============================] - 3s 318ms/step - loss: 0.5233 - accuracy: 0.8387\n",
            "Epoch 383/400\n",
            "7/7 [==============================] - 3s 319ms/step - loss: 0.5243 - accuracy: 0.8578\n",
            "Epoch 384/400\n",
            "7/7 [==============================] - 3s 320ms/step - loss: 0.5072 - accuracy: 0.8360\n",
            "Epoch 385/400\n",
            "7/7 [==============================] - 3s 319ms/step - loss: 0.4939 - accuracy: 0.8814\n",
            "Epoch 386/400\n",
            "7/7 [==============================] - 3s 317ms/step - loss: 0.4421 - accuracy: 0.9226\n",
            "Epoch 387/400\n",
            "7/7 [==============================] - 3s 318ms/step - loss: 0.4976 - accuracy: 0.8632\n",
            "Epoch 388/400\n",
            "7/7 [==============================] - 3s 318ms/step - loss: 0.4747 - accuracy: 0.8856\n",
            "Epoch 389/400\n",
            "7/7 [==============================] - 3s 317ms/step - loss: 0.5082 - accuracy: 0.8590\n",
            "Epoch 390/400\n",
            "7/7 [==============================] - 3s 318ms/step - loss: 0.4693 - accuracy: 0.9156\n",
            "Epoch 391/400\n",
            "7/7 [==============================] - 3s 318ms/step - loss: 0.4989 - accuracy: 0.8670\n",
            "Epoch 392/400\n",
            "7/7 [==============================] - 3s 317ms/step - loss: 0.5390 - accuracy: 0.8334\n",
            "Epoch 393/400\n",
            "7/7 [==============================] - 3s 316ms/step - loss: 0.4865 - accuracy: 0.8450\n",
            "Epoch 394/400\n",
            "7/7 [==============================] - 2s 315ms/step - loss: 0.4821 - accuracy: 0.9267\n",
            "Epoch 395/400\n",
            "7/7 [==============================] - 3s 317ms/step - loss: 0.4868 - accuracy: 0.9053\n",
            "Epoch 396/400\n",
            "7/7 [==============================] - 3s 315ms/step - loss: 0.4998 - accuracy: 0.8778\n",
            "Epoch 397/400\n",
            "7/7 [==============================] - 3s 317ms/step - loss: 0.4749 - accuracy: 0.9048\n",
            "Epoch 398/400\n",
            "7/7 [==============================] - 3s 317ms/step - loss: 0.4969 - accuracy: 0.8690\n",
            "Epoch 399/400\n",
            "7/7 [==============================] - 3s 317ms/step - loss: 0.5295 - accuracy: 0.8496\n",
            "Epoch 400/400\n",
            "7/7 [==============================] - 3s 318ms/step - loss: 0.4609 - accuracy: 0.8842\n",
            "INFO:tensorflow:Assets written to: /content/model/assets\n"
          ],
          "name": "stdout"
        }
      ]
    },
    {
      "cell_type": "code",
      "metadata": {
        "id": "1pU9LG4jwYcU"
      },
      "source": [
        "hist_acc = history.history['accuracy']\r\n",
        "hist_loss = history.history['loss']"
      ],
      "execution_count": 19,
      "outputs": []
    },
    {
      "cell_type": "code",
      "metadata": {
        "colab": {
          "base_uri": "https://localhost:8080/",
          "height": 573
        },
        "id": "Ej0IYDTCLzEH",
        "outputId": "0943d870-d892-4a61-e58d-e451a48e1c54"
      },
      "source": [
        "# plot the loss and accuracy curves\r\n",
        "plt.plot( hist_loss)\r\n",
        "plt.title('model loss')\r\n",
        "plt.ylabel('loss')\r\n",
        "plt.xlabel('epoch')\r\n",
        "plt.show()\r\n",
        "plt.plot( hist_acc )\r\n",
        "plt.title('model accuracy')\r\n",
        "plt.ylabel('accuracy')\r\n",
        "plt.xlabel('epoch')\r\n",
        "plt.show()"
      ],
      "execution_count": 20,
      "outputs": [
        {
          "output_type": "display_data",
          "data": {
            "image/png": "[encoded data removed]",
            "text/plain": [
              "<Figure size 432x288 with 1 Axes>"
            ]
          },
          "metadata": {
            "tags": [],
            "needs_background": "light"
          }
        },
        {
          "output_type": "display_data",
          "data": {
            "image/png": "[encoded data removed]",
            "text/plain": [
              "<Figure size 432x288 with 1 Axes>"
            ]
          },
          "metadata": {
            "tags": [],
            "needs_background": "light"
          }
        }
      ]
    },
    {
      "cell_type": "markdown",
      "metadata": {
        "id": "C_G0UZGkLzEI"
      },
      "source": [
        "### Fine Tuning"
      ]
    },
    {
      "cell_type": "markdown",
      "metadata": {
        "id": "gJ8izmDaLzEI"
      },
      "source": [
        "In the feature extraction, you were only training a few layers on top of a base model. The weights of the pre-trained network were not updated during training.\r\n",
        "\r\n",
        "One way to increase performance even further is to train (or \"fine-tune\") the weights of the top layers of the pre-trained model alongside the training of the classifier you added. The training process will force the weights to be tuned from generic feature maps to features associated specifically with the dataset."
      ]
    },
    {
      "cell_type": "code",
      "metadata": {
        "id": "IKo8wHKFLzEI"
      },
      "source": [
        "# unfreeze the base model\r\n",
        "base_model.trainable = True\r\n",
        "fine_tune_at = 100\r\n",
        "\r\n"
      ],
      "execution_count": 21,
      "outputs": []
    },
    {
      "cell_type": "code",
      "metadata": {
        "colab": {
          "base_uri": "https://localhost:8080/"
        },
        "id": "TyjSf1pmLzEJ",
        "outputId": "dc1432e3-e7d0-45db-cab7-98bc974134be"
      },
      "source": [
        "# print the number of layers in the base model\r\n",
        "print(base_model.layers)"
      ],
      "execution_count": 22,
      "outputs": [
        {
          "output_type": "stream",
          "text": [
            "[<tensorflow.python.keras.engine.input_layer.InputLayer object at 0x7fddf191dc50>, <tensorflow.python.keras.layers.preprocessing.image_preprocessing.Rescaling object at 0x7fddf0c4cf90>, <tensorflow.python.keras.layers.preprocessing.normalization.Normalization object at 0x7fddf0c03b10>, <tensorflow.python.keras.layers.convolutional.ZeroPadding2D object at 0x7fddf0c03990>, <tensorflow.python.keras.layers.convolutional.Conv2D object at 0x7fddf0c22bd0>, <tensorflow.python.keras.layers.normalization_v2.BatchNormalization object at 0x7fddf0beaa10>, <tensorflow.python.keras.layers.core.Activation object at 0x7fddf0becfd0>, <tensorflow.python.keras.layers.convolutional.DepthwiseConv2D object at 0x7fddf0b9ebd0>, <tensorflow.python.keras.layers.normalization_v2.BatchNormalization object at 0x7fddf0b9ad10>, <tensorflow.python.keras.layers.core.Activation object at 0x7fddf0b37c10>, <tensorflow.python.keras.layers.pooling.GlobalAveragePooling2D object at 0x7fddf0bec790>, <tensorflow.python.keras.layers.core.Reshape object at 0x7fddf0b40e50>, <tensorflow.python.keras.layers.convolutional.Conv2D object at 0x7fddf0b4cdd0>, <tensorflow.python.keras.layers.convolutional.Conv2D object at 0x7fddf0b4e210>, <tensorflow.python.keras.layers.merge.Multiply object at 0x7fddf0b5cc90>, <tensorflow.python.keras.layers.convolutional.Conv2D object at 0x7fddf0b61410>, <tensorflow.python.keras.layers.normalization_v2.BatchNormalization object at 0x7fddf0b5ce50>, <tensorflow.python.keras.layers.convolutional.DepthwiseConv2D object at 0x7fddf0b6ce10>, <tensorflow.python.keras.layers.normalization_v2.BatchNormalization object at 0x7fddf0b5cbd0>, <tensorflow.python.keras.layers.core.Activation object at 0x7fddf0b68790>, <tensorflow.python.keras.layers.pooling.GlobalAveragePooling2D object at 0x7fddf0afc550>, <tensorflow.python.keras.layers.core.Reshape object at 0x7fddf0b0dc50>, <tensorflow.python.keras.layers.convolutional.Conv2D object at 0x7fddf0b0dfd0>, <tensorflow.python.keras.layers.convolutional.Conv2D object at 0x7fddf0b13a90>, <tensorflow.python.keras.layers.merge.Multiply object at 0x7fddf0b1ec90>, <tensorflow.python.keras.layers.convolutional.Conv2D object at 0x7fddf0b21090>, <tensorflow.python.keras.layers.normalization_v2.BatchNormalization object at 0x7fddf0b6cf50>, <tensorflow.python.keras.layers.core.Dropout object at 0x7fddf0b68210>, <tensorflow.python.keras.layers.merge.Add object at 0x7fddf0b45a10>, <tensorflow.python.keras.layers.convolutional.DepthwiseConv2D object at 0x7fddf0becb50>, <tensorflow.python.keras.layers.normalization_v2.BatchNormalization object at 0x7fddf0b13110>, <tensorflow.python.keras.layers.core.Activation object at 0x7fddf0b060d0>, <tensorflow.python.keras.layers.pooling.GlobalAveragePooling2D object at 0x7fddf0b2bbd0>, <tensorflow.python.keras.layers.core.Reshape object at 0x7fddf0b24050>, <tensorflow.python.keras.layers.convolutional.Conv2D object at 0x7fddf0ab1850>, <tensorflow.python.keras.layers.convolutional.Conv2D object at 0x7fddf0ac0110>, <tensorflow.python.keras.layers.merge.Multiply object at 0x7fddf0ab13d0>, <tensorflow.python.keras.layers.convolutional.Conv2D object at 0x7fddf0b2c750>, <tensorflow.python.keras.layers.normalization_v2.BatchNormalization object at 0x7fddf0ac8f90>, <tensorflow.python.keras.layers.core.Dropout object at 0x7fddf0ad0b90>, <tensorflow.python.keras.layers.merge.Add object at 0x7fddf0ad5a90>, <tensorflow.python.keras.layers.convolutional.DepthwiseConv2D object at 0x7fddf0adc750>, <tensorflow.python.keras.layers.normalization_v2.BatchNormalization object at 0x7fddf0ae4810>, <tensorflow.python.keras.layers.core.Activation object at 0x7fddf0ae6f50>, <tensorflow.python.keras.layers.pooling.GlobalAveragePooling2D object at 0x7fddf0ae0210>, <tensorflow.python.keras.layers.core.Reshape object at 0x7fddf0a75c50>, <tensorflow.python.keras.layers.convolutional.Conv2D object at 0x7fddf0a78810>, <tensorflow.python.keras.layers.convolutional.Conv2D object at 0x7fddf0a7f790>, <tensorflow.python.keras.layers.merge.Multiply object at 0x7fddf0a83c90>, <tensorflow.python.keras.layers.convolutional.Conv2D object at 0x7fddf0a8bcd0>, <tensorflow.python.keras.layers.normalization_v2.BatchNormalization object at 0x7fddf0a95a10>, <tensorflow.python.keras.layers.core.Dropout object at 0x7fddf0a88050>, <tensorflow.python.keras.layers.merge.Add object at 0x7fddf0a9fd10>, <tensorflow.python.keras.layers.convolutional.Conv2D object at 0x7fddf0aa6490>, <tensorflow.python.keras.layers.normalization_v2.BatchNormalization object at 0x7fddf0aabcd0>, <tensorflow.python.keras.layers.core.Activation object at 0x7fddf0a9ad10>, <tensorflow.python.keras.layers.convolutional.ZeroPadding2D object at 0x7fddf0aa0610>, <tensorflow.python.keras.layers.convolutional.DepthwiseConv2D object at 0x7fddf0a3ae90>, <tensorflow.python.keras.layers.normalization_v2.BatchNormalization object at 0x7fddf0a32250>, <tensorflow.python.keras.layers.core.Activation object at 0x7fddf0a3ff90>, <tensorflow.python.keras.layers.pooling.GlobalAveragePooling2D object at 0x7fddf0a3df10>, <tensorflow.python.keras.layers.core.Reshape object at 0x7fddf0a4c190>, <tensorflow.python.keras.layers.convolutional.Conv2D object at 0x7fddf0a51f90>, <tensorflow.python.keras.layers.convolutional.Conv2D object at 0x7fddf0a5d090>, <tensorflow.python.keras.layers.merge.Multiply object at 0x7fddf0a67a90>, <tensorflow.python.keras.layers.convolutional.Conv2D object at 0x7fddf0a51890>, <tensorflow.python.keras.layers.normalization_v2.BatchNormalization object at 0x7fddf09f17d0>, <tensorflow.python.keras.layers.convolutional.Conv2D object at 0x7fddf09fafd0>, <tensorflow.python.keras.layers.normalization_v2.BatchNormalization object at 0x7fddf0a6da50>, <tensorflow.python.keras.layers.core.Activation object at 0x7fddf0a3f350>, <tensorflow.python.keras.layers.convolutional.DepthwiseConv2D object at 0x7fddf0adc5d0>, <tensorflow.python.keras.layers.normalization_v2.BatchNormalization object at 0x7fddf0acb750>, <tensorflow.python.keras.layers.core.Activation object at 0x7fddf0ac3990>, <tensorflow.python.keras.layers.pooling.GlobalAveragePooling2D object at 0x7fddf0b3c090>, <tensorflow.python.keras.layers.core.Reshape object at 0x7fddf0a08e10>, <tensorflow.python.keras.layers.convolutional.Conv2D object at 0x7fddf0a0cd10>, <tensorflow.python.keras.layers.convolutional.Conv2D object at 0x7fddf0a13f10>, <tensorflow.python.keras.layers.merge.Multiply object at 0x7fddf0a18990>, <tensorflow.python.keras.layers.convolutional.Conv2D object at 0x7fddf0a20410>, <tensorflow.python.keras.layers.normalization_v2.BatchNormalization object at 0x7fddf0a24bd0>, <tensorflow.python.keras.layers.core.Dropout object at 0x7fddf0a18ed0>, <tensorflow.python.keras.layers.merge.Add object at 0x7fddf0a2f590>, <tensorflow.python.keras.layers.convolutional.Conv2D object at 0x7fddf09b3b90>, <tensorflow.python.keras.layers.normalization_v2.BatchNormalization object at 0x7fddf09ba6d0>, <tensorflow.python.keras.layers.core.Activation object at 0x7fddf0a1c7d0>, <tensorflow.python.keras.layers.convolutional.DepthwiseConv2D object at 0x7fddf09bb7d0>, <tensorflow.python.keras.layers.normalization_v2.BatchNormalization object at 0x7fddf09cad50>, <tensorflow.python.keras.layers.core.Activation object at 0x7fddf0a2ff50>, <tensorflow.python.keras.layers.pooling.GlobalAveragePooling2D object at 0x7fddf09cfe90>, <tensorflow.python.keras.layers.core.Reshape object at 0x7fddf09e0f90>, <tensorflow.python.keras.layers.convolutional.Conv2D object at 0x7fddf09e0dd0>, <tensorflow.python.keras.layers.convolutional.Conv2D object at 0x7fddf09e5750>, <tensorflow.python.keras.layers.merge.Multiply object at 0x7fddf09eef90>, <tensorflow.python.keras.layers.convolutional.Conv2D object at 0x7fddf09747d0>, <tensorflow.python.keras.layers.normalization_v2.BatchNormalization object at 0x7fddf0976590>, <tensorflow.python.keras.layers.core.Dropout object at 0x7fddf0981f50>, <tensorflow.python.keras.layers.merge.Add object at 0x7fddf0988ed0>, <tensorflow.python.keras.layers.convolutional.Conv2D object at 0x7fddf09884d0>, <tensorflow.python.keras.layers.normalization_v2.BatchNormalization object at 0x7fddf0992ad0>, <tensorflow.python.keras.layers.core.Activation object at 0x7fddf0998d10>, <tensorflow.python.keras.layers.convolutional.DepthwiseConv2D object at 0x7fddf0992bd0>, <tensorflow.python.keras.layers.normalization_v2.BatchNormalization object at 0x7fddf09a0e90>, <tensorflow.python.keras.layers.core.Activation object at 0x7fddf09a0f50>, <tensorflow.python.keras.layers.pooling.GlobalAveragePooling2D object at 0x7fddf09ab390>, <tensorflow.python.keras.layers.core.Reshape object at 0x7fddf09a6210>, <tensorflow.python.keras.layers.convolutional.Conv2D object at 0x7fddf09312d0>, <tensorflow.python.keras.layers.convolutional.Conv2D object at 0x7fddf093c810>, <tensorflow.python.keras.layers.merge.Multiply object at 0x7fddf0931650>, <tensorflow.python.keras.layers.convolutional.Conv2D object at 0x7fddf09a6890>, <tensorflow.python.keras.layers.normalization_v2.BatchNormalization object at 0x7fddf09e5050>, <tensorflow.python.keras.layers.core.Dropout object at 0x7fddf09cad90>, <tensorflow.python.keras.layers.merge.Add object at 0x7fddf0987d10>, <tensorflow.python.keras.layers.convolutional.Conv2D object at 0x7fddf0beadd0>, <tensorflow.python.keras.layers.normalization_v2.BatchNormalization object at 0x7fddf0aa0450>, <tensorflow.python.keras.layers.core.Activation object at 0x7fddf094f750>, <tensorflow.python.keras.layers.convolutional.DepthwiseConv2D object at 0x7fddf0ab7a50>, <tensorflow.python.keras.layers.normalization_v2.BatchNormalization object at 0x7fddf0956950>, <tensorflow.python.keras.layers.core.Activation object at 0x7fddf09582d0>, <tensorflow.python.keras.layers.pooling.GlobalAveragePooling2D object at 0x7fddf0956dd0>, <tensorflow.python.keras.layers.core.Reshape object at 0x7fddf0969cd0>, <tensorflow.python.keras.layers.convolutional.Conv2D object at 0x7fddf096d890>, <tensorflow.python.keras.layers.convolutional.Conv2D object at 0x7fdde039b810>, <tensorflow.python.keras.layers.merge.Multiply object at 0x7fdde03a5550>, <tensorflow.python.keras.layers.convolutional.Conv2D object at 0x7fdde03a6d50>, <tensorflow.python.keras.layers.normalization_v2.BatchNormalization object at 0x7fdde03add90>, <tensorflow.python.keras.layers.core.Dropout object at 0x7fdde03b1e50>, <tensorflow.python.keras.layers.merge.Add object at 0x7fdde03b8d90>, <tensorflow.python.keras.layers.convolutional.Conv2D object at 0x7fdde03c2550>, <tensorflow.python.keras.layers.normalization_v2.BatchNormalization object at 0x7fdde03c6d90>, <tensorflow.python.keras.layers.core.Activation object at 0x7fdde03a0f90>, <tensorflow.python.keras.layers.convolutional.DepthwiseConv2D object at 0x7fdde03cb710>, <tensorflow.python.keras.layers.normalization_v2.BatchNormalization object at 0x7fdde03d5d90>, <tensorflow.python.keras.layers.core.Activation object at 0x7fdde03b8710>, <tensorflow.python.keras.layers.pooling.GlobalAveragePooling2D object at 0x7fdde03d9450>, <tensorflow.python.keras.layers.core.Reshape object at 0x7fdde0369f90>, <tensorflow.python.keras.layers.convolutional.Conv2D object at 0x7fdde0369e90>, <tensorflow.python.keras.layers.convolutional.Conv2D object at 0x7fdde0375150>, <tensorflow.python.keras.layers.merge.Multiply object at 0x7fdde037eb10>, <tensorflow.python.keras.layers.convolutional.Conv2D object at 0x7fdde0382950>, <tensorflow.python.keras.layers.normalization_v2.BatchNormalization object at 0x7fdde0386d50>, <tensorflow.python.keras.layers.core.Dropout object at 0x7fdde03908d0>, <tensorflow.python.keras.layers.merge.Add object at 0x7fdde031b990>, <tensorflow.python.keras.layers.convolutional.Conv2D object at 0x7fdde031b0d0>, <tensorflow.python.keras.layers.normalization_v2.BatchNormalization object at 0x7fdde0386950>, <tensorflow.python.keras.layers.core.Activation object at 0x7fdde031e750>, <tensorflow.python.keras.layers.convolutional.DepthwiseConv2D object at 0x7fdde0390c10>, <tensorflow.python.keras.layers.normalization_v2.BatchNormalization object at 0x7fdde032dc10>, <tensorflow.python.keras.layers.core.Activation object at 0x7fdde0335fd0>, <tensorflow.python.keras.layers.pooling.GlobalAveragePooling2D object at 0x7fdde033a490>, <tensorflow.python.keras.layers.core.Reshape object at 0x7fdde0335190>, <tensorflow.python.keras.layers.convolutional.Conv2D object at 0x7fdde031b9d0>, <tensorflow.python.keras.layers.convolutional.Conv2D object at 0x7fdde03cbd90>, <tensorflow.python.keras.layers.merge.Multiply object at 0x7fdde031b490>, <tensorflow.python.keras.layers.convolutional.Conv2D object at 0x7fdde0339a90>, <tensorflow.python.keras.layers.normalization_v2.BatchNormalization object at 0x7fddf0a1c550>, <tensorflow.python.keras.layers.core.Dropout object at 0x7fddf09d9210>, <tensorflow.python.keras.layers.merge.Add object at 0x7fddf09503d0>, <tensorflow.python.keras.layers.convolutional.Conv2D object at 0x7fdde0341cd0>, <tensorflow.python.keras.layers.normalization_v2.BatchNormalization object at 0x7fdde0349990>, <tensorflow.python.keras.layers.core.Activation object at 0x7fdde034af90>, <tensorflow.python.keras.layers.convolutional.ZeroPadding2D object at 0x7fddf09c0510>, <tensorflow.python.keras.layers.convolutional.DepthwiseConv2D object at 0x7fdde0348850>, <tensorflow.python.keras.layers.normalization_v2.BatchNormalization object at 0x7fdde02dbe50>, <tensorflow.python.keras.layers.core.Activation object at 0x7fdde02dbb90>, <tensorflow.python.keras.layers.pooling.GlobalAveragePooling2D object at 0x7fdde0358dd0>, <tensorflow.python.keras.layers.core.Reshape object at 0x7fdde02e9e90>, <tensorflow.python.keras.layers.convolutional.Conv2D object at 0x7fdde02f4110>, <tensorflow.python.keras.layers.convolutional.Conv2D object at 0x7fdde02f8e90>, <tensorflow.python.keras.layers.merge.Multiply object at 0x7fdde02fd490>, <tensorflow.python.keras.layers.convolutional.Conv2D object at 0x7fdde030c710>, <tensorflow.python.keras.layers.normalization_v2.BatchNormalization object at 0x7fdde0311b90>, <tensorflow.python.keras.layers.convolutional.Conv2D object at 0x7fdde0312dd0>, <tensorflow.python.keras.layers.normalization_v2.BatchNormalization object at 0x7fdde031ab90>, <tensorflow.python.keras.layers.core.Activation object at 0x7fdde0312550>, <tensorflow.python.keras.layers.convolutional.DepthwiseConv2D object at 0x7fdde02aeb90>, <tensorflow.python.keras.layers.normalization_v2.BatchNormalization object at 0x7fdde02bb4d0>, <tensorflow.python.keras.layers.core.Activation object at 0x7fdde0311dd0>, <tensorflow.python.keras.layers.pooling.GlobalAveragePooling2D object at 0x7fdde02c4dd0>, <tensorflow.python.keras.layers.core.Reshape object at 0x7fdde02c9d10>, <tensorflow.python.keras.layers.convolutional.Conv2D object at 0x7fdde02d0d90>, <tensorflow.python.keras.layers.convolutional.Conv2D object at 0x7fdde02d60d0>, <tensorflow.python.keras.layers.merge.Multiply object at 0x7fdde025e8d0>, <tensorflow.python.keras.layers.convolutional.Conv2D object at 0x7fdde0262850>, <tensorflow.python.keras.layers.normalization_v2.BatchNormalization object at 0x7fdde0269b10>, <tensorflow.python.keras.layers.core.Dropout object at 0x7fdde0269d50>, <tensorflow.python.keras.layers.merge.Add object at 0x7fdde0278810>, <tensorflow.python.keras.layers.convolutional.Conv2D object at 0x7fdde027dd10>, <tensorflow.python.keras.layers.normalization_v2.BatchNormalization object at 0x7fdde0266f50>, <tensorflow.python.keras.layers.core.Activation object at 0x7fdde0266850>, <tensorflow.python.keras.layers.convolutional.DepthwiseConv2D object at 0x7fdde028a4d0>, <tensorflow.python.keras.layers.normalization_v2.BatchNormalization object at 0x7fdde028a810>, <tensorflow.python.keras.layers.core.Activation object at 0x7fdde0282410>, <tensorflow.python.keras.layers.pooling.GlobalAveragePooling2D object at 0x7fdde02d0a50>, <tensorflow.python.keras.layers.core.Reshape object at 0x7fdde02d0510>, <tensorflow.python.keras.layers.convolutional.Conv2D object at 0x7fdde031a310>, <tensorflow.python.keras.layers.convolutional.Conv2D object at 0x7fdde02f8050>, <tensorflow.python.keras.layers.merge.Multiply object at 0x7fdde02c97d0>, <tensorflow.python.keras.layers.convolutional.Conv2D object at 0x7fdde02f4050>, <tensorflow.python.keras.layers.normalization_v2.BatchNormalization object at 0x7fdde02d0650>, <tensorflow.python.keras.layers.core.Dropout object at 0x7fdde031bb10>, <tensorflow.python.keras.layers.merge.Add object at 0x7fdde034edd0>, <tensorflow.python.keras.layers.convolutional.Conv2D object at 0x7fdde03941d0>, <tensorflow.python.keras.layers.normalization_v2.BatchNormalization object at 0x7fdde02bb3d0>, <tensorflow.python.keras.layers.core.Activation object at 0x7fdde028ed10>, <tensorflow.python.keras.layers.convolutional.DepthwiseConv2D object at 0x7fdde021c450>, <tensorflow.python.keras.layers.normalization_v2.BatchNormalization object at 0x7fdde021e210>, <tensorflow.python.keras.layers.core.Activation object at 0x7fdde021cad0>, <tensorflow.python.keras.layers.pooling.GlobalAveragePooling2D object at 0x7fdde0231ad0>, <tensorflow.python.keras.layers.core.Reshape object at 0x7fdde030c150>, <tensorflow.python.keras.layers.convolutional.Conv2D object at 0x7fdde0229350>, <tensorflow.python.keras.layers.convolutional.Conv2D object at 0x7fdde022da90>, <tensorflow.python.keras.layers.merge.Multiply object at 0x7fdde0231190>, <tensorflow.python.keras.layers.convolutional.Conv2D object at 0x7fdde0249d50>, <tensorflow.python.keras.layers.normalization_v2.BatchNormalization object at 0x7fdde0255e50>, <tensorflow.python.keras.layers.core.Dropout object at 0x7fdde01dd150>, <tensorflow.python.keras.layers.merge.Add object at 0x7fdde032d150>, <tensorflow.python.keras.layers.convolutional.Conv2D object at 0x7fdde01dd490>, <tensorflow.python.keras.layers.normalization_v2.BatchNormalization object at 0x7fdde0255950>, <tensorflow.python.keras.layers.core.Activation object at 0x7fdde01e9fd0>, <tensorflow.python.keras.layers.convolutional.DepthwiseConv2D object at 0x7fdde01ee610>, <tensorflow.python.keras.layers.normalization_v2.BatchNormalization object at 0x7fdde01f3e10>, <tensorflow.python.keras.layers.core.Activation object at 0x7fdde01eeb50>, <tensorflow.python.keras.layers.pooling.GlobalAveragePooling2D object at 0x7fdde01ee690>, <tensorflow.python.keras.layers.core.Reshape object at 0x7fdde0234c90>, <tensorflow.python.keras.layers.convolutional.Conv2D object at 0x7fdde0203c90>, <tensorflow.python.keras.layers.convolutional.Conv2D object at 0x7fdde019c210>, <tensorflow.python.keras.layers.merge.Multiply object at 0x7fdde020a510>, <tensorflow.python.keras.layers.convolutional.Conv2D object at 0x7fdde01a15d0>, <tensorflow.python.keras.layers.normalization_v2.BatchNormalization object at 0x7fdde01f3c10>, <tensorflow.python.keras.layers.core.Dropout object at 0x7fdde01b27d0>, <tensorflow.python.keras.layers.merge.Add object at 0x7fdde01b25d0>, <tensorflow.python.keras.layers.convolutional.Conv2D object at 0x7fdde01ad0d0>, <tensorflow.python.keras.layers.normalization_v2.BatchNormalization object at 0x7fdde01d09d0>, <tensorflow.python.keras.layers.core.Activation object at 0x7fdde01c9450>, <tensorflow.python.keras.layers.convolutional.DepthwiseConv2D object at 0x7fdde01c24d0>, <tensorflow.python.keras.layers.normalization_v2.BatchNormalization object at 0x7fdde01b2bd0>, <tensorflow.python.keras.layers.core.Activation object at 0x7fdde01f82d0>, <tensorflow.python.keras.layers.pooling.GlobalAveragePooling2D object at 0x7fdde020a190>, <tensorflow.python.keras.layers.core.Reshape object at 0x7fdde0214410>, <tensorflow.python.keras.layers.convolutional.Conv2D object at 0x7fdde01bca10>, <tensorflow.python.keras.layers.convolutional.Conv2D object at 0x7fdde022d7d0>, <tensorflow.python.keras.layers.merge.Multiply object at 0x7fdde024f2d0>, <tensorflow.python.keras.layers.convolutional.Conv2D object at 0x7fdde01a87d0>, <tensorflow.python.keras.layers.normalization_v2.BatchNormalization object at 0x7fdde032d3d0>, <tensorflow.python.keras.layers.core.Dropout object at 0x7fdde01f8590>, <tensorflow.python.keras.layers.merge.Add object at 0x7fdde01d4210>, <tensorflow.python.keras.layers.convolutional.Conv2D object at 0x7fdde0282a10>, <tensorflow.python.keras.layers.normalization_v2.BatchNormalization object at 0x7fdde0282590>, <tensorflow.python.keras.layers.core.Activation object at 0x7fdde016cdd0>, <tensorflow.python.keras.layers.convolutional.DepthwiseConv2D object at 0x7fdde0163250>, <tensorflow.python.keras.layers.normalization_v2.BatchNormalization object at 0x7fdde0160a50>, <tensorflow.python.keras.layers.core.Activation object at 0x7fdde016c5d0>, <tensorflow.python.keras.layers.pooling.GlobalAveragePooling2D object at 0x7fdde0179d50>, <tensorflow.python.keras.layers.core.Reshape object at 0x7fdde025ab50>, <tensorflow.python.keras.layers.convolutional.Conv2D object at 0x7fdde0173450>, <tensorflow.python.keras.layers.convolutional.Conv2D object at 0x7fdde0189fd0>, <tensorflow.python.keras.layers.merge.Multiply object at 0x7fdde017dfd0>, <tensorflow.python.keras.layers.convolutional.Conv2D object at 0x7fdde0197410>, <tensorflow.python.keras.layers.normalization_v2.BatchNormalization object at 0x7fdde0160890>, <tensorflow.python.keras.layers.core.Dropout object at 0x7fdde0129610>, <tensorflow.python.keras.layers.merge.Add object at 0x7fdde0129990>, <tensorflow.python.keras.layers.convolutional.Conv2D object at 0x7fdde031b310>, <tensorflow.python.keras.layers.normalization_v2.BatchNormalization object at 0x7fdde013b8d0>, <tensorflow.python.keras.layers.core.Activation object at 0x7fdde0138ed0>, <tensorflow.python.keras.layers.convolutional.ZeroPadding2D object at 0x7fdde0138550>, <tensorflow.python.keras.layers.convolutional.DepthwiseConv2D object at 0x7fdde01455d0>, <tensorflow.python.keras.layers.normalization_v2.BatchNormalization object at 0x7fdde0147610>, <tensorflow.python.keras.layers.core.Activation object at 0x7fdde0138390>, <tensorflow.python.keras.layers.pooling.GlobalAveragePooling2D object at 0x7fdde011de10>, <tensorflow.python.keras.layers.core.Reshape object at 0x7fdde00e51d0>, <tensorflow.python.keras.layers.convolutional.Conv2D object at 0x7fdde0159390>, <tensorflow.python.keras.layers.convolutional.Conv2D object at 0x7fdde00e0a90>, <tensorflow.python.keras.layers.merge.Multiply object at 0x7fdde00f6850>, <tensorflow.python.keras.layers.convolutional.Conv2D object at 0x7fdde00ed890>, <tensorflow.python.keras.layers.normalization_v2.BatchNormalization object at 0x7fdde00e0cd0>, <tensorflow.python.keras.layers.convolutional.Conv2D object at 0x7fdde010be50>, <tensorflow.python.keras.layers.normalization_v2.BatchNormalization object at 0x7fdde0106d10>, <tensorflow.python.keras.layers.core.Activation object at 0x7fdde0106a90>, <tensorflow.python.keras.layers.convolutional.DepthwiseConv2D object at 0x7fdde0101d50>, <tensorflow.python.keras.layers.normalization_v2.BatchNormalization object at 0x7fdde00e5310>, <tensorflow.python.keras.layers.core.Activation object at 0x7fdde0147510>, <tensorflow.python.keras.layers.pooling.GlobalAveragePooling2D object at 0x7fdde010bf90>, <tensorflow.python.keras.layers.core.Reshape object at 0x7fdde00e5950>, <tensorflow.python.keras.layers.convolutional.Conv2D object at 0x7fdde0163710>, <tensorflow.python.keras.layers.convolutional.Conv2D object at 0x7fdde01c23d0>, <tensorflow.python.keras.layers.merge.Multiply object at 0x7fdde0154790>, <tensorflow.python.keras.layers.convolutional.Conv2D object at 0x7fdde0118a10>, <tensorflow.python.keras.layers.normalization_v2.BatchNormalization object at 0x7fdde009c8d0>, <tensorflow.python.keras.layers.core.Dropout object at 0x7fdde00ed990>, <tensorflow.python.keras.layers.merge.Add object at 0x7fdde00a5b90>, <tensorflow.python.keras.layers.convolutional.Conv2D object at 0x7fdde0129410>, <tensorflow.python.keras.layers.normalization_v2.BatchNormalization object at 0x7fdde00a5450>, <tensorflow.python.keras.layers.core.Activation object at 0x7fdde00a9710>, <tensorflow.python.keras.layers.convolutional.DepthwiseConv2D object at 0x7fdde00c3150>, <tensorflow.python.keras.layers.normalization_v2.BatchNormalization object at 0x7fdde00c4550>, <tensorflow.python.keras.layers.core.Activation object at 0x7fdde00c92d0>, <tensorflow.python.keras.layers.pooling.GlobalAveragePooling2D object at 0x7fdde00c99d0>, <tensorflow.python.keras.layers.core.Reshape object at 0x7fdde01e1510>, <tensorflow.python.keras.layers.convolutional.Conv2D object at 0x7fdde00d4810>, <tensorflow.python.keras.layers.convolutional.Conv2D object at 0x7fdde00a9b90>, <tensorflow.python.keras.layers.merge.Multiply object at 0x7fdde00d1f90>, <tensorflow.python.keras.layers.convolutional.Conv2D object at 0x7fdde0066ad0>, <tensorflow.python.keras.layers.normalization_v2.BatchNormalization object at 0x7fdde0073b90>, <tensorflow.python.keras.layers.core.Dropout object at 0x7fdde007e950>, <tensorflow.python.keras.layers.merge.Add object at 0x7fdde007a9d0>, <tensorflow.python.keras.layers.convolutional.Conv2D object at 0x7fdde00a5e50>, <tensorflow.python.keras.layers.normalization_v2.BatchNormalization object at 0x7fdde007eb90>, <tensorflow.python.keras.layers.core.Activation object at 0x7fdde007e990>, <tensorflow.python.keras.layers.convolutional.DepthwiseConv2D object at 0x7fdde008bd90>, <tensorflow.python.keras.layers.normalization_v2.BatchNormalization object at 0x7fdde005ed50>, <tensorflow.python.keras.layers.core.Activation object at 0x7fdde008f750>, <tensorflow.python.keras.layers.pooling.GlobalAveragePooling2D object at 0x7fdde001ba10>, <tensorflow.python.keras.layers.core.Reshape object at 0x7fdde002bb50>, <tensorflow.python.keras.layers.convolutional.Conv2D object at 0x7fdde002bfd0>, <tensorflow.python.keras.layers.convolutional.Conv2D object at 0x7fdde0039e10>, <tensorflow.python.keras.layers.merge.Multiply object at 0x7fdde008fe50>, <tensorflow.python.keras.layers.convolutional.Conv2D object at 0x7fdde00303d0>, <tensorflow.python.keras.layers.normalization_v2.BatchNormalization object at 0x7fdde0046d50>, <tensorflow.python.keras.layers.core.Dropout object at 0x7fdde005a650>, <tensorflow.python.keras.layers.merge.Add object at 0x7fdda414ca10>, <tensorflow.python.keras.layers.convolutional.Conv2D object at 0x7fdde0097090>, <tensorflow.python.keras.layers.normalization_v2.BatchNormalization object at 0x7fdde0097a50>, <tensorflow.python.keras.layers.core.Activation object at 0x7fdde0073050>, <tensorflow.python.keras.layers.convolutional.DepthwiseConv2D object at 0x7fddf0beae90>, <tensorflow.python.keras.layers.normalization_v2.BatchNormalization object at 0x7fde0f8b38d0>, <tensorflow.python.keras.layers.core.Activation object at 0x7fddf0afb290>, <tensorflow.python.keras.layers.pooling.GlobalAveragePooling2D object at 0x7fddf0bec710>, <tensorflow.python.keras.layers.core.Reshape object at 0x7fddf0a6d890>, <tensorflow.python.keras.layers.convolutional.Conv2D object at 0x7fddf0a8bdd0>, <tensorflow.python.keras.layers.convolutional.Conv2D object at 0x7fddf09cfc50>, <tensorflow.python.keras.layers.merge.Multiply object at 0x7fddf0a2fed0>, <tensorflow.python.keras.layers.convolutional.Conv2D object at 0x7fddf09e5a50>, <tensorflow.python.keras.layers.normalization_v2.BatchNormalization object at 0x7fddf0a95590>, <tensorflow.python.keras.layers.core.Dropout object at 0x7fdde03b1a50>, <tensorflow.python.keras.layers.merge.Add object at 0x7fdde037ec90>, <tensorflow.python.keras.layers.convolutional.Conv2D object at 0x7fddf09697d0>, <tensorflow.python.keras.layers.normalization_v2.BatchNormalization object at 0x7fddf0988b50>, <tensorflow.python.keras.layers.core.Activation object at 0x7fddf0952910>, <tensorflow.python.keras.layers.convolutional.DepthwiseConv2D object at 0x7fdde03d9510>, <tensorflow.python.keras.layers.normalization_v2.BatchNormalization object at 0x7fdde039b750>, <tensorflow.python.keras.layers.core.Activation object at 0x7fddf09500d0>, <tensorflow.python.keras.layers.pooling.GlobalAveragePooling2D object at 0x7fdde02e9ed0>, <tensorflow.python.keras.layers.core.Reshape object at 0x7fdde034e090>, <tensorflow.python.keras.layers.convolutional.Conv2D object at 0x7fdde02ae190>, <tensorflow.python.keras.layers.convolutional.Conv2D object at 0x7fdde0278590>, <tensorflow.python.keras.layers.merge.Multiply object at 0x7fdde03587d0>, <tensorflow.python.keras.layers.convolutional.Conv2D object at 0x7fdde02db850>, <tensorflow.python.keras.layers.normalization_v2.BatchNormalization object at 0x7fdde0101c90>, <tensorflow.python.keras.layers.core.Dropout object at 0x7fddf09a0bd0>, <tensorflow.python.keras.layers.merge.Add object at 0x7fddf0a58650>, <tensorflow.python.keras.layers.convolutional.Conv2D object at 0x7fddf09f1e50>, <tensorflow.python.keras.layers.normalization_v2.BatchNormalization object at 0x7fddf0b21450>, <tensorflow.python.keras.layers.core.Activation object at 0x7fddf0caab50>, <tensorflow.python.keras.layers.convolutional.DepthwiseConv2D object at 0x7fddf0a02990>, <tensorflow.python.keras.layers.normalization_v2.BatchNormalization object at 0x7fdde00ba990>, <tensorflow.python.keras.layers.core.Activation object at 0x7fdde009ed50>, <tensorflow.python.keras.layers.pooling.GlobalAveragePooling2D object at 0x7fdde0348210>, <tensorflow.python.keras.layers.core.Reshape object at 0x7fdde0197150>, <tensorflow.python.keras.layers.convolutional.Conv2D object at 0x7fdda414d550>, <tensorflow.python.keras.layers.convolutional.Conv2D object at 0x7fdda4145850>, <tensorflow.python.keras.layers.merge.Multiply object at 0x7fdda40c9450>, <tensorflow.python.keras.layers.convolutional.Conv2D object at 0x7fdda40d1e50>, <tensorflow.python.keras.layers.normalization_v2.BatchNormalization object at 0x7fdda40db690>, <tensorflow.python.keras.layers.core.Dropout object at 0x7fdda40c9190>, <tensorflow.python.keras.layers.merge.Add object at 0x7fddf0a02b10>, <tensorflow.python.keras.layers.convolutional.Conv2D object at 0x7fdde0055ed0>, <tensorflow.python.keras.layers.normalization_v2.BatchNormalization object at 0x7fdde01d0510>, <tensorflow.python.keras.layers.core.Activation object at 0x7fddf09f1550>, <tensorflow.python.keras.layers.convolutional.DepthwiseConv2D object at 0x7fddf094fbd0>, <tensorflow.python.keras.layers.normalization_v2.BatchNormalization object at 0x7fddf0a679d0>, <tensorflow.python.keras.layers.core.Activation object at 0x7fddf0af4cd0>, <tensorflow.python.keras.layers.pooling.GlobalAveragePooling2D object at 0x7fdda40e0690>, <tensorflow.python.keras.layers.core.Reshape object at 0x7fdda40e8dd0>, <tensorflow.python.keras.layers.convolutional.Conv2D object at 0x7fdda40e8a10>, <tensorflow.python.keras.layers.convolutional.Conv2D object at 0x7fdda40ece90>, <tensorflow.python.keras.layers.merge.Multiply object at 0x7fdda40f9490>, <tensorflow.python.keras.layers.convolutional.Conv2D object at 0x7fdda40fded0>, <tensorflow.python.keras.layers.normalization_v2.BatchNormalization object at 0x7fdda41046d0>, <tensorflow.python.keras.layers.core.Dropout object at 0x7fdda4088c50>, <tensorflow.python.keras.layers.merge.Add object at 0x7fdda4090d10>, <tensorflow.python.keras.layers.convolutional.Conv2D object at 0x7fdda40902d0>, <tensorflow.python.keras.layers.normalization_v2.BatchNormalization object at 0x7fdda4095410>, <tensorflow.python.keras.layers.core.Activation object at 0x7fdda409ae50>, <tensorflow.python.keras.layers.convolutional.DepthwiseConv2D object at 0x7fdda4104dd0>, <tensorflow.python.keras.layers.normalization_v2.BatchNormalization object at 0x7fdda4090fd0>, <tensorflow.python.keras.layers.core.Activation object at 0x7fdda40a5cd0>, <tensorflow.python.keras.layers.pooling.GlobalAveragePooling2D object at 0x7fdda40b5050>, <tensorflow.python.keras.layers.core.Reshape object at 0x7fdda40b0e50>, <tensorflow.python.keras.layers.convolutional.Conv2D object at 0x7fdda40a5350>, <tensorflow.python.keras.layers.convolutional.Conv2D object at 0x7fdda40c0b10>, <tensorflow.python.keras.layers.merge.Multiply object at 0x7fdda40c0110>, <tensorflow.python.keras.layers.convolutional.Conv2D object at 0x7fdda40b0fd0>, <tensorflow.python.keras.layers.normalization_v2.BatchNormalization object at 0x7fdda40537d0>, <tensorflow.python.keras.layers.core.Dropout object at 0x7fdda4059fd0>, <tensorflow.python.keras.layers.merge.Add object at 0x7fdda40534d0>, <tensorflow.python.keras.layers.convolutional.Conv2D object at 0x7fdda405add0>, <tensorflow.python.keras.layers.normalization_v2.BatchNormalization object at 0x7fdda406a690>, <tensorflow.python.keras.layers.core.Activation object at 0x7fdda406f910>, <tensorflow.python.keras.layers.convolutional.DepthwiseConv2D object at 0x7fdda40636d0>, <tensorflow.python.keras.layers.normalization_v2.BatchNormalization object at 0x7fdda4079b90>, <tensorflow.python.keras.layers.core.Activation object at 0x7fdda40091d0>, <tensorflow.python.keras.layers.pooling.GlobalAveragePooling2D object at 0x7fdda40834d0>, <tensorflow.python.keras.layers.core.Reshape object at 0x7fdda4013f50>, <tensorflow.python.keras.layers.convolutional.Conv2D object at 0x7fdda4019a50>, <tensorflow.python.keras.layers.convolutional.Conv2D object at 0x7fdda401f910>, <tensorflow.python.keras.layers.merge.Multiply object at 0x7fdda4083d90>, <tensorflow.python.keras.layers.convolutional.Conv2D object at 0x7fdda4056790>, <tensorflow.python.keras.layers.normalization_v2.BatchNormalization object at 0x7fdda4047090>, <tensorflow.python.keras.layers.core.Dropout object at 0x7fdda4053450>, <tensorflow.python.keras.layers.merge.Add object at 0x7fdda40f9210>, <tensorflow.python.keras.layers.convolutional.Conv2D object at 0x7fddf0ac3e10>, <tensorflow.python.keras.layers.normalization_v2.BatchNormalization object at 0x7fddf0b24890>, <tensorflow.python.keras.layers.core.Activation object at 0x7fdda40fde50>, <tensorflow.python.keras.layers.convolutional.DepthwiseConv2D object at 0x7fdda4022590>, <tensorflow.python.keras.layers.normalization_v2.BatchNormalization object at 0x7fdda402dd10>, <tensorflow.python.keras.layers.core.Activation object at 0x7fdda40e3490>, <tensorflow.python.keras.layers.pooling.GlobalAveragePooling2D object at 0x7fdda4030550>, <tensorflow.python.keras.layers.core.Reshape object at 0x7fdda403ec50>, <tensorflow.python.keras.layers.convolutional.Conv2D object at 0x7fdda403e690>, <tensorflow.python.keras.layers.convolutional.Conv2D object at 0x7fdda4042ad0>, <tensorflow.python.keras.layers.merge.Multiply object at 0x7fdd93fc5550>, <tensorflow.python.keras.layers.convolutional.Conv2D object at 0x7fdd93fc8d50>, <tensorflow.python.keras.layers.normalization_v2.BatchNormalization object at 0x7fdd93fd6990>, <tensorflow.python.keras.layers.convolutional.Conv2D object at 0x7fdd93fbc650>, <tensorflow.python.keras.layers.normalization_v2.BatchNormalization object at 0x7fdd93fe2110>, <tensorflow.python.keras.layers.core.Activation object at 0x7fdd93fe8fd0>, <tensorflow.python.keras.layers.convolutional.DepthwiseConv2D object at 0x7fdd93fcfa50>, <tensorflow.python.keras.layers.normalization_v2.BatchNormalization object at 0x7fdd93ff9750>, <tensorflow.python.keras.layers.core.Activation object at 0x7fdd93f80d90>, <tensorflow.python.keras.layers.pooling.GlobalAveragePooling2D object at 0x7fdd93f8b210>, <tensorflow.python.keras.layers.core.Reshape object at 0x7fdd93f8b2d0>, <tensorflow.python.keras.layers.convolutional.Conv2D object at 0x7fdd93f80650>, <tensorflow.python.keras.layers.convolutional.Conv2D object at 0x7fdd93f98510>, <tensorflow.python.keras.layers.merge.Multiply object at 0x7fdd93f80410>, <tensorflow.python.keras.layers.convolutional.Conv2D object at 0x7fdd93f87950>, <tensorflow.python.keras.layers.normalization_v2.BatchNormalization object at 0x7fdd93fa6c90>, <tensorflow.python.keras.layers.core.Dropout object at 0x7fdd93faec10>, <tensorflow.python.keras.layers.merge.Add object at 0x7fdd93fb2fd0>, <tensorflow.python.keras.layers.convolutional.Conv2D object at 0x7fdd93fb6850>, <tensorflow.python.keras.layers.normalization_v2.BatchNormalization object at 0x7fdd93f40f50>, <tensorflow.python.keras.layers.core.Activation object at 0x7fdd93f43e90>, <tensorflow.python.keras.layers.convolutional.DepthwiseConv2D object at 0x7fdd93f408d0>, <tensorflow.python.keras.layers.normalization_v2.BatchNormalization object at 0x7fdd93f57610>, <tensorflow.python.keras.layers.core.Activation object at 0x7fdd93f5ce50>, <tensorflow.python.keras.layers.pooling.GlobalAveragePooling2D object at 0x7fdd93f57990>, <tensorflow.python.keras.layers.core.Reshape object at 0x7fdd93fb2c90>, <tensorflow.python.keras.layers.convolutional.Conv2D object at 0x7fdd93f80090>, <tensorflow.python.keras.layers.convolutional.Conv2D object at 0x7fdd93fc5b10>, <tensorflow.python.keras.layers.merge.Multiply object at 0x7fdd93fc89d0>, <tensorflow.python.keras.layers.convolutional.Conv2D object at 0x7fdda40363d0>, <tensorflow.python.keras.layers.normalization_v2.BatchNormalization object at 0x7fdda40e3550>, <tensorflow.python.keras.layers.core.Dropout object at 0x7fdda403e610>, <tensorflow.python.keras.layers.merge.Add object at 0x7fdd93f5ae90>, <tensorflow.python.keras.layers.convolutional.Conv2D object at 0x7fdd93f66650>, <tensorflow.python.keras.layers.normalization_v2.BatchNormalization object at 0x7fdd93f6a6d0>, <tensorflow.python.keras.layers.core.Activation object at 0x7fdda40364d0>, <tensorflow.python.keras.layers.convolutional.DepthwiseConv2D object at 0x7fdd93f6c810>, <tensorflow.python.keras.layers.normalization_v2.BatchNormalization object at 0x7fdd93f77e90>, <tensorflow.python.keras.layers.core.Activation object at 0x7fdd93f7be10>, <tensorflow.python.keras.layers.pooling.GlobalAveragePooling2D object at 0x7fdd93effa50>, <tensorflow.python.keras.layers.core.Reshape object at 0x7fdd93f07b90>, <tensorflow.python.keras.layers.convolutional.Conv2D object at 0x7fdd93f0e1d0>, <tensorflow.python.keras.layers.convolutional.Conv2D object at 0x7fdd93f15210>, <tensorflow.python.keras.layers.merge.Multiply object at 0x7fdd93f1ce90>, <tensorflow.python.keras.layers.convolutional.Conv2D object at 0x7fdd93f1c890>, <tensorflow.python.keras.layers.normalization_v2.BatchNormalization object at 0x7fdd93f25c90>, <tensorflow.python.keras.layers.core.Dropout object at 0x7fdd93f25e50>, <tensorflow.python.keras.layers.merge.Add object at 0x7fdd93f37ad0>, <tensorflow.python.keras.layers.convolutional.Conv2D object at 0x7fdd93f37150>, <tensorflow.python.keras.layers.normalization_v2.BatchNormalization object at 0x7fdd93f25a50>, <tensorflow.python.keras.layers.core.Activation object at 0x7fdd93ebe890>, <tensorflow.python.keras.layers.convolutional.DepthwiseConv2D object at 0x7fdd93f2f5d0>, <tensorflow.python.keras.layers.normalization_v2.BatchNormalization object at 0x7fdd93ecddd0>, <tensorflow.python.keras.layers.core.Activation object at 0x7fdd93ed1ed0>, <tensorflow.python.keras.layers.pooling.GlobalAveragePooling2D object at 0x7fdd93ed6d90>, <tensorflow.python.keras.layers.core.Reshape object at 0x7fdd93ed1190>, <tensorflow.python.keras.layers.convolutional.Conv2D object at 0x7fdd93ede590>, <tensorflow.python.keras.layers.convolutional.Conv2D object at 0x7fdd93ee7150>, <tensorflow.python.keras.layers.merge.Multiply object at 0x7fdd93edec10>, <tensorflow.python.keras.layers.convolutional.Conv2D object at 0x7fdd93ed4bd0>, <tensorflow.python.keras.layers.normalization_v2.BatchNormalization object at 0x7fdd93ef7d90>, <tensorflow.python.keras.layers.core.Dropout object at 0x7fdd93efa410>, <tensorflow.python.keras.layers.merge.Add object at 0x7fdd93e83e10>, <tensorflow.python.keras.layers.convolutional.Conv2D object at 0x7fdd93e855d0>, <tensorflow.python.keras.layers.normalization_v2.BatchNormalization object at 0x7fdd93e92c50>, <tensorflow.python.keras.layers.core.Activation object at 0x7fdd93e9d990>, <tensorflow.python.keras.layers.convolutional.DepthwiseConv2D object at 0x7fdd93e925d0>, <tensorflow.python.keras.layers.normalization_v2.BatchNormalization object at 0x7fdd93eee910>, <tensorflow.python.keras.layers.core.Activation object at 0x7fdd93f07ad0>, <tensorflow.python.keras.layers.pooling.GlobalAveragePooling2D object at 0x7fdd93f32250>, <tensorflow.python.keras.layers.core.Reshape object at 0x7fdda405a950>, <tensorflow.python.keras.layers.convolutional.Conv2D object at 0x7fdd93ea1810>, <tensorflow.python.keras.layers.convolutional.Conv2D object at 0x7fdd93ea3f10>, <tensorflow.python.keras.layers.merge.Multiply object at 0x7fdd93ea6c90>, <tensorflow.python.keras.layers.convolutional.Conv2D object at 0x7fdd93eabcd0>, <tensorflow.python.keras.layers.normalization_v2.BatchNormalization object at 0x7fdd93eb4a10>, <tensorflow.python.keras.layers.core.Dropout object at 0x7fdd93eaa050>, <tensorflow.python.keras.layers.merge.Add object at 0x7fdd93e3dd10>, <tensorflow.python.keras.layers.convolutional.Conv2D object at 0x7fdd93e434d0>, <tensorflow.python.keras.layers.normalization_v2.BatchNormalization object at 0x7fdd93e48d10>, <tensorflow.python.keras.layers.core.Activation object at 0x7fdd93eb9690>, <tensorflow.python.keras.layers.convolutional.DepthwiseConv2D object at 0x7fdd93e4d690>, <tensorflow.python.keras.layers.normalization_v2.BatchNormalization object at 0x7fdd93e56d10>, <tensorflow.python.keras.layers.core.Activation object at 0x7fdd93e3d7d0>, <tensorflow.python.keras.layers.pooling.GlobalAveragePooling2D object at 0x7fdd93e5d850>, <tensorflow.python.keras.layers.core.Reshape object at 0x7fdd93e6ce90>, <tensorflow.python.keras.layers.convolutional.Conv2D object at 0x7fdd93e64090>, <tensorflow.python.keras.layers.convolutional.Conv2D object at 0x7fdd93e77210>, <tensorflow.python.keras.layers.merge.Multiply object at 0x7fdd93e7aa50>, <tensorflow.python.keras.layers.convolutional.Conv2D object at 0x7fdd93e02c50>, <tensorflow.python.keras.layers.normalization_v2.BatchNormalization object at 0x7fdd93e09fd0>, <tensorflow.python.keras.layers.core.Dropout object at 0x7fdd93e12890>, <tensorflow.python.keras.layers.merge.Add object at 0x7fdd93e13ed0>, <tensorflow.python.keras.layers.convolutional.Conv2D object at 0x7fdd93e13790>, <tensorflow.python.keras.layers.normalization_v2.BatchNormalization object at 0x7fdd93e09690>, <tensorflow.python.keras.layers.core.Activation object at 0x7fdd93e0d150>, <tensorflow.python.keras.layers.convolutional.DepthwiseConv2D object at 0x7fdd93e28790>, <tensorflow.python.keras.layers.normalization_v2.BatchNormalization object at 0x7fdd93e28f90>, <tensorflow.python.keras.layers.core.Activation object at 0x7fdd93e208d0>, <tensorflow.python.keras.layers.pooling.GlobalAveragePooling2D object at 0x7fdd93e1c950>, <tensorflow.python.keras.layers.core.Reshape object at 0x7fdd93e39f90>, <tensorflow.python.keras.layers.convolutional.Conv2D object at 0x7fdd93e393d0>, <tensorflow.python.keras.layers.convolutional.Conv2D object at 0x7fdd93e1c510>, <tensorflow.python.keras.layers.merge.Multiply object at 0x7fdd93dd6890>, <tensorflow.python.keras.layers.convolutional.Conv2D object at 0x7fdd93e39190>, <tensorflow.python.keras.layers.normalization_v2.BatchNormalization object at 0x7fdd93dd6410>, <tensorflow.python.keras.layers.core.Dropout object at 0x7fdd93ddecd0>, <tensorflow.python.keras.layers.merge.Add object at 0x7fdd93e0d7d0>, <tensorflow.python.keras.layers.convolutional.Conv2D object at 0x7fdd93dcb190>, <tensorflow.python.keras.layers.normalization_v2.BatchNormalization object at 0x7fdd93e13a10>, <tensorflow.python.keras.layers.core.Activation object at 0x7fdd93dde950>, <tensorflow.python.keras.layers.convolutional.DepthwiseConv2D object at 0x7fdd93e4f510>, <tensorflow.python.keras.layers.normalization_v2.BatchNormalization object at 0x7fdd93e39550>, <tensorflow.python.keras.layers.core.Activation object at 0x7fdd93deb750>, <tensorflow.python.keras.layers.pooling.GlobalAveragePooling2D object at 0x7fdd93f200d0>, <tensorflow.python.keras.layers.core.Reshape object at 0x7fdd93e39910>, <tensorflow.python.keras.layers.convolutional.Conv2D object at 0x7fdd93defcd0>, <tensorflow.python.keras.layers.convolutional.Conv2D object at 0x7fdd93d7c850>, <tensorflow.python.keras.layers.merge.Multiply object at 0x7fdd93deb250>, <tensorflow.python.keras.layers.convolutional.Conv2D object at 0x7fdd93dd6f50>, <tensorflow.python.keras.layers.normalization_v2.BatchNormalization object at 0x7fdd93df0ad0>, <tensorflow.python.keras.layers.core.Dropout object at 0x7fdd93d96a90>, <tensorflow.python.keras.layers.merge.Add object at 0x7fdd93e29ad0>, <tensorflow.python.keras.layers.convolutional.Conv2D object at 0x7fdd93d96e50>, <tensorflow.python.keras.layers.normalization_v2.BatchNormalization object at 0x7fdd93d90050>, <tensorflow.python.keras.layers.core.Activation object at 0x7fdd93d967d0>, <tensorflow.python.keras.layers.convolutional.DepthwiseConv2D object at 0x7fdd93da4d10>, <tensorflow.python.keras.layers.normalization_v2.BatchNormalization object at 0x7fdd93df0b90>, <tensorflow.python.keras.layers.core.Activation object at 0x7fdd93da7b50>, <tensorflow.python.keras.layers.pooling.GlobalAveragePooling2D object at 0x7fdd93df0790>, <tensorflow.python.keras.layers.core.Reshape object at 0x7fdd93df06d0>, <tensorflow.python.keras.layers.convolutional.Conv2D object at 0x7fdd93db7f50>, <tensorflow.python.keras.layers.convolutional.Conv2D object at 0x7fdd93d587d0>, <tensorflow.python.keras.layers.merge.Multiply object at 0x7fdd93d3dc50>, <tensorflow.python.keras.layers.convolutional.Conv2D object at 0x7fdd93d58290>, <tensorflow.python.keras.layers.normalization_v2.BatchNormalization object at 0x7fdd93da7ed0>, <tensorflow.python.keras.layers.core.Dropout object at 0x7fdd93db78d0>, <tensorflow.python.keras.layers.merge.Add object at 0x7fdd93d5de10>, <tensorflow.python.keras.layers.convolutional.Conv2D object at 0x7fdd93d73c10>, <tensorflow.python.keras.layers.normalization_v2.BatchNormalization object at 0x7fdd93d6f7d0>, <tensorflow.python.keras.layers.core.Activation object at 0x7fdd93d65e10>, <tensorflow.python.keras.layers.convolutional.ZeroPadding2D object at 0x7fdd93d65e50>, <tensorflow.python.keras.layers.convolutional.DepthwiseConv2D object at 0x7fdd93d76550>, <tensorflow.python.keras.layers.normalization_v2.BatchNormalization object at 0x7fdd93d17750>, <tensorflow.python.keras.layers.core.Activation object at 0x7fdd93d17fd0>, <tensorflow.python.keras.layers.pooling.GlobalAveragePooling2D object at 0x7fdd93d06190>, <tensorflow.python.keras.layers.core.Reshape object at 0x7fdd93d48c10>, <tensorflow.python.keras.layers.convolutional.Conv2D object at 0x7fdd93d76350>, <tensorflow.python.keras.layers.convolutional.Conv2D object at 0x7fdd93d21cd0>, <tensorflow.python.keras.layers.merge.Multiply object at 0x7fdd93d1c910>, <tensorflow.python.keras.layers.convolutional.Conv2D object at 0x7fdd93cc1fd0>, <tensorflow.python.keras.layers.normalization_v2.BatchNormalization object at 0x7fdd93d25a50>, <tensorflow.python.keras.layers.convolutional.Conv2D object at 0x7fdd93d2ea10>, <tensorflow.python.keras.layers.normalization_v2.BatchNormalization object at 0x7fdd93d070d0>, <tensorflow.python.keras.layers.core.Activation object at 0x7fdd93cbeb10>, <tensorflow.python.keras.layers.convolutional.DepthwiseConv2D object at 0x7fdd93d41290>, <tensorflow.python.keras.layers.normalization_v2.BatchNormalization object at 0x7fdd93d2e7d0>, <tensorflow.python.keras.layers.core.Activation object at 0x7fdd93d17050>, <tensorflow.python.keras.layers.pooling.GlobalAveragePooling2D object at 0x7fdd93d0d5d0>, <tensorflow.python.keras.layers.core.Reshape object at 0x7fdd93d96e90>, <tensorflow.python.keras.layers.convolutional.Conv2D object at 0x7fdd93d87e90>, <tensorflow.python.keras.layers.convolutional.Conv2D object at 0x7fdd93cd00d0>, <tensorflow.python.keras.layers.merge.Multiply object at 0x7fdd93deb690>, <tensorflow.python.keras.layers.convolutional.Conv2D object at 0x7fdd93cc8d90>, <tensorflow.python.keras.layers.normalization_v2.BatchNormalization object at 0x7fdd93d8c390>, <tensorflow.python.keras.layers.core.Dropout object at 0x7fdd93ce27d0>, <tensorflow.python.keras.layers.merge.Add object at 0x7fdd93ce2490>, <tensorflow.python.keras.layers.convolutional.Conv2D object at 0x7fdd93cdea10>, <tensorflow.python.keras.layers.normalization_v2.BatchNormalization object at 0x7fdd93ce6cd0>, <tensorflow.python.keras.layers.core.Activation object at 0x7fdd93ce62d0>, <tensorflow.python.keras.layers.convolutional.DepthwiseConv2D object at 0x7fdd93cf3e50>, <tensorflow.python.keras.layers.normalization_v2.BatchNormalization object at 0x7fdd93cc89d0>, <tensorflow.python.keras.layers.core.Activation object at 0x7fdd93c88d90>, <tensorflow.python.keras.layers.pooling.GlobalAveragePooling2D object at 0x7fdd93c88dd0>, <tensorflow.python.keras.layers.core.Reshape object at 0x7fdd93cc84d0>, <tensorflow.python.keras.layers.convolutional.Conv2D object at 0x7fdd93ce21d0>, <tensorflow.python.keras.layers.convolutional.Conv2D object at 0x7fdd93c9ea50>, <tensorflow.python.keras.layers.merge.Multiply object at 0x7fdd93c8cbd0>, <tensorflow.python.keras.layers.convolutional.Conv2D object at 0x7fdd93cda690>, <tensorflow.python.keras.layers.normalization_v2.BatchNormalization object at 0x7fdd93caff90>, <tensorflow.python.keras.layers.core.Dropout object at 0x7fdd93cb7890>, <tensorflow.python.keras.layers.merge.Add object at 0x7fdd93cb7c10>, <tensorflow.python.keras.layers.convolutional.Conv2D object at 0x7fdd93ce2790>, <tensorflow.python.keras.layers.normalization_v2.BatchNormalization object at 0x7fdd93c438d0>, <tensorflow.python.keras.layers.core.Activation object at 0x7fdd93c43e10>, <tensorflow.python.keras.layers.convolutional.DepthwiseConv2D object at 0x7fdd93cb7210>, <tensorflow.python.keras.layers.normalization_v2.BatchNormalization object at 0x7fdd93c57190>, <tensorflow.python.keras.layers.core.Activation object at 0x7fdd93c60050>, <tensorflow.python.keras.layers.pooling.GlobalAveragePooling2D object at 0x7fdd93c60290>, <tensorflow.python.keras.layers.core.Reshape object at 0x7fdd93c98410>, <tensorflow.python.keras.layers.convolutional.Conv2D object at 0x7fdd93c834d0>, <tensorflow.python.keras.layers.convolutional.Conv2D object at 0x7fdd93c76890>, <tensorflow.python.keras.layers.merge.Multiply object at 0x7fdd93c62590>, <tensorflow.python.keras.layers.convolutional.Conv2D object at 0x7fdd93c0a710>, <tensorflow.python.keras.layers.normalization_v2.BatchNormalization object at 0x7fdd93c0a7d0>, <tensorflow.python.keras.layers.core.Dropout object at 0x7fdd93c3e9d0>, <tensorflow.python.keras.layers.merge.Add object at 0x7fdd93c0a050>, <tensorflow.python.keras.layers.convolutional.Conv2D object at 0x7fdd93c430d0>, <tensorflow.python.keras.layers.normalization_v2.BatchNormalization object at 0x7fdd93c56150>, <tensorflow.python.keras.layers.core.Activation object at 0x7fdd93c6e8d0>, <tensorflow.python.keras.layers.convolutional.DepthwiseConv2D object at 0x7fdd93c90110>, <tensorflow.python.keras.layers.normalization_v2.BatchNormalization object at 0x7fdd93e71790>, <tensorflow.python.keras.layers.core.Activation object at 0x7fdd93ed1050>, <tensorflow.python.keras.layers.pooling.GlobalAveragePooling2D object at 0x7fdd93cf3f10>, <tensorflow.python.keras.layers.core.Reshape object at 0x7fdd93c6ebd0>, <tensorflow.python.keras.layers.convolutional.Conv2D object at 0x7fdd93c90bd0>, <tensorflow.python.keras.layers.convolutional.Conv2D object at 0x7fdd93c18810>, <tensorflow.python.keras.layers.merge.Multiply object at 0x7fdd93c76ed0>, <tensorflow.python.keras.layers.convolutional.Conv2D object at 0x7fdd93c06290>, <tensorflow.python.keras.layers.normalization_v2.BatchNormalization object at 0x7fdd93c299d0>, <tensorflow.python.keras.layers.core.Dropout object at 0x7fdd93c35d10>, <tensorflow.python.keras.layers.merge.Add object at 0x7fdd93c32c50>, <tensorflow.python.keras.layers.convolutional.Conv2D object at 0x7fdd93c62310>, <tensorflow.python.keras.layers.normalization_v2.BatchNormalization object at 0x7fdd93c32710>, <tensorflow.python.keras.layers.core.Activation object at 0x7fdd93c35d50>, <tensorflow.python.keras.layers.convolutional.DepthwiseConv2D object at 0x7fdd93bcd0d0>, <tensorflow.python.keras.layers.normalization_v2.BatchNormalization object at 0x7fdd93c1b190>, <tensorflow.python.keras.layers.core.Activation object at 0x7fdd93bd6510>, <tensorflow.python.keras.layers.pooling.GlobalAveragePooling2D object at 0x7fdd93bc0a50>, <tensorflow.python.keras.layers.core.Reshape object at 0x7fdd93bebed0>, <tensorflow.python.keras.layers.convolutional.Conv2D object at 0x7fdd93bebf10>, <tensorflow.python.keras.layers.convolutional.Conv2D object at 0x7fdd93be4810>, <tensorflow.python.keras.layers.merge.Multiply object at 0x7fdd93b7cb90>, <tensorflow.python.keras.layers.convolutional.Conv2D object at 0x7fdd93bf2710>, <tensorflow.python.keras.layers.normalization_v2.BatchNormalization object at 0x7fdd93be4490>, <tensorflow.python.keras.layers.core.Dropout object at 0x7fdd93b872d0>, <tensorflow.python.keras.layers.merge.Add object at 0x7fdd93bbc650>, <tensorflow.python.keras.layers.convolutional.Conv2D object at 0x7fdd93c350d0>, <tensorflow.python.keras.layers.normalization_v2.BatchNormalization object at 0x7fdd93b94dd0>, <tensorflow.python.keras.layers.core.Activation object at 0x7fdd93b87310>, <tensorflow.python.keras.layers.convolutional.DepthwiseConv2D object at 0x7fdd93b9e450>, <tensorflow.python.keras.layers.normalization_v2.BatchNormalization object at 0x7fdd93b9e050>, <tensorflow.python.keras.layers.core.Activation object at 0x7fdd93ba1690>, <tensorflow.python.keras.layers.pooling.GlobalAveragePooling2D object at 0x7fdd93b877d0>, <tensorflow.python.keras.layers.core.Reshape object at 0x7fdd93bb4b10>, <tensorflow.python.keras.layers.convolutional.Conv2D object at 0x7fdd93b941d0>, <tensorflow.python.keras.layers.convolutional.Conv2D object at 0x7fdd93b40bd0>, <tensorflow.python.keras.layers.merge.Multiply object at 0x7fdd93b409d0>, <tensorflow.python.keras.layers.convolutional.Conv2D object at 0x7fdd93b40950>, <tensorflow.python.keras.layers.normalization_v2.BatchNormalization object at 0x7fdd93bb2910>, <tensorflow.python.keras.layers.core.Dropout object at 0x7fdd93bc5090>, <tensorflow.python.keras.layers.merge.Add object at 0x7fdd93bc0790>, <tensorflow.python.keras.layers.convolutional.Conv2D object at 0x7fdd93ce6f50>, <tensorflow.python.keras.layers.normalization_v2.BatchNormalization object at 0x7fdd93bb2a50>, <tensorflow.python.keras.layers.core.Activation object at 0x7fdd93be4a50>, <tensorflow.python.keras.layers.convolutional.DepthwiseConv2D object at 0x7fdd93b541d0>, <tensorflow.python.keras.layers.normalization_v2.BatchNormalization object at 0x7fdd93b4f910>, <tensorflow.python.keras.layers.core.Activation object at 0x7fdd93d25250>, <tensorflow.python.keras.layers.pooling.GlobalAveragePooling2D object at 0x7fdd93ca6cd0>, <tensorflow.python.keras.layers.core.Reshape object at 0x7fdd93b5ca50>, <tensorflow.python.keras.layers.convolutional.Conv2D object at 0x7fdd93b5c110>, <tensorflow.python.keras.layers.convolutional.Conv2D object at 0x7fdd93b78150>, <tensorflow.python.keras.layers.merge.Multiply object at 0x7fdd93b63050>, <tensorflow.python.keras.layers.convolutional.Conv2D object at 0x7fdd93ba9bd0>, <tensorflow.python.keras.layers.normalization_v2.BatchNormalization object at 0x7fdd93b71610>, <tensorflow.python.keras.layers.core.Dropout object at 0x7fdd93b14cd0>, <tensorflow.python.keras.layers.merge.Add object at 0x7fdd93b0d690>, <tensorflow.python.keras.layers.convolutional.Conv2D object at 0x7fdd93b142d0>, <tensorflow.python.keras.layers.normalization_v2.BatchNormalization object at 0x7fdd93b0d590>, <tensorflow.python.keras.layers.core.Activation object at 0x7fdd93b1dc10>, <tensorflow.python.keras.layers.convolutional.DepthwiseConv2D object at 0x7fdd93b22b90>, <tensorflow.python.keras.layers.normalization_v2.BatchNormalization object at 0x7fdd93b29110>, <tensorflow.python.keras.layers.core.Activation object at 0x7fdd93b1d6d0>, <tensorflow.python.keras.layers.pooling.GlobalAveragePooling2D object at 0x7fdd93b38890>, <tensorflow.python.keras.layers.core.Reshape object at 0x7fdd93b66a50>, <tensorflow.python.keras.layers.convolutional.Conv2D object at 0x7fdd93abe050>, <tensorflow.python.keras.layers.convolutional.Conv2D object at 0x7fdd93acf450>, <tensorflow.python.keras.layers.merge.Multiply object at 0x7fdd93b38450>, <tensorflow.python.keras.layers.convolutional.Conv2D object at 0x7fdd93ad73d0>, <tensorflow.python.keras.layers.normalization_v2.BatchNormalization object at 0x7fdd93acb810>, <tensorflow.python.keras.layers.core.Dropout object at 0x7fdd93aeb750>, <tensorflow.python.keras.layers.merge.Add object at 0x7fdd93ae73d0>, <tensorflow.python.keras.layers.convolutional.Conv2D object at 0x7fdd93ae2ed0>, <tensorflow.python.keras.layers.normalization_v2.BatchNormalization object at 0x7fdd93aeba50>, <tensorflow.python.keras.layers.core.Activation object at 0x7fdd93af0250>, <tensorflow.python.keras.layers.convolutional.DepthwiseConv2D object at 0x7fdd93af01d0>, <tensorflow.python.keras.layers.normalization_v2.BatchNormalization object at 0x7fdd93a96250>, <tensorflow.python.keras.layers.core.Activation object at 0x7fdd93af0f10>, <tensorflow.python.keras.layers.pooling.GlobalAveragePooling2D object at 0x7fdd93af2950>, <tensorflow.python.keras.layers.core.Reshape object at 0x7fdd93acb210>, <tensorflow.python.keras.layers.convolutional.Conv2D object at 0x7fdd93b35c50>, <tensorflow.python.keras.layers.convolutional.Conv2D object at 0x7fdd93a9ad50>, <tensorflow.python.keras.layers.merge.Multiply object at 0x7fdd93af2ed0>, <tensorflow.python.keras.layers.convolutional.Conv2D object at 0x7fdd93a84d90>, <tensorflow.python.keras.layers.normalization_v2.BatchNormalization object at 0x7fdd93b71150>, <tensorflow.python.keras.layers.core.Dropout object at 0x7fdd93b16b50>, <tensorflow.python.keras.layers.merge.Add object at 0x7fdd93b29710>, <tensorflow.python.keras.layers.convolutional.Conv2D object at 0x7fdd93be4cd0>, <tensorflow.python.keras.layers.normalization_v2.BatchNormalization object at 0x7fdd93b80350>, <tensorflow.python.keras.layers.core.Activation object at 0x7fdd93ac30d0>, <tensorflow.python.keras.layers.convolutional.DepthwiseConv2D object at 0x7fdd93c12a50>, <tensorflow.python.keras.layers.normalization_v2.BatchNormalization object at 0x7fdd93c12ad0>, <tensorflow.python.keras.layers.core.Activation object at 0x7fdd93b2e350>, <tensorflow.python.keras.layers.pooling.GlobalAveragePooling2D object at 0x7fdd93ac3b50>, <tensorflow.python.keras.layers.core.Reshape object at 0x7fdd93aa81d0>, <tensorflow.python.keras.layers.convolutional.Conv2D object at 0x7fdd93abb450>, <tensorflow.python.keras.layers.convolutional.Conv2D object at 0x7fdd93a3f1d0>, <tensorflow.python.keras.layers.merge.Multiply object at 0x7fdd93bb2650>, <tensorflow.python.keras.layers.convolutional.Conv2D object at 0x7fdd93a5a3d0>, <tensorflow.python.keras.layers.normalization_v2.BatchNormalization object at 0x7fdd93a5ab50>, <tensorflow.python.keras.layers.core.Dropout object at 0x7fdd93a696d0>, <tensorflow.python.keras.layers.merge.Add object at 0x7fdd93a57d10>, <tensorflow.python.keras.layers.convolutional.Conv2D object at 0x7fdd93a6f450>, <tensorflow.python.keras.layers.normalization_v2.BatchNormalization object at 0x7fdd93a6fd90>, <tensorflow.python.keras.layers.core.Activation object at 0x7fdd93a61d50>, <tensorflow.python.keras.layers.convolutional.DepthwiseConv2D object at 0x7fdd93a78150>, <tensorflow.python.keras.layers.normalization_v2.BatchNormalization object at 0x7fdd93a06050>, <tensorflow.python.keras.layers.core.Activation object at 0x7fdd93a618d0>, <tensorflow.python.keras.layers.pooling.GlobalAveragePooling2D object at 0x7fdd93a78e90>, <tensorflow.python.keras.layers.core.Reshape object at 0x7fdd93a472d0>, <tensorflow.python.keras.layers.convolutional.Conv2D object at 0x7fdd93a0e9d0>, <tensorflow.python.keras.layers.convolutional.Conv2D object at 0x7fdd93a06e90>, <tensorflow.python.keras.layers.merge.Multiply object at 0x7fdd93a2bf10>, <tensorflow.python.keras.layers.convolutional.Conv2D object at 0x7fdd93a11c90>, <tensorflow.python.keras.layers.normalization_v2.BatchNormalization object at 0x7fdd93a697d0>, <tensorflow.python.keras.layers.core.Dropout object at 0x7fdd93a37890>, <tensorflow.python.keras.layers.merge.Add object at 0x7fdd93a6bdd0>, <tensorflow.python.keras.layers.convolutional.Conv2D object at 0x7fdd93a3b7d0>, <tensorflow.python.keras.layers.normalization_v2.BatchNormalization object at 0x7fdd939fe810>, <tensorflow.python.keras.layers.core.Activation object at 0x7fdd93a378d0>, <tensorflow.python.keras.layers.convolutional.DepthwiseConv2D object at 0x7fdd939cff10>, <tensorflow.python.keras.layers.normalization_v2.BatchNormalization object at 0x7fdd939cf7d0>, <tensorflow.python.keras.layers.core.Activation object at 0x7fdd939c9910>, <tensorflow.python.keras.layers.pooling.GlobalAveragePooling2D object at 0x7fdd939c9450>, <tensorflow.python.keras.layers.core.Reshape object at 0x7fdd939df510>, <tensorflow.python.keras.layers.convolutional.Conv2D object at 0x7fdd939df150>, <tensorflow.python.keras.layers.convolutional.Conv2D object at 0x7fdd939d3090>, <tensorflow.python.keras.layers.merge.Multiply object at 0x7fdd93abba10>, <tensorflow.python.keras.layers.convolutional.Conv2D object at 0x7fdd93a14350>, <tensorflow.python.keras.layers.normalization_v2.BatchNormalization object at 0x7fdd939df5d0>, <tensorflow.python.keras.layers.core.Dropout object at 0x7fdd93b2e050>, <tensorflow.python.keras.layers.merge.Add object at 0x7fdd939e9550>, <tensorflow.python.keras.layers.convolutional.Conv2D object at 0x7fdd93bc5910>, <tensorflow.python.keras.layers.normalization_v2.BatchNormalization object at 0x7fdd93a3f350>, <tensorflow.python.keras.layers.core.Activation object at 0x7fdd939f6c90>, <tensorflow.python.keras.layers.convolutional.DepthwiseConv2D object at 0x7fdd9397d250>, <tensorflow.python.keras.layers.normalization_v2.BatchNormalization object at 0x7fdd939f9d90>, <tensorflow.python.keras.layers.core.Activation object at 0x7fdd939f6050>, <tensorflow.python.keras.layers.pooling.GlobalAveragePooling2D object at 0x7fdd939f6c10>, <tensorflow.python.keras.layers.core.Reshape object at 0x7fdd939dfa10>, <tensorflow.python.keras.layers.convolutional.Conv2D object at 0x7fdd93983810>, <tensorflow.python.keras.layers.convolutional.Conv2D object at 0x7fdd939a01d0>, <tensorflow.python.keras.layers.merge.Multiply object at 0x7fdd9398f090>, <tensorflow.python.keras.layers.convolutional.Conv2D object at 0x7fdd93a06450>, <tensorflow.python.keras.layers.normalization_v2.BatchNormalization object at 0x7fdd939b7bd0>, <tensorflow.python.keras.layers.convolutional.Conv2D object at 0x7fdd939b7e10>, <tensorflow.python.keras.layers.normalization_v2.BatchNormalization object at 0x7fdd939ba850>, <tensorflow.python.keras.layers.core.Activation object at 0x7fdd939bad90>, <tensorflow.python.keras.layers.convolutional.DepthwiseConv2D object at 0x7fdd9393d1d0>, <tensorflow.python.keras.layers.normalization_v2.BatchNormalization object at 0x7fdd93946750>, <tensorflow.python.keras.layers.core.Activation object at 0x7fdd939517d0>, <tensorflow.python.keras.layers.pooling.GlobalAveragePooling2D object at 0x7fdd939466d0>, <tensorflow.python.keras.layers.core.Reshape object at 0x7fdd93966a50>, <tensorflow.python.keras.layers.convolutional.Conv2D object at 0x7fdd93983310>, <tensorflow.python.keras.layers.convolutional.Conv2D object at 0x7fdd9395e850>, <tensorflow.python.keras.layers.merge.Multiply object at 0x7fdd9397aed0>, <tensorflow.python.keras.layers.convolutional.Conv2D object at 0x7fdd9396c850>, <tensorflow.python.keras.layers.normalization_v2.BatchNormalization object at 0x7fdd938fed90>, <tensorflow.python.keras.layers.core.Dropout object at 0x7fdd939513d0>, <tensorflow.python.keras.layers.merge.Add object at 0x7fdd939e9fd0>, <tensorflow.python.keras.layers.convolutional.Conv2D object at 0x7fdd93908910>, <tensorflow.python.keras.layers.normalization_v2.BatchNormalization object at 0x7fdd939145d0>, <tensorflow.python.keras.layers.core.Activation object at 0x7fdd93914590>, <tensorflow.python.keras.layers.convolutional.DepthwiseConv2D object at 0x7fdd9391e750>, <tensorflow.python.keras.layers.normalization_v2.BatchNormalization object at 0x7fdd9395e410>, <tensorflow.python.keras.layers.core.Activation object at 0x7fdd93934f10>, <tensorflow.python.keras.layers.pooling.GlobalAveragePooling2D object at 0x7fdd93966550>, <tensorflow.python.keras.layers.core.Reshape object at 0x7fdd93966590>, <tensorflow.python.keras.layers.convolutional.Conv2D object at 0x7fdd9391e650>, <tensorflow.python.keras.layers.convolutional.Conv2D object at 0x7fdd939ae990>, <tensorflow.python.keras.layers.merge.Multiply object at 0x7fdd93934650>, <tensorflow.python.keras.layers.convolutional.Conv2D object at 0x7fdd93992710>, <tensorflow.python.keras.layers.normalization_v2.BatchNormalization object at 0x7fdd93983a10>, <tensorflow.python.keras.layers.core.Dropout object at 0x7fdd93b03bd0>, <tensorflow.python.keras.layers.merge.Add object at 0x7fdd939f6750>, <tensorflow.python.keras.layers.convolutional.Conv2D object at 0x7fdd93a37690>, <tensorflow.python.keras.layers.normalization_v2.BatchNormalization object at 0x7fdd939f1210>, <tensorflow.python.keras.layers.core.Activation object at 0x7fdd9397d910>, <tensorflow.python.keras.layers.convolutional.DepthwiseConv2D object at 0x7fdd93a2d590>, <tensorflow.python.keras.layers.normalization_v2.BatchNormalization object at 0x7fdd9391e350>, <tensorflow.python.keras.layers.core.Activation object at 0x7fdd938c2710>, <tensorflow.python.keras.layers.pooling.GlobalAveragePooling2D object at 0x7fdd938d5110>, <tensorflow.python.keras.layers.core.Reshape object at 0x7fdd9391abd0>, <tensorflow.python.keras.layers.convolutional.Conv2D object at 0x7fdd938d9490>, <tensorflow.python.keras.layers.convolutional.Conv2D object at 0x7fdd938ec350>, <tensorflow.python.keras.layers.merge.Multiply object at 0x7fdd938d58d0>, <tensorflow.python.keras.layers.convolutional.Conv2D object at 0x7fdd938f22d0>, <tensorflow.python.keras.layers.normalization_v2.BatchNormalization object at 0x7fdd938e6310>, <tensorflow.python.keras.layers.core.Dropout object at 0x7fdd938faad0>, <tensorflow.python.keras.layers.merge.Add object at 0x7fdd93b22bd0>, <tensorflow.python.keras.layers.convolutional.Conv2D object at 0x7fdd939f61d0>, <tensorflow.python.keras.layers.normalization_v2.BatchNormalization object at 0x7fdd93898b10>, <tensorflow.python.keras.layers.core.Activation object at 0x7fdd938a0a10>]\n"
          ],
          "name": "stdout"
        }
      ]
    },
    {
      "cell_type": "markdown",
      "metadata": {
        "id": "OBefvSexLzEJ"
      },
      "source": [
        "You should try to fine-tune a small number of top layers rather than the whole MobileNet model. In most convolutional networks, the higher up a layer is, the more specialized it is. The first few layers learn very simple and generic features that generalize to almost all types of images. As you go higher up, the features are increasingly more specific to the dataset on which the model was trained. The goal of fine-tuning is to adapt these specialized features to work with the new dataset, rather than overwrite the generic learning."
      ]
    },
    {
      "cell_type": "code",
      "metadata": {
        "id": "NQPJWU-JLzEK"
      },
      "source": [
        "# Decide the number of layers you want to freeze and freeze them.\r\n",
        "for layer in base_model.layers[:fine_tune_at]:\r\n",
        "  layer.trainable =  False"
      ],
      "execution_count": 23,
      "outputs": []
    },
    {
      "cell_type": "code",
      "metadata": {
        "colab": {
          "base_uri": "https://localhost:8080/"
        },
        "id": "_2g6n8acLzEK",
        "outputId": "bd6d3168-179b-4709-b7c6-7e45e3029a7f"
      },
      "source": [
        "# compile the model again.\r\n",
        "# It is advisable to use a lower learning rate here so that updates are not too huge and the model does not overfit.\r\n",
        "# print model summary\r\n",
        "model.compile(optimizer=tf.keras.optimizers.Adam(lr=learning_rate),\r\n",
        "              loss=tf.keras.losses.CategoricalCrossentropy(),\r\n",
        "              metrics=['accuracy'])\r\n",
        "print(model.summary())"
      ],
      "execution_count": 24,
      "outputs": [
        {
          "output_type": "stream",
          "text": [
            "Model: \"model\"\n",
            "_________________________________________________________________\n",
            "Layer (type)                 Output Shape              Param #   \n",
            "=================================================================\n",
            "input_2 (InputLayer)         [(None, 200, 200, 3)]     0         \n",
            "_________________________________________________________________\n",
            "sequential (Sequential)      (None, 200, 200, 3)       0         \n",
            "_________________________________________________________________\n",
            "efficientnetb7 (Functional)  (None, 7, 7, 2560)        64097687  \n",
            "_________________________________________________________________\n",
            "global_average_pooling2d (Gl (None, 2560)              0         \n",
            "_________________________________________________________________\n",
            "dropout (Dropout)            (None, 2560)              0         \n",
            "_________________________________________________________________\n",
            "dense (Dense)                (None, 3)                 7683      \n",
            "=================================================================\n",
            "Total params: 64,105,370\n",
            "Trainable params: 63,668,843\n",
            "Non-trainable params: 436,527\n",
            "_________________________________________________________________\n",
            "None\n"
          ],
          "name": "stdout"
        }
      ]
    },
    {
      "cell_type": "code",
      "metadata": {
        "colab": {
          "base_uri": "https://localhost:8080/"
        },
        "id": "KhChPAs8LzEL",
        "outputId": "93345433-f711-4414-83a7-113f2bfbe9dd"
      },
      "source": [
        "# fit the model again.\r\n",
        "total_epochs =  epochs + 100\r\n",
        "\r\n",
        "history_fine = model.fit(train_dataset,\r\n",
        "                         epochs=total_epochs,\r\n",
        "                         initial_epoch=history.epoch[-1])"
      ],
      "execution_count": 25,
      "outputs": [
        {
          "output_type": "stream",
          "text": [
            "Epoch 400/500\n",
            "7/7 [==============================] - 38s 1s/step - loss: 0.4301 - accuracy: 0.8962\n",
            "Epoch 401/500\n",
            "7/7 [==============================] - 9s 1s/step - loss: 0.3850 - accuracy: 0.9020\n",
            "Epoch 402/500\n",
            "7/7 [==============================] - 9s 1s/step - loss: 0.3255 - accuracy: 0.9350\n",
            "Epoch 403/500\n",
            "7/7 [==============================] - 9s 1s/step - loss: 0.2746 - accuracy: 0.9569\n",
            "Epoch 404/500\n",
            "7/7 [==============================] - 9s 1s/step - loss: 0.2192 - accuracy: 0.9733\n",
            "Epoch 405/500\n",
            "7/7 [==============================] - 9s 1s/step - loss: 0.2139 - accuracy: 0.9256\n",
            "Epoch 406/500\n",
            "7/7 [==============================] - 9s 1s/step - loss: 0.1631 - accuracy: 0.9566\n",
            "Epoch 407/500\n",
            "7/7 [==============================] - 9s 1s/step - loss: 0.1288 - accuracy: 0.9865\n",
            "Epoch 408/500\n",
            "7/7 [==============================] - 9s 1s/step - loss: 0.1377 - accuracy: 0.9764\n",
            "Epoch 409/500\n",
            "7/7 [==============================] - 9s 1s/step - loss: 0.1370 - accuracy: 0.9552\n",
            "Epoch 410/500\n",
            "7/7 [==============================] - 9s 1s/step - loss: 0.0570 - accuracy: 1.0000\n",
            "Epoch 411/500\n",
            "7/7 [==============================] - 9s 1s/step - loss: 0.0592 - accuracy: 0.9974\n",
            "Epoch 412/500\n",
            "7/7 [==============================] - 9s 1s/step - loss: 0.0592 - accuracy: 0.9789\n",
            "Epoch 413/500\n",
            "7/7 [==============================] - 9s 1s/step - loss: 0.0589 - accuracy: 0.9964\n",
            "Epoch 414/500\n",
            "7/7 [==============================] - 9s 1s/step - loss: 0.0484 - accuracy: 0.9964\n",
            "Epoch 415/500\n",
            "7/7 [==============================] - 9s 1s/step - loss: 0.0341 - accuracy: 1.0000\n",
            "Epoch 416/500\n",
            "7/7 [==============================] - 9s 1s/step - loss: 0.0238 - accuracy: 1.0000\n",
            "Epoch 417/500\n",
            "7/7 [==============================] - 9s 1s/step - loss: 0.0232 - accuracy: 1.0000\n",
            "Epoch 418/500\n",
            "7/7 [==============================] - 9s 1s/step - loss: 0.0187 - accuracy: 0.9974\n",
            "Epoch 419/500\n",
            "7/7 [==============================] - 9s 1s/step - loss: 0.0178 - accuracy: 1.0000\n",
            "Epoch 420/500\n",
            "7/7 [==============================] - 9s 1s/step - loss: 0.0129 - accuracy: 1.0000\n",
            "Epoch 421/500\n",
            "7/7 [==============================] - 9s 1s/step - loss: 0.0119 - accuracy: 1.0000\n",
            "Epoch 422/500\n",
            "7/7 [==============================] - 9s 1s/step - loss: 0.0099 - accuracy: 1.0000\n",
            "Epoch 423/500\n",
            "7/7 [==============================] - 9s 1s/step - loss: 0.0108 - accuracy: 1.0000\n",
            "Epoch 424/500\n",
            "7/7 [==============================] - 9s 1s/step - loss: 0.0074 - accuracy: 1.0000\n",
            "Epoch 425/500\n",
            "7/7 [==============================] - 9s 1s/step - loss: 0.0085 - accuracy: 1.0000\n",
            "Epoch 426/500\n",
            "7/7 [==============================] - 9s 1s/step - loss: 0.0067 - accuracy: 1.0000\n",
            "Epoch 427/500\n",
            "7/7 [==============================] - 9s 1s/step - loss: 0.0053 - accuracy: 1.0000\n",
            "Epoch 428/500\n",
            "7/7 [==============================] - 9s 1s/step - loss: 0.0043 - accuracy: 1.0000\n",
            "Epoch 429/500\n",
            "7/7 [==============================] - 9s 1s/step - loss: 0.0075 - accuracy: 1.0000\n",
            "Epoch 430/500\n",
            "7/7 [==============================] - 9s 1s/step - loss: 0.0042 - accuracy: 1.0000\n",
            "Epoch 431/500\n",
            "7/7 [==============================] - 9s 1s/step - loss: 0.0094 - accuracy: 1.0000\n",
            "Epoch 432/500\n",
            "7/7 [==============================] - 9s 1s/step - loss: 0.0039 - accuracy: 1.0000\n",
            "Epoch 433/500\n",
            "7/7 [==============================] - 9s 1s/step - loss: 0.0114 - accuracy: 0.9932\n",
            "Epoch 434/500\n",
            "7/7 [==============================] - 9s 1s/step - loss: 0.0053 - accuracy: 1.0000\n",
            "Epoch 435/500\n",
            "7/7 [==============================] - 9s 1s/step - loss: 0.0028 - accuracy: 1.0000\n",
            "Epoch 436/500\n",
            "7/7 [==============================] - 9s 1s/step - loss: 0.0021 - accuracy: 1.0000\n",
            "Epoch 437/500\n",
            "7/7 [==============================] - 9s 1s/step - loss: 0.0021 - accuracy: 1.0000\n",
            "Epoch 438/500\n",
            "7/7 [==============================] - 9s 1s/step - loss: 0.0022 - accuracy: 1.0000\n",
            "Epoch 439/500\n",
            "7/7 [==============================] - 9s 1s/step - loss: 0.0024 - accuracy: 1.0000\n",
            "Epoch 440/500\n",
            "7/7 [==============================] - 9s 1s/step - loss: 0.0029 - accuracy: 1.0000\n",
            "Epoch 441/500\n",
            "7/7 [==============================] - 9s 1s/step - loss: 0.0018 - accuracy: 1.0000\n",
            "Epoch 442/500\n",
            "7/7 [==============================] - 9s 1s/step - loss: 0.0020 - accuracy: 1.0000\n",
            "Epoch 443/500\n",
            "7/7 [==============================] - 9s 1s/step - loss: 0.0012 - accuracy: 1.0000\n",
            "Epoch 444/500\n",
            "7/7 [==============================] - 9s 1s/step - loss: 0.0013 - accuracy: 1.0000\n",
            "Epoch 445/500\n",
            "7/7 [==============================] - 9s 1s/step - loss: 0.0018 - accuracy: 1.0000\n",
            "Epoch 446/500\n",
            "7/7 [==============================] - 9s 1s/step - loss: 0.0018 - accuracy: 1.0000\n",
            "Epoch 447/500\n",
            "7/7 [==============================] - 9s 1s/step - loss: 0.0015 - accuracy: 1.0000\n",
            "Epoch 448/500\n",
            "7/7 [==============================] - 9s 1s/step - loss: 0.0012 - accuracy: 1.0000\n",
            "Epoch 449/500\n",
            "7/7 [==============================] - 9s 1s/step - loss: 0.0012 - accuracy: 1.0000\n",
            "Epoch 450/500\n",
            "7/7 [==============================] - 9s 1s/step - loss: 0.0011 - accuracy: 1.0000\n",
            "Epoch 451/500\n",
            "7/7 [==============================] - 9s 1s/step - loss: 0.0013 - accuracy: 1.0000\n",
            "Epoch 452/500\n",
            "7/7 [==============================] - 9s 1s/step - loss: 0.0013 - accuracy: 1.0000\n",
            "Epoch 453/500\n",
            "7/7 [==============================] - 9s 1s/step - loss: 9.2367e-04 - accuracy: 1.0000\n",
            "Epoch 454/500\n",
            "7/7 [==============================] - 9s 1s/step - loss: 6.7054e-04 - accuracy: 1.0000\n",
            "Epoch 455/500\n",
            "7/7 [==============================] - 9s 1s/step - loss: 9.2525e-04 - accuracy: 1.0000\n",
            "Epoch 456/500\n",
            "7/7 [==============================] - 9s 1s/step - loss: 9.6631e-04 - accuracy: 1.0000\n",
            "Epoch 457/500\n",
            "7/7 [==============================] - 9s 1s/step - loss: 0.0011 - accuracy: 1.0000\n",
            "Epoch 458/500\n",
            "7/7 [==============================] - 9s 1s/step - loss: 8.8273e-04 - accuracy: 1.0000\n",
            "Epoch 459/500\n",
            "7/7 [==============================] - 9s 1s/step - loss: 5.8973e-04 - accuracy: 1.0000\n",
            "Epoch 460/500\n",
            "7/7 [==============================] - 9s 1s/step - loss: 4.8040e-04 - accuracy: 1.0000\n",
            "Epoch 461/500\n",
            "7/7 [==============================] - 9s 1s/step - loss: 6.5321e-04 - accuracy: 1.0000\n",
            "Epoch 462/500\n",
            "7/7 [==============================] - 9s 1s/step - loss: 5.4164e-04 - accuracy: 1.0000\n",
            "Epoch 463/500\n",
            "7/7 [==============================] - 9s 1s/step - loss: 6.3854e-04 - accuracy: 1.0000\n",
            "Epoch 464/500\n",
            "7/7 [==============================] - 9s 1s/step - loss: 6.1975e-04 - accuracy: 1.0000\n",
            "Epoch 465/500\n",
            "7/7 [==============================] - 9s 1s/step - loss: 9.1110e-04 - accuracy: 1.0000\n",
            "Epoch 466/500\n",
            "7/7 [==============================] - 9s 1s/step - loss: 6.8664e-04 - accuracy: 1.0000\n",
            "Epoch 467/500\n",
            "7/7 [==============================] - 9s 1s/step - loss: 6.8646e-04 - accuracy: 1.0000\n",
            "Epoch 468/500\n",
            "7/7 [==============================] - 9s 1s/step - loss: 5.0791e-04 - accuracy: 1.0000\n",
            "Epoch 469/500\n",
            "7/7 [==============================] - 9s 1s/step - loss: 4.0510e-04 - accuracy: 1.0000\n",
            "Epoch 470/500\n",
            "7/7 [==============================] - 9s 1s/step - loss: 3.9849e-04 - accuracy: 1.0000\n",
            "Epoch 471/500\n",
            "7/7 [==============================] - 9s 1s/step - loss: 4.2265e-04 - accuracy: 1.0000\n",
            "Epoch 472/500\n",
            "7/7 [==============================] - 9s 1s/step - loss: 4.0335e-04 - accuracy: 1.0000\n",
            "Epoch 473/500\n",
            "7/7 [==============================] - 9s 1s/step - loss: 7.0913e-04 - accuracy: 1.0000\n",
            "Epoch 474/500\n",
            "7/7 [==============================] - 9s 1s/step - loss: 3.2832e-04 - accuracy: 1.0000\n",
            "Epoch 475/500\n",
            "7/7 [==============================] - 9s 1s/step - loss: 5.5152e-04 - accuracy: 1.0000\n",
            "Epoch 476/500\n",
            "7/7 [==============================] - 9s 1s/step - loss: 3.2539e-04 - accuracy: 1.0000\n",
            "Epoch 477/500\n",
            "7/7 [==============================] - 9s 1s/step - loss: 2.9246e-04 - accuracy: 1.0000\n",
            "Epoch 478/500\n",
            "7/7 [==============================] - 9s 1s/step - loss: 6.8521e-04 - accuracy: 1.0000\n",
            "Epoch 479/500\n",
            "7/7 [==============================] - 9s 1s/step - loss: 4.4676e-04 - accuracy: 1.0000\n",
            "Epoch 480/500\n",
            "7/7 [==============================] - 9s 1s/step - loss: 2.7990e-04 - accuracy: 1.0000\n",
            "Epoch 481/500\n",
            "7/7 [==============================] - 9s 1s/step - loss: 4.2740e-04 - accuracy: 1.0000\n",
            "Epoch 482/500\n",
            "7/7 [==============================] - 9s 1s/step - loss: 4.3498e-04 - accuracy: 1.0000\n",
            "Epoch 483/500\n",
            "7/7 [==============================] - 9s 1s/step - loss: 2.8417e-04 - accuracy: 1.0000\n",
            "Epoch 484/500\n",
            "7/7 [==============================] - 9s 1s/step - loss: 2.4399e-04 - accuracy: 1.0000\n",
            "Epoch 485/500\n",
            "7/7 [==============================] - 9s 1s/step - loss: 3.2155e-04 - accuracy: 1.0000\n",
            "Epoch 486/500\n",
            "7/7 [==============================] - 9s 1s/step - loss: 3.7262e-04 - accuracy: 1.0000\n",
            "Epoch 487/500\n",
            "7/7 [==============================] - 9s 1s/step - loss: 4.7551e-04 - accuracy: 1.0000\n",
            "Epoch 488/500\n",
            "7/7 [==============================] - 9s 1s/step - loss: 2.8643e-04 - accuracy: 1.0000\n",
            "Epoch 489/500\n",
            "7/7 [==============================] - 9s 1s/step - loss: 4.2221e-04 - accuracy: 1.0000\n",
            "Epoch 490/500\n",
            "7/7 [==============================] - 9s 1s/step - loss: 2.6518e-04 - accuracy: 1.0000\n",
            "Epoch 491/500\n",
            "7/7 [==============================] - 9s 1s/step - loss: 4.5533e-04 - accuracy: 1.0000\n",
            "Epoch 492/500\n",
            "7/7 [==============================] - 9s 1s/step - loss: 3.5588e-04 - accuracy: 1.0000\n",
            "Epoch 493/500\n",
            "7/7 [==============================] - 9s 1s/step - loss: 2.1365e-04 - accuracy: 1.0000\n",
            "Epoch 494/500\n",
            "7/7 [==============================] - 9s 1s/step - loss: 2.1442e-04 - accuracy: 1.0000\n",
            "Epoch 495/500\n",
            "7/7 [==============================] - 9s 1s/step - loss: 1.6431e-04 - accuracy: 1.0000\n",
            "Epoch 496/500\n",
            "7/7 [==============================] - 9s 1s/step - loss: 3.3939e-04 - accuracy: 1.0000\n",
            "Epoch 497/500\n",
            "7/7 [==============================] - 9s 1s/step - loss: 3.3129e-04 - accuracy: 1.0000\n",
            "Epoch 498/500\n",
            "7/7 [==============================] - 9s 1s/step - loss: 2.0819e-04 - accuracy: 1.0000\n",
            "Epoch 499/500\n",
            "7/7 [==============================] - 9s 1s/step - loss: 1.8219e-04 - accuracy: 1.0000\n",
            "Epoch 500/500\n",
            "7/7 [==============================] - 9s 1s/step - loss: 2.8128e-04 - accuracy: 1.0000\n"
          ],
          "name": "stdout"
        }
      ]
    },
    {
      "cell_type": "code",
      "metadata": {
        "id": "EyGUJo7jLzEL",
        "colab": {
          "base_uri": "https://localhost:8080/",
          "height": 591
        },
        "outputId": "fdc36262-bf47-4ae4-acb8-63962654f666"
      },
      "source": [
        "# plot the loss and accuracy curves again\r\n",
        "model_path = os.path.join(os.getcwd(),\"model2\")\r\n",
        "model.save(model_path)\r\n",
        "hist_fine_acc = history_fine.history['accuracy']\r\n",
        "hist_fine_loss = history_fine.history['loss']\r\n",
        "plt.plot( hist_fine_loss)\r\n",
        "plt.title('model loss')\r\n",
        "plt.ylabel('loss')\r\n",
        "plt.xlabel('epoch')\r\n",
        "plt.show()\r\n",
        "plt.plot( hist_fine_acc )\r\n",
        "plt.title('model accuracy')\r\n",
        "plt.ylabel('accuracy')\r\n",
        "plt.xlabel('epoch')\r\n",
        "plt.show()"
      ],
      "execution_count": 26,
      "outputs": [
        {
          "output_type": "stream",
          "text": [
            "INFO:tensorflow:Assets written to: /content/model2/assets\n"
          ],
          "name": "stdout"
        },
        {
          "output_type": "display_data",
          "data": {
            "image/png": "[encoded data removed]",
            "text/plain": [
              "<Figure size 432x288 with 1 Axes>"
            ]
          },
          "metadata": {
            "tags": [],
            "needs_background": "light"
          }
        },
        {
          "output_type": "display_data",
          "data": {
            "image/png": "[encoded data removed]",
            "text/plain": [
              "<Figure size 432x288 with 1 Axes>"
            ]
          },
          "metadata": {
            "tags": [],
            "needs_background": "light"
          }
        }
      ]
    },
    {
      "cell_type": "markdown",
      "metadata": {
        "id": "JjaSPKstLzEM"
      },
      "source": [
        "### Prediction"
      ]
    },
    {
      "cell_type": "markdown",
      "metadata": {
        "id": "9ZpCd8RpLzEM"
      },
      "source": [
        "Now we will use our model to make predictions on test set. Store the predictions like in sample_submission.csv file. \r\n",
        "\r\n",
        "sample_submission.csv\r\n",
        "- 4 columns\r\n",
        "- 1 row for each test image (total 853 rows)\r\n",
        "- 1st column = image file name\r\n",
        "- 2nd column = probability of the given image being qingqi\r\n",
        "- 3rd column = probability of the given image being rickshaw\r\n",
        "- 4th column = probability of the given image being tanga"
      ]
    },
    {
      "cell_type": "code",
      "metadata": {
        "id": "fwZO_I3k28Z-"
      },
      "source": [
        "\r\n",
        "def test_img_label_generator(filepaths,input_shape):\r\n",
        "  images = []\r\n",
        "  for filepath in filepaths:\r\n",
        "    img = cv2.imread(filepath)\r\n",
        "    img = cv2.cvtColor(img, cv2.COLOR_BGR2RGB)\r\n",
        "    img = img / 255.0\r\n",
        "    img = resize(img, input_shape, preserve_range=True)\r\n",
        "    yield img\r\n",
        "def test_batch_data_generator(filepaths = [],input_shape = (256,256,3),batch_size = 32):\r\n",
        "  running = True\r\n",
        "  while running:\r\n",
        "    img_batch = []\r\n",
        "    gen = test_img_label_generator(filepaths,input_shape)\r\n",
        "    for img in tqdm(gen):\r\n",
        "      img_batch.append(img)\r\n",
        "      if len(img_batch) == batch_size:\r\n",
        "        yield np.stack(img_batch,axis = 0)\r\n",
        "        img_batch = []\r\n",
        "      if len(img_batch) != 0:\r\n",
        "        yield np.stack(img_batch,axis = 0)\r\n",
        "        img_batch = []\r\n",
        "        "
      ],
      "execution_count": 27,
      "outputs": []
    },
    {
      "cell_type": "code",
      "metadata": {
        "id": "iiRvX69VLzEP"
      },
      "source": [
        "# Read and preprocess test data. Remeber to store the names of image files\r\n",
        "qingqi_preds,rickshaw_preds,tanga_preds = [],[],[]\r\n",
        "for path in testing_paths:\r\n",
        "  img = keras.preprocessing.image.load_img(\r\n",
        "    path, target_size=input_shape +(3,)\r\n",
        "  )\r\n",
        "  img_array = keras.preprocessing.image.img_to_array(img)\r\n",
        "  img_array = tf.expand_dims(img_array, 0)  \r\n",
        "  predictions = model.predict(img_array)\r\n",
        "  qingqi = predictions[0][0]\r\n",
        "  rickshaw = predictions[0][1]\r\n",
        "  tanga = predictions[0][2]\r\n",
        "  qingqi_preds.append(qingqi)\r\n",
        "  rickshaw_preds.append(rickshaw)\r\n",
        "  tanga_preds.append(tanga)"
      ],
      "execution_count": 28,
      "outputs": []
    },
    {
      "cell_type": "code",
      "metadata": {
        "id": "KSlKnAfJLzEP"
      },
      "source": [
        "# store the predictions in a .csv file like in sample_submission.csv (Hint: pandas may be helpful here)\r\n",
        "import pandas as pd\r\n",
        "test_filenames = [f.split(\"/\")[-1].split(\".jpg\")[0] for f in testing_paths]\r\n",
        "data = {'id': test_filenames, 'qingqi':qingqi_preds, 'rickshaw': rickshaw_preds,'tanga':tanga_preds}\r\n",
        "df = pd.DataFrame(data = data)"
      ],
      "execution_count": 29,
      "outputs": []
    },
    {
      "cell_type": "code",
      "metadata": {
        "id": "tmPXfjwxLzEQ"
      },
      "source": [
        "df.to_csv(\"submission.csv\",index= False)"
      ],
      "execution_count": 30,
      "outputs": []
    }
  ]
}